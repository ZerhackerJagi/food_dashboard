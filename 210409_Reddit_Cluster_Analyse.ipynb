{
 "cells": [
  {
   "cell_type": "code",
   "execution_count": 1,
   "id": "simplified-consumer",
   "metadata": {},
   "outputs": [],
   "source": [
    "import praw\n",
    "import pandas as pd\n",
    "from datetime import datetime, timedelta\n",
    "import requests\n",
    "import json\n",
    "import matplotlib.pyplot as plt\n",
    "import matplotlib.dates as pdt\n",
    "import mysql.connector\n",
    "import re\n",
    "from tqdm import tqdm\n",
    "\n",
    "\n",
    "from sklearn.feature_extraction.text import CountVectorizer, TfidfVectorizer\n",
    "from sklearn.decomposition import TruncatedSVD, NMF\n",
    "from sklearn.metrics.pairwise import cosine_similarity\n",
    "from sklearn.metrics import silhouette_score\n",
    "from sklearn.cluster import MiniBatchKMeans\n",
    "from sklearn.decomposition import PCA\n",
    "\n",
    "from gensim import corpora, models, similarities, matutils\n",
    "from sklearn.cluster import KMeans, DBSCAN\n",
    "\n",
    "\n",
    "import spacy\n",
    "nlp = spacy.load(\"en_core_web_sm\", disable=['parser', 'ner'])"
   ]
  },
  {
   "cell_type": "markdown",
   "id": "hundred-porter",
   "metadata": {},
   "source": [
    "# Data Setup"
   ]
  },
  {
   "cell_type": "code",
   "execution_count": 2,
   "id": "metric-burlington",
   "metadata": {},
   "outputs": [],
   "source": [
    "db_connection = mysql.connector.connect(\n",
    "  host= \"wp.jagi.wtf\",\n",
    "  user= \"redditu\",\n",
    "  password= \"redditMaster\",\n",
    "  database=\"reddit\"\n",
    "  )\n"
   ]
  },
  {
   "cell_type": "code",
   "execution_count": 3,
   "id": "instrumental-section",
   "metadata": {},
   "outputs": [],
   "source": [
    "cursor = db_connection.cursor()"
   ]
  },
  {
   "cell_type": "code",
   "execution_count": 4,
   "id": "approved-cricket",
   "metadata": {},
   "outputs": [],
   "source": [
    "dfr = pd.read_sql(\"SELECT * FROM reddit\", db_connection)"
   ]
  },
  {
   "cell_type": "code",
   "execution_count": 62,
   "id": "indonesian-genetics",
   "metadata": {},
   "outputs": [],
   "source": [
    "dfr_wod = dfr.drop_duplicates(subset=[\"title\"]).copy()"
   ]
  },
  {
   "cell_type": "markdown",
   "id": "given-opposition",
   "metadata": {},
   "source": [
    "# Cleaning Data"
   ]
  },
  {
   "cell_type": "code",
   "execution_count": 63,
   "id": "bottom-strap",
   "metadata": {},
   "outputs": [],
   "source": [
    "def clean_data(title):\n",
    "    cleaned_title = re.sub(r\"\\W\", \" \", title)\n",
    "    cleaned_title = cleaned_title.lower()\n",
    "    return cleaned_title"
   ]
  },
  {
   "cell_type": "code",
   "execution_count": 64,
   "id": "constant-advocacy",
   "metadata": {},
   "outputs": [],
   "source": [
    "def get_specifier(title):\n",
    "    cleaned_title = re.findall(r\"\\[((\\w|\\/| )*)\\]\", title)\n",
    "    \n",
    "    #\\[([homemade]|[i ate]|[pro/chef])*\\]\n",
    "    #\"\\[.*\\]\"\n",
    "    \n",
    "    if cleaned_title:\n",
    "        cleaned_title = cleaned_title[0][0].lower()\n",
    "        if cleaned_title in [\"homemade\", \"i ate\", \"pro/chef\"]:\n",
    "            return cleaned_title\n",
    "    return \"other\"\n",
    "    "
   ]
  },
  {
   "cell_type": "code",
   "execution_count": 65,
   "id": "intended-cartridge",
   "metadata": {},
   "outputs": [],
   "source": [
    "dfr_wod.insert(0, column=\"cleaned_title\", value=dfr_wod[\"title\"].apply(clean_data))"
   ]
  },
  {
   "cell_type": "code",
   "execution_count": 66,
   "id": "honey-completion",
   "metadata": {},
   "outputs": [],
   "source": [
    "dfr_wod.insert(0, column=\"specifier_title\", value=dfr_wod[\"title\"].apply(get_specifier))"
   ]
  },
  {
   "cell_type": "code",
   "execution_count": 67,
   "id": "illegal-wireless",
   "metadata": {},
   "outputs": [
    {
     "data": {
      "text/plain": [
       "homemade    12452\n",
       "i ate        1930\n",
       "pro/chef      284\n",
       "other           4\n",
       "Name: specifier_title, dtype: int64"
      ]
     },
     "execution_count": 67,
     "metadata": {},
     "output_type": "execute_result"
    }
   ],
   "source": [
    "dfr_wod[\"specifier_title\"].value_counts()"
   ]
  },
  {
   "cell_type": "code",
   "execution_count": 69,
   "id": "increasing-general",
   "metadata": {},
   "outputs": [
    {
     "data": {
      "text/plain": [
       "(array([2.8400e+02, 0.0000e+00, 0.0000e+00, 1.2452e+04, 0.0000e+00,\n",
       "        0.0000e+00, 1.9300e+03, 0.0000e+00, 0.0000e+00, 4.0000e+00]),\n",
       " array([0. , 0.3, 0.6, 0.9, 1.2, 1.5, 1.8, 2.1, 2.4, 2.7, 3. ]),\n",
       " <BarContainer object of 10 artists>)"
      ]
     },
     "execution_count": 69,
     "metadata": {},
     "output_type": "execute_result"
    },
    {
     "data": {
      "image/png": "[encoded data removed]",
      "text/plain": [
       "<Figure size 432x288 with 1 Axes>"
      ]
     },
     "metadata": {
      "needs_background": "light"
     },
     "output_type": "display_data"
    }
   ],
   "source": [
    "plt.hist(dfr_wod[\"specifier_title\"])"
   ]
  },
  {
   "cell_type": "code",
   "execution_count": 12,
   "id": "forward-elevation",
   "metadata": {},
   "outputs": [
    {
     "data": {
      "text/html": [
       "<div>\n",
       "<style scoped>\n",
       "    .dataframe tbody tr th:only-of-type {\n",
       "        vertical-align: middle;\n",
       "    }\n",
       "\n",
       "    .dataframe tbody tr th {\n",
       "        vertical-align: top;\n",
       "    }\n",
       "\n",
       "    .dataframe thead th {\n",
       "        text-align: right;\n",
       "    }\n",
       "</style>\n",
       "<table border=\"1\" class=\"dataframe\">\n",
       "  <thead>\n",
       "    <tr style=\"text-align: right;\">\n",
       "      <th></th>\n",
       "      <th>specifier_title</th>\n",
       "      <th>cleaned_title</th>\n",
       "      <th>id</th>\n",
       "      <th>hour_created</th>\n",
       "      <th>time_created</th>\n",
       "      <th>day_created</th>\n",
       "      <th>author</th>\n",
       "      <th>title</th>\n",
       "      <th>ups</th>\n",
       "      <th>downs</th>\n",
       "      <th>num_comments</th>\n",
       "      <th>text</th>\n",
       "      <th>thumbnail</th>\n",
       "      <th>url</th>\n",
       "      <th>curr_time</th>\n",
       "    </tr>\n",
       "  </thead>\n",
       "  <tbody>\n",
       "    <tr>\n",
       "      <th>0</th>\n",
       "      <td>[pro/chef]</td>\n",
       "      <td>pro chef  texas barbecue platter</td>\n",
       "      <td>101</td>\n",
       "      <td>08</td>\n",
       "      <td>08:48:37</td>\n",
       "      <td>2021-02-08</td>\n",
       "      <td>daynestxbbq</td>\n",
       "      <td>[PRO/CHEF] Texas Barbecue Platter</td>\n",
       "      <td>43666</td>\n",
       "      <td>0</td>\n",
       "      <td>1451</td>\n",
       "      <td></td>\n",
       "      <td>https://b.thumbs.redditmedia.com/8dY2UPIltw6QD...</td>\n",
       "      <td>https://i.redd.it/zclugg5m75g61.jpg</td>\n",
       "      <td>2021-02-08 13:57:10.388548</td>\n",
       "    </tr>\n",
       "    <tr>\n",
       "      <th>1</th>\n",
       "      <td>[homemade]</td>\n",
       "      <td>homemade  whole lemon cake doughnuts with whi...</td>\n",
       "      <td>102</td>\n",
       "      <td>03</td>\n",
       "      <td>03:19:56</td>\n",
       "      <td>2021-02-08</td>\n",
       "      <td>jojofaye</td>\n",
       "      <td>[homemade] Whole lemon cake doughnuts with whi...</td>\n",
       "      <td>2508</td>\n",
       "      <td>0</td>\n",
       "      <td>38</td>\n",
       "      <td></td>\n",
       "      <td>https://b.thumbs.redditmedia.com/voaO-2Yv62C7M...</td>\n",
       "      <td>https://i.redd.it/2dgjjzuxk3g61.jpg</td>\n",
       "      <td>2021-02-08 13:57:10.390814</td>\n",
       "    </tr>\n",
       "    <tr>\n",
       "      <th>2</th>\n",
       "      <td>[homemade]</td>\n",
       "      <td>homemade  calamari</td>\n",
       "      <td>103</td>\n",
       "      <td>07</td>\n",
       "      <td>07:18:47</td>\n",
       "      <td>2021-02-08</td>\n",
       "      <td>will20566</td>\n",
       "      <td>[Homemade] Calamari</td>\n",
       "      <td>848</td>\n",
       "      <td>0</td>\n",
       "      <td>23</td>\n",
       "      <td></td>\n",
       "      <td>https://b.thumbs.redditmedia.com/s7gGC9-olz4cc...</td>\n",
       "      <td>https://i.redd.it/03mtxaalr4g61.jpg</td>\n",
       "      <td>2021-02-08 13:57:10.392863</td>\n",
       "    </tr>\n",
       "    <tr>\n",
       "      <th>3</th>\n",
       "      <td>[homemade]</td>\n",
       "      <td>homemade  raspberry cream cake covered in legos</td>\n",
       "      <td>104</td>\n",
       "      <td>18</td>\n",
       "      <td>18:49:38</td>\n",
       "      <td>2021-02-07</td>\n",
       "      <td>aka_scoch</td>\n",
       "      <td>[homemade] raspberry cream cake covered in Legos</td>\n",
       "      <td>18446</td>\n",
       "      <td>0</td>\n",
       "      <td>382</td>\n",
       "      <td></td>\n",
       "      <td>https://b.thumbs.redditmedia.com/ql-XfyeTNstPp...</td>\n",
       "      <td>https://i.redd.it/dz168i5x11g61.jpg</td>\n",
       "      <td>2021-02-08 13:57:10.394895</td>\n",
       "    </tr>\n",
       "    <tr>\n",
       "      <th>4</th>\n",
       "      <td>[homemade]</td>\n",
       "      <td>homemade   yogurt eggs and apple fries</td>\n",
       "      <td>105</td>\n",
       "      <td>04</td>\n",
       "      <td>04:15:36</td>\n",
       "      <td>2021-02-08</td>\n",
       "      <td>Untoastedtoast390</td>\n",
       "      <td>[homemade] “yogurt eggs and apple fries”</td>\n",
       "      <td>1313</td>\n",
       "      <td>0</td>\n",
       "      <td>69</td>\n",
       "      <td></td>\n",
       "      <td>https://b.thumbs.redditmedia.com/SMcQN2Uj1xpwA...</td>\n",
       "      <td>https://i.redd.it/37snzekwu3g61.jpg</td>\n",
       "      <td>2021-02-08 13:57:10.396900</td>\n",
       "    </tr>\n",
       "  </tbody>\n",
       "</table>\n",
       "</div>"
      ],
      "text/plain": [
       "  specifier_title                                      cleaned_title   id  \\\n",
       "0      [pro/chef]                   pro chef  texas barbecue platter  101   \n",
       "1      [homemade]   homemade  whole lemon cake doughnuts with whi...  102   \n",
       "2      [homemade]                                 homemade  calamari  103   \n",
       "3      [homemade]    homemade  raspberry cream cake covered in legos  104   \n",
       "4      [homemade]            homemade   yogurt eggs and apple fries   105   \n",
       "\n",
       "  hour_created time_created day_created             author  \\\n",
       "0           08     08:48:37  2021-02-08        daynestxbbq   \n",
       "1           03     03:19:56  2021-02-08           jojofaye   \n",
       "2           07     07:18:47  2021-02-08          will20566   \n",
       "3           18     18:49:38  2021-02-07          aka_scoch   \n",
       "4           04     04:15:36  2021-02-08  Untoastedtoast390   \n",
       "\n",
       "                                               title    ups  downs  \\\n",
       "0                  [PRO/CHEF] Texas Barbecue Platter  43666      0   \n",
       "1  [homemade] Whole lemon cake doughnuts with whi...   2508      0   \n",
       "2                                [Homemade] Calamari    848      0   \n",
       "3   [homemade] raspberry cream cake covered in Legos  18446      0   \n",
       "4           [homemade] “yogurt eggs and apple fries”   1313      0   \n",
       "\n",
       "   num_comments text                                          thumbnail  \\\n",
       "0          1451       https://b.thumbs.redditmedia.com/8dY2UPIltw6QD...   \n",
       "1            38       https://b.thumbs.redditmedia.com/voaO-2Yv62C7M...   \n",
       "2            23       https://b.thumbs.redditmedia.com/s7gGC9-olz4cc...   \n",
       "3           382       https://b.thumbs.redditmedia.com/ql-XfyeTNstPp...   \n",
       "4            69       https://b.thumbs.redditmedia.com/SMcQN2Uj1xpwA...   \n",
       "\n",
       "                                   url                   curr_time  \n",
       "0  https://i.redd.it/zclugg5m75g61.jpg  2021-02-08 13:57:10.388548  \n",
       "1  https://i.redd.it/2dgjjzuxk3g61.jpg  2021-02-08 13:57:10.390814  \n",
       "2  https://i.redd.it/03mtxaalr4g61.jpg  2021-02-08 13:57:10.392863  \n",
       "3  https://i.redd.it/dz168i5x11g61.jpg  2021-02-08 13:57:10.394895  \n",
       "4  https://i.redd.it/37snzekwu3g61.jpg  2021-02-08 13:57:10.396900  "
      ]
     },
     "execution_count": 12,
     "metadata": {},
     "output_type": "execute_result"
    }
   ],
   "source": [
    "dfr_wod.head()"
   ]
  },
  {
   "cell_type": "markdown",
   "id": "detailed-knock",
   "metadata": {},
   "source": [
    "# Text Clustering"
   ]
  },
  {
   "cell_type": "code",
   "execution_count": 13,
   "id": "designing-princeton",
   "metadata": {},
   "outputs": [],
   "source": [
    "corpus = dfr_wod[\"title\"].copy(deep=True)"
   ]
  },
  {
   "cell_type": "code",
   "execution_count": 14,
   "id": "after-inspector",
   "metadata": {},
   "outputs": [],
   "source": [
    "count_vectorize = TfidfVectorizer(stop_words=\"english\")\n",
    "vectorized = count_vectorize.fit_transform(dfr_wod['cleaned_title'])"
   ]
  },
  {
   "cell_type": "code",
   "execution_count": 22,
   "id": "embedded-spouse",
   "metadata": {},
   "outputs": [
    {
     "data": {
      "text/plain": [
       "MiniBatchKMeans(n_clusters=4, random_state=0)"
      ]
     },
     "execution_count": 22,
     "metadata": {},
     "output_type": "execute_result"
    }
   ],
   "source": [
    "cls = MiniBatchKMeans(n_clusters=4, random_state=0)\n",
    "cls.fit(vectorized)"
   ]
  },
  {
   "cell_type": "code",
   "execution_count": 23,
   "id": "spectacular-stream",
   "metadata": {},
   "outputs": [],
   "source": [
    "pca = PCA(n_components=2, random_state=0)\n",
    "reduced_features = pca.fit_transform(vectorized.toarray())"
   ]
  },
  {
   "cell_type": "code",
   "execution_count": 24,
   "id": "regulation-smell",
   "metadata": {},
   "outputs": [],
   "source": [
    "reduced_cluster_centers = pca.transform(cls.cluster_centers_)"
   ]
  },
  {
   "cell_type": "code",
   "execution_count": 25,
   "id": "duplicate-tulsa",
   "metadata": {},
   "outputs": [
    {
     "data": {
      "text/plain": [
       "<matplotlib.collections.PathCollection at 0x7fec2aebc198>"
      ]
     },
     "execution_count": 25,
     "metadata": {},
     "output_type": "execute_result"
    },
    {
     "data": {
      "image/png": "[encoded data removed]",
      "text/plain": [
       "<Figure size 432x288 with 1 Axes>"
      ]
     },
     "metadata": {
      "needs_background": "light"
     },
     "output_type": "display_data"
    }
   ],
   "source": [
    "plt.scatter(reduced_features[:,0], reduced_features[:,1], c=cls.predict(vectorized))\n",
    "plt.scatter(reduced_cluster_centers[:, 0], reduced_cluster_centers[:,1], marker='x', s=150, c='b')"
   ]
  },
  {
   "cell_type": "code",
   "execution_count": 26,
   "id": "hairy-summary",
   "metadata": {},
   "outputs": [
    {
     "data": {
      "text/plain": [
       "0.00987236973613513"
      ]
     },
     "execution_count": 26,
     "metadata": {},
     "output_type": "execute_result"
    }
   ],
   "source": [
    "from sklearn.metrics import silhouette_score\n",
    "silhouette_score(vectorized, labels=cls.predict(vectorized))"
   ]
  },
  {
   "cell_type": "markdown",
   "id": "metropolitan-tournament",
   "metadata": {},
   "source": [
    "# Topic Modelling"
   ]
  },
  {
   "cell_type": "code",
   "execution_count": 20,
   "id": "connected-subdivision",
   "metadata": {},
   "outputs": [],
   "source": [
    "random_state = 0"
   ]
  },
  {
   "cell_type": "code",
   "execution_count": 49,
   "id": "blocked-glenn",
   "metadata": {},
   "outputs": [],
   "source": [
    "def only_nouns(texts):\n",
    "    output = []\n",
    "    for doc in nlp.pipe(texts):\n",
    "        noun_text = \" \".join(token.lemma_ for token in doc if token.pos_ == 'NOUN')\n",
    "        output.append(noun_text)\n",
    "    return output"
   ]
  },
  {
   "cell_type": "code",
   "execution_count": 50,
   "id": "hungry-variable",
   "metadata": {},
   "outputs": [],
   "source": [
    "dfr_wod[\"nouns\"] = only_nouns(dfr_wod['title'])"
   ]
  },
  {
   "cell_type": "code",
   "execution_count": 51,
   "id": "agricultural-scotland",
   "metadata": {},
   "outputs": [
    {
     "data": {
      "text/html": [
       "<div>\n",
       "<style scoped>\n",
       "    .dataframe tbody tr th:only-of-type {\n",
       "        vertical-align: middle;\n",
       "    }\n",
       "\n",
       "    .dataframe tbody tr th {\n",
       "        vertical-align: top;\n",
       "    }\n",
       "\n",
       "    .dataframe thead th {\n",
       "        text-align: right;\n",
       "    }\n",
       "</style>\n",
       "<table border=\"1\" class=\"dataframe\">\n",
       "  <thead>\n",
       "    <tr style=\"text-align: right;\">\n",
       "      <th></th>\n",
       "      <th>specifier_title</th>\n",
       "      <th>cleaned_title</th>\n",
       "      <th>id</th>\n",
       "      <th>hour_created</th>\n",
       "      <th>time_created</th>\n",
       "      <th>day_created</th>\n",
       "      <th>author</th>\n",
       "      <th>title</th>\n",
       "      <th>ups</th>\n",
       "      <th>downs</th>\n",
       "      <th>num_comments</th>\n",
       "      <th>text</th>\n",
       "      <th>thumbnail</th>\n",
       "      <th>url</th>\n",
       "      <th>curr_time</th>\n",
       "      <th>nouns</th>\n",
       "    </tr>\n",
       "  </thead>\n",
       "  <tbody>\n",
       "    <tr>\n",
       "      <th>0</th>\n",
       "      <td>[pro/chef]</td>\n",
       "      <td>pro chef  texas barbecue platter</td>\n",
       "      <td>101</td>\n",
       "      <td>08</td>\n",
       "      <td>08:48:37</td>\n",
       "      <td>2021-02-08</td>\n",
       "      <td>daynestxbbq</td>\n",
       "      <td>[PRO/CHEF] Texas Barbecue Platter</td>\n",
       "      <td>43666</td>\n",
       "      <td>0</td>\n",
       "      <td>1451</td>\n",
       "      <td></td>\n",
       "      <td>https://b.thumbs.redditmedia.com/8dY2UPIltw6QD...</td>\n",
       "      <td>https://i.redd.it/zclugg5m75g61.jpg</td>\n",
       "      <td>2021-02-08 13:57:10.388548</td>\n",
       "      <td></td>\n",
       "    </tr>\n",
       "    <tr>\n",
       "      <th>1</th>\n",
       "      <td>[homemade]</td>\n",
       "      <td>homemade  whole lemon cake doughnuts with whi...</td>\n",
       "      <td>102</td>\n",
       "      <td>03</td>\n",
       "      <td>03:19:56</td>\n",
       "      <td>2021-02-08</td>\n",
       "      <td>jojofaye</td>\n",
       "      <td>[homemade] Whole lemon cake doughnuts with whi...</td>\n",
       "      <td>2508</td>\n",
       "      <td>0</td>\n",
       "      <td>38</td>\n",
       "      <td></td>\n",
       "      <td>https://b.thumbs.redditmedia.com/voaO-2Yv62C7M...</td>\n",
       "      <td>https://i.redd.it/2dgjjzuxk3g61.jpg</td>\n",
       "      <td>2021-02-08 13:57:10.390814</td>\n",
       "      <td>lemon cake doughnut ganache lemon shaving</td>\n",
       "    </tr>\n",
       "    <tr>\n",
       "      <th>2</th>\n",
       "      <td>[homemade]</td>\n",
       "      <td>homemade  calamari</td>\n",
       "      <td>103</td>\n",
       "      <td>07</td>\n",
       "      <td>07:18:47</td>\n",
       "      <td>2021-02-08</td>\n",
       "      <td>will20566</td>\n",
       "      <td>[Homemade] Calamari</td>\n",
       "      <td>848</td>\n",
       "      <td>0</td>\n",
       "      <td>23</td>\n",
       "      <td></td>\n",
       "      <td>https://b.thumbs.redditmedia.com/s7gGC9-olz4cc...</td>\n",
       "      <td>https://i.redd.it/03mtxaalr4g61.jpg</td>\n",
       "      <td>2021-02-08 13:57:10.392863</td>\n",
       "      <td></td>\n",
       "    </tr>\n",
       "    <tr>\n",
       "      <th>3</th>\n",
       "      <td>[homemade]</td>\n",
       "      <td>homemade  raspberry cream cake covered in legos</td>\n",
       "      <td>104</td>\n",
       "      <td>18</td>\n",
       "      <td>18:49:38</td>\n",
       "      <td>2021-02-07</td>\n",
       "      <td>aka_scoch</td>\n",
       "      <td>[homemade] raspberry cream cake covered in Legos</td>\n",
       "      <td>18446</td>\n",
       "      <td>0</td>\n",
       "      <td>382</td>\n",
       "      <td></td>\n",
       "      <td>https://b.thumbs.redditmedia.com/ql-XfyeTNstPp...</td>\n",
       "      <td>https://i.redd.it/dz168i5x11g61.jpg</td>\n",
       "      <td>2021-02-08 13:57:10.394895</td>\n",
       "      <td>cream cake</td>\n",
       "    </tr>\n",
       "    <tr>\n",
       "      <th>4</th>\n",
       "      <td>[homemade]</td>\n",
       "      <td>homemade   yogurt eggs and apple fries</td>\n",
       "      <td>105</td>\n",
       "      <td>04</td>\n",
       "      <td>04:15:36</td>\n",
       "      <td>2021-02-08</td>\n",
       "      <td>Untoastedtoast390</td>\n",
       "      <td>[homemade] “yogurt eggs and apple fries”</td>\n",
       "      <td>1313</td>\n",
       "      <td>0</td>\n",
       "      <td>69</td>\n",
       "      <td></td>\n",
       "      <td>https://b.thumbs.redditmedia.com/SMcQN2Uj1xpwA...</td>\n",
       "      <td>https://i.redd.it/37snzekwu3g61.jpg</td>\n",
       "      <td>2021-02-08 13:57:10.396900</td>\n",
       "      <td>egg apple fry</td>\n",
       "    </tr>\n",
       "  </tbody>\n",
       "</table>\n",
       "</div>"
      ],
      "text/plain": [
       "  specifier_title                                      cleaned_title   id  \\\n",
       "0      [pro/chef]                   pro chef  texas barbecue platter  101   \n",
       "1      [homemade]   homemade  whole lemon cake doughnuts with whi...  102   \n",
       "2      [homemade]                                 homemade  calamari  103   \n",
       "3      [homemade]    homemade  raspberry cream cake covered in legos  104   \n",
       "4      [homemade]            homemade   yogurt eggs and apple fries   105   \n",
       "\n",
       "  hour_created time_created day_created             author  \\\n",
       "0           08     08:48:37  2021-02-08        daynestxbbq   \n",
       "1           03     03:19:56  2021-02-08           jojofaye   \n",
       "2           07     07:18:47  2021-02-08          will20566   \n",
       "3           18     18:49:38  2021-02-07          aka_scoch   \n",
       "4           04     04:15:36  2021-02-08  Untoastedtoast390   \n",
       "\n",
       "                                               title    ups  downs  \\\n",
       "0                  [PRO/CHEF] Texas Barbecue Platter  43666      0   \n",
       "1  [homemade] Whole lemon cake doughnuts with whi...   2508      0   \n",
       "2                                [Homemade] Calamari    848      0   \n",
       "3   [homemade] raspberry cream cake covered in Legos  18446      0   \n",
       "4           [homemade] “yogurt eggs and apple fries”   1313      0   \n",
       "\n",
       "   num_comments text                                          thumbnail  \\\n",
       "0          1451       https://b.thumbs.redditmedia.com/8dY2UPIltw6QD...   \n",
       "1            38       https://b.thumbs.redditmedia.com/voaO-2Yv62C7M...   \n",
       "2            23       https://b.thumbs.redditmedia.com/s7gGC9-olz4cc...   \n",
       "3           382       https://b.thumbs.redditmedia.com/ql-XfyeTNstPp...   \n",
       "4            69       https://b.thumbs.redditmedia.com/SMcQN2Uj1xpwA...   \n",
       "\n",
       "                                   url                   curr_time  \\\n",
       "0  https://i.redd.it/zclugg5m75g61.jpg  2021-02-08 13:57:10.388548   \n",
       "1  https://i.redd.it/2dgjjzuxk3g61.jpg  2021-02-08 13:57:10.390814   \n",
       "2  https://i.redd.it/03mtxaalr4g61.jpg  2021-02-08 13:57:10.392863   \n",
       "3  https://i.redd.it/dz168i5x11g61.jpg  2021-02-08 13:57:10.394895   \n",
       "4  https://i.redd.it/37snzekwu3g61.jpg  2021-02-08 13:57:10.396900   \n",
       "\n",
       "                                       nouns  \n",
       "0                                             \n",
       "1  lemon cake doughnut ganache lemon shaving  \n",
       "2                                             \n",
       "3                                 cream cake  \n",
       "4                              egg apple fry  "
      ]
     },
     "execution_count": 51,
     "metadata": {},
     "output_type": "execute_result"
    }
   ],
   "source": [
    "dfr_wod.head()"
   ]
  },
  {
   "cell_type": "code",
   "execution_count": 65,
   "id": "floating-lesbian",
   "metadata": {},
   "outputs": [
    {
     "name": "stderr",
     "output_type": "stream",
     "text": [
      "/home/jakob/.local/lib/python3.6/site-packages/sklearn/decomposition/_nmf.py:315: FutureWarning: The 'init' value, when 'init=None' and n_components is less than n_samples and n_features, will be changed from 'nndsvd' to 'nndsvda' in 1.1 (renaming of 0.26).\n",
      "  \"'nndsvda' in 1.1 (renaming of 0.26).\"), FutureWarning)\n"
     ]
    },
    {
     "data": {
      "text/plain": [
       "NMF(n_components=7, random_state=0)"
      ]
     },
     "execution_count": 65,
     "metadata": {},
     "output_type": "execute_result"
    }
   ],
   "source": [
    "# number of topics to extract\n",
    "n_topics = 7\n",
    "\n",
    "vec = TfidfVectorizer(max_features=30000, stop_words=\"english\", max_df=0.9, min_df=2, smooth_idf=False)\n",
    "features = vec.fit_transform(dfr_wod[\"nouns\"])\n",
    "\n",
    "from sklearn.decomposition import NMF\n",
    "cls = NMF(n_components=n_topics, random_state=random_state)\n",
    "cls.fit(features)"
   ]
  },
  {
   "cell_type": "code",
   "execution_count": 66,
   "id": "refined-syracuse",
   "metadata": {},
   "outputs": [
    {
     "name": "stdout",
     "output_type": "stream",
     "text": [
      "0 chicken sandwich wing curry salad thigh \n",
      "1 cake chocolate cream birthday cookie buttercream \n",
      "2 egg bacon toast raman pork roll \n",
      "3 pizza style pepperoni mushroom onion crust \n",
      "4 cheese potato sauce onion fry burger \n",
      "5 bread sourdough banana beef rye bowl \n",
      "6 rice pork beef bean style rib \n"
     ]
    }
   ],
   "source": [
    "feature_names = vec.get_feature_names()\n",
    "\n",
    "# number of most influencing words to display per topic\n",
    "n_top_words = 6\n",
    "\n",
    "for i, topic_vec in enumerate(cls.components_):\n",
    "    print(i, end=' ')\n",
    "    # topic_vec.argsort() produces a new array\n",
    "    # in which word_index with the least score is the\n",
    "    # first array element and word_index with highest\n",
    "    # score is the last array element. Then using a\n",
    "    # fancy indexing [-1: -n_top_words-1:-1], we are\n",
    "    # slicing the array from its end in such a way that\n",
    "    # top `n_top_words` word_index with highest scores\n",
    "    # are returned in desceding order\n",
    "    for fid in topic_vec.argsort()[-1:-n_top_words-1:-1]:\n",
    "        print(feature_names[fid], end=' ')\n",
    "    print()"
   ]
  },
  {
   "cell_type": "markdown",
   "id": "infrared-microwave",
   "metadata": {},
   "source": [
    "0 chicken sandwich wing curry salad thigh --> Asiatisch?\n",
    "1 cake chocolate cream birthday cookie buttercream --> Kuchen/Süßspeisen \n",
    "2 egg bacon toast raman pork roll  --> Frühstück?\n",
    "3 pizza style pepperoni mushroom onion crust --> Pizza/Vegetarisch?\n",
    "4 potato sauce fry onion mushroom salad --> Vegetarisch\n",
    "5 cheese bread onion cream burger soup --> Burger\n",
    "6 rice pork beef bean rib style --> Rindfleisch/Grillen"
   ]
  },
  {
   "cell_type": "code",
   "execution_count": null,
   "id": "posted-pillow",
   "metadata": {},
   "outputs": [],
   "source": []
  }
 ],
 "metadata": {
  "kernelspec": {
   "display_name": "Python 3",
   "language": "python",
   "name": "python3"
  },
  "language_info": {
   "codemirror_mode": {
    "name": "ipython",
    "version": 3
   },
   "file_extension": ".py",
   "mimetype": "text/x-python",
   "name": "python",
   "nbconvert_exporter": "python",
   "pygments_lexer": "ipython3",
   "version": "3.6.9"
  }
 },
 "nbformat": 4,
 "nbformat_minor": 5
}
