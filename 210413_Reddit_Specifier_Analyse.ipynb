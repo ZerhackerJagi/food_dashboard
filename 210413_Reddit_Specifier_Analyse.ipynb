{
 "cells": [
  {
   "cell_type": "code",
   "execution_count": 1,
   "id": "simplified-consumer",
   "metadata": {},
   "outputs": [],
   "source": [
    "import pandas as pd\n",
    "from datetime import datetime, timedelta\n",
    "import matplotlib.pyplot as plt\n",
    "import matplotlib.dates as pdt\n",
    "import mysql.connector\n",
    "import re\n",
    "\n",
    "from scipy.stats import chi2_contingency, chi2, chisquare\n",
    "\n",
    "import pingouin as pg\n",
    "\n",
    "import math"
   ]
  },
  {
   "cell_type": "code",
   "execution_count": 2,
   "id": "later-frost",
   "metadata": {},
   "outputs": [],
   "source": [
    "#!pip install pingouin #für Anova bzw eta"
   ]
  },
  {
   "cell_type": "markdown",
   "id": "hundred-porter",
   "metadata": {},
   "source": [
    "# Data Setup\n",
    "### 1. Daten laden"
   ]
  },
  {
   "cell_type": "code",
   "execution_count": 3,
   "id": "metric-burlington",
   "metadata": {},
   "outputs": [],
   "source": [
    "db_connection = mysql.connector.connect(\n",
    "  host= \"wp.jagi.wtf\",\n",
    "  user= \"redditu\",\n",
    "  password= \"redditMaster\",\n",
    "  database=\"reddit\"\n",
    "  )\n"
   ]
  },
  {
   "cell_type": "code",
   "execution_count": 4,
   "id": "instrumental-section",
   "metadata": {},
   "outputs": [],
   "source": [
    "cursor = db_connection.cursor()"
   ]
  },
  {
   "cell_type": "code",
   "execution_count": 5,
   "id": "approved-cricket",
   "metadata": {},
   "outputs": [],
   "source": [
    "dfr = pd.read_sql(\"SELECT * FROM reddit\", db_connection)"
   ]
  },
  {
   "cell_type": "markdown",
   "id": "known-reducing",
   "metadata": {},
   "source": [
    "### 2. Zeiten formatieren und normalisieren"
   ]
  },
  {
   "cell_type": "code",
   "execution_count": 6,
   "id": "electric-extension",
   "metadata": {},
   "outputs": [],
   "source": [
    "dfr[\"day_created\"] = pd.to_datetime(dfr[\"day_created\"]).dt.date\n",
    "dfr[\"time_created\"] = pd.to_datetime(dfr[\"time_created\"]).dt.time\n",
    "dfr[\"curr_time\"] = pd.to_datetime(dfr[\"curr_time\"])\n",
    "\n",
    "dtstuff = dfr.apply(\n",
    "    lambda row: datetime.combine(row['day_created'], row['time_created']),\n",
    "    axis=1\n",
    ")\n",
    "dfr[\"time\"] = dtstuff\n",
    "dfr[\"time\"] = dfr[\"time\"] - timedelta(hours=10)"
   ]
  },
  {
   "cell_type": "markdown",
   "id": "super-employer",
   "metadata": {},
   "source": [
    "### 3. Eindeutige Posts filtern (Duplikate löschen)"
   ]
  },
  {
   "cell_type": "code",
   "execution_count": 7,
   "id": "organized-tissue",
   "metadata": {},
   "outputs": [],
   "source": [
    "dfr[\"post_id\"] = dfr.agg('{0[author]}-{0[time]}'.format, axis=1) # dauert lange, ist aber wichtig\n",
    "test = dfr.groupby(\"post_id\")[\"ups\"].agg('max').reset_index().rename({\"ups\":\"max_ups\"})\n",
    "df = pd.merge(dfr, test, on=\"post_id\")\n",
    "dfr_wod = df.drop_duplicates(subset=[\"post_id\"]).copy()"
   ]
  },
  {
   "cell_type": "markdown",
   "id": "given-opposition",
   "metadata": {},
   "source": [
    "### 4. Daten bereinigen"
   ]
  },
  {
   "cell_type": "code",
   "execution_count": 8,
   "id": "bottom-strap",
   "metadata": {},
   "outputs": [],
   "source": [
    "def clean_data(title):\n",
    "    cleaned_title = re.sub(r\"\\W\", \" \", title)\n",
    "    cleaned_title = cleaned_title.lower()\n",
    "    return cleaned_title"
   ]
  },
  {
   "cell_type": "code",
   "execution_count": 9,
   "id": "constant-advocacy",
   "metadata": {},
   "outputs": [],
   "source": [
    "def get_specifier(title):\n",
    "    cleaned_title = re.findall(r\"\\[((\\w|\\/| )*)\\]\", title)\n",
    "    \n",
    "    #\\[([homemade]|[i ate]|[pro/chef])*\\]\n",
    "    #\"\\[.*\\]\"\n",
    "    \n",
    "    if cleaned_title:\n",
    "        cleaned_title = cleaned_title[0][0].lower()\n",
    "        if cleaned_title in [\"homemade\", \"i ate\", \"pro/chef\"]:\n",
    "            return cleaned_title\n",
    "    return \"other\"\n",
    "    "
   ]
  },
  {
   "cell_type": "code",
   "execution_count": 10,
   "id": "intended-cartridge",
   "metadata": {},
   "outputs": [],
   "source": [
    "dfr_wod.insert(0, column=\"cleaned_title\", value=dfr_wod[\"title\"].apply(clean_data))"
   ]
  },
  {
   "cell_type": "markdown",
   "id": "traditional-uniform",
   "metadata": {},
   "source": [
    "# Abhängigkeit des Specifiers und der Upvote Anzahl\n",
    "\n",
    "### 1. Filtern der Specifier"
   ]
  },
  {
   "cell_type": "code",
   "execution_count": 11,
   "id": "honey-completion",
   "metadata": {},
   "outputs": [
    {
     "data": {
      "text/plain": [
       "homemade    13926\n",
       "i ate        2005\n",
       "pro/chef      292\n",
       "other           4\n",
       "Name: specifier_title, dtype: int64"
      ]
     },
     "execution_count": 11,
     "metadata": {},
     "output_type": "execute_result"
    }
   ],
   "source": [
    "dfr_wod.insert(0, column=\"specifier_title\", value=dfr_wod[\"title\"].apply(get_specifier))\n",
    "dfr_wod[\"specifier_title\"].value_counts()"
   ]
  },
  {
   "cell_type": "markdown",
   "id": "future-burton",
   "metadata": {},
   "source": [
    "### 2. Daten weitergehend normalisieren\n",
    "Daten werden hier in Gruppen zusammengefasst. Maximale Upvotes auf 100er, 1000er, 10.000er gerundet."
   ]
  },
  {
   "cell_type": "code",
   "execution_count": 12,
   "id": "spread-cemetery",
   "metadata": {},
   "outputs": [],
   "source": [
    "test = dfr_wod.groupby(\"specifier_title\").agg(\"mean\").reset_index()\n",
    "test[\"std\"] = dfr_wod.groupby(\"specifier_title\").agg(\"std\").reset_index()[\"ups_y\"]"
   ]
  },
  {
   "cell_type": "code",
   "execution_count": 13,
   "id": "incorporated-guinea",
   "metadata": {},
   "outputs": [],
   "source": [
    "# Um die Daten ordinal zu machen\n",
    "def roundup100(x):\n",
    "    return int(math.ceil(x / 100.0)) * 100\n",
    "def roundup1000(x):\n",
    "    return int(math.ceil(x / 1000.0)) * 1000\n",
    "def roundup10000(x):\n",
    "    return int(math.ceil(x / 10000.0)) * 10000"
   ]
  },
  {
   "cell_type": "code",
   "execution_count": 14,
   "id": "differential-simon",
   "metadata": {},
   "outputs": [],
   "source": [
    "dfr_wod[\"ups_rounded100\"] = dfr_wod[\"ups_y\"].apply(roundup100)\n",
    "dfr_wod[\"ups_rounded1000\"] = dfr_wod[\"ups_y\"].apply(roundup1000)\n",
    "dfr_wod[\"ups_rounded10000\"] = dfr_wod[\"ups_y\"].apply(roundup10000)"
   ]
  },
  {
   "cell_type": "markdown",
   "id": "published-driving",
   "metadata": {},
   "source": [
    "### 3. Chi-Quadrat Unabhängigkeitstest"
   ]
  },
  {
   "cell_type": "code",
   "execution_count": 15,
   "id": "forward-elevation",
   "metadata": {},
   "outputs": [],
   "source": [
    "X = pd.crosstab(dfr_wod[\"specifier_title\"], dfr_wod[\"ups_rounded10000\"])\n",
    "y = list(dfr_wod[\"specifier_title\"].value_counts().to_dict().keys())"
   ]
  },
  {
   "cell_type": "code",
   "execution_count": 16,
   "id": "oriented-devices",
   "metadata": {},
   "outputs": [
    {
     "data": {
      "text/plain": [
       "(94.1475504081987,\n",
       " 2.5797751545335606e-12,\n",
       " 18,\n",
       " array([[1.38178669e+04, 7.46633389e+01, 2.31713810e+01, 6.00739508e+00,\n",
       "         1.71639859e+00, 1.71639859e+00, 8.58199297e-01],\n",
       "        [1.98943150e+03, 1.07496765e+01, 3.33610649e+00, 8.64916497e-01,\n",
       "         2.47118999e-01, 2.47118999e-01, 1.23559500e-01],\n",
       "        [3.96894065e+00, 2.14457386e-02, 6.65557404e-03, 1.72551920e-03,\n",
       "         4.93005485e-04, 4.93005485e-04, 2.46502742e-04],\n",
       "        [2.89732668e+02, 1.56553892e+00, 4.85856905e-01, 1.25962901e-01,\n",
       "         3.59894004e-02, 3.59894004e-02, 1.79947002e-02]]))"
      ]
     },
     "execution_count": 16,
     "metadata": {},
     "output_type": "execute_result"
    }
   ],
   "source": [
    "chi2x = chi2_contingency(X)\n",
    "chi2x\n",
    "# Chi2 Unabhängigkeitstest (X2, p, Freiheitsgrade, erwartete Werte)"
   ]
  },
  {
   "cell_type": "markdown",
   "id": "adolescent-boxing",
   "metadata": {},
   "source": [
    "$X$² kann hier nicht genutzt werden, da nicht für alle gilt $h_i^e ≥ 5 $"
   ]
  },
  {
   "cell_type": "markdown",
   "id": "aquatic-encounter",
   "metadata": {},
   "source": [
    "### 4. Eta "
   ]
  },
  {
   "cell_type": "code",
   "execution_count": 17,
   "id": "ranging-provincial",
   "metadata": {},
   "outputs": [
    {
     "data": {
      "text/html": [
       "<div>\n",
       "<style scoped>\n",
       "    .dataframe tbody tr th:only-of-type {\n",
       "        vertical-align: middle;\n",
       "    }\n",
       "\n",
       "    .dataframe tbody tr th {\n",
       "        vertical-align: top;\n",
       "    }\n",
       "\n",
       "    .dataframe thead th {\n",
       "        text-align: right;\n",
       "    }\n",
       "</style>\n",
       "<table border=\"1\" class=\"dataframe\">\n",
       "  <thead>\n",
       "    <tr style=\"text-align: right;\">\n",
       "      <th></th>\n",
       "      <th>Source</th>\n",
       "      <th>SS</th>\n",
       "      <th>DF</th>\n",
       "      <th>MS</th>\n",
       "      <th>F</th>\n",
       "      <th>p-unc</th>\n",
       "      <th>n2</th>\n",
       "    </tr>\n",
       "  </thead>\n",
       "  <tbody>\n",
       "    <tr>\n",
       "      <th>0</th>\n",
       "      <td>specifier_title</td>\n",
       "      <td>1.544361e+08</td>\n",
       "      <td>3</td>\n",
       "      <td>5.147868e+07</td>\n",
       "      <td>12.974236</td>\n",
       "      <td>1.842726e-08</td>\n",
       "      <td>0.002393</td>\n",
       "    </tr>\n",
       "    <tr>\n",
       "      <th>1</th>\n",
       "      <td>Within</td>\n",
       "      <td>6.436901e+10</td>\n",
       "      <td>16223</td>\n",
       "      <td>3.967762e+06</td>\n",
       "      <td>NaN</td>\n",
       "      <td>NaN</td>\n",
       "      <td>NaN</td>\n",
       "    </tr>\n",
       "  </tbody>\n",
       "</table>\n",
       "</div>"
      ],
      "text/plain": [
       "            Source            SS     DF            MS          F  \\\n",
       "0  specifier_title  1.544361e+08      3  5.147868e+07  12.974236   \n",
       "1           Within  6.436901e+10  16223  3.967762e+06        NaN   \n",
       "\n",
       "          p-unc        n2  \n",
       "0  1.842726e-08  0.002393  \n",
       "1           NaN       NaN  "
      ]
     },
     "execution_count": 17,
     "metadata": {},
     "output_type": "execute_result"
    }
   ],
   "source": [
    "pg.anova(dv='ups_y', between='specifier_title', data=dfr_wod, detailed=True, effsize=\"n2\")"
   ]
  },
  {
   "cell_type": "markdown",
   "id": "noted-proposition",
   "metadata": {},
   "source": [
    "- .01: Small effect size\n",
    "- .06: Medium effect size\n",
    "- .14 or higher: Large effect size\n",
    "> .0023 < .01\n",
    "Daher kann hier kein Zusammenhang vermutet werden"
   ]
  },
  {
   "cell_type": "markdown",
   "id": "comparable-background",
   "metadata": {},
   "source": [
    "### 5. Visualisierung der Ergebnisse"
   ]
  },
  {
   "cell_type": "code",
   "execution_count": 18,
   "id": "competitive-accent",
   "metadata": {},
   "outputs": [
    {
     "data": {
      "image/png": "[encoded data removed]",
      "text/plain": [
       "<Figure size 720x360 with 1 Axes>"
      ]
     },
     "metadata": {
      "needs_background": "light"
     },
     "output_type": "display_data"
    }
   ],
   "source": [
    "plt.figure(figsize=(10,5))\n",
    "plt.hist(dfr_wod[\"specifier_title\"])\n",
    "plt.title(\"Anzahl der Posts nach Kategorie\")\n",
    "plt.ylabel(\"Anzahl der Posts\")\n",
    "plt.xlabel(\"Kategorie\")\n",
    "\n",
    "plt.show()"
   ]
  },
  {
   "cell_type": "code",
   "execution_count": 19,
   "id": "utility-depth",
   "metadata": {},
   "outputs": [
    {
     "data": {
      "image/png": "[encoded data removed]",
      "text/plain": [
       "<Figure size 720x360 with 1 Axes>"
      ]
     },
     "metadata": {
      "needs_background": "light"
     },
     "output_type": "display_data"
    }
   ],
   "source": [
    "plt.figure(figsize=(10,5))\n",
    "plt.scatter(test[\"specifier_title\"], test[\"ups_y\"])\n",
    "plt.title(\"Übersicht der Durchschnittlichen Maximalen Upvotes nach Kategorie\")\n",
    "plt.ylabel(\"Anzahl der durchschnittlichen Upvotes \")\n",
    "plt.xlabel(\"Kategorie\")\n",
    "plt.show()\n",
    "\n",
    "# Balkendiagramm"
   ]
  },
  {
   "cell_type": "code",
   "execution_count": 20,
   "id": "respiratory-given",
   "metadata": {},
   "outputs": [
    {
     "name": "stderr",
     "output_type": "stream",
     "text": [
      "/home/jakob/.local/lib/python3.6/site-packages/ipykernel_launcher.py:4: UserWarning: Matplotlib is currently using module://ipykernel.pylab.backend_inline, which is a non-GUI backend, so cannot show the figure.\n",
      "  after removing the cwd from sys.path.\n"
     ]
    },
    {
     "data": {
      "image/png": "[encoded data removed]",
      "text/plain": [
       "<Figure size 1080x360 with 1 Axes>"
      ]
     },
     "metadata": {
      "needs_background": "light"
     },
     "output_type": "display_data"
    }
   ],
   "source": [
    "fig, ax = plt.subplots(1,1,figsize=(15,5))\n",
    "dfr_wod[\"ups_rounded10000\"].hist(bins=7, ax=ax)\n",
    "ax.set_title(\"Verteilung Posts in 10.000 Upvote Schritten\")\n",
    "fig.show()"
   ]
  }
 ],
 "metadata": {
  "kernelspec": {
   "display_name": "Python 3",
   "language": "python",
   "name": "python3"
  },
  "language_info": {
   "codemirror_mode": {
    "name": "ipython",
    "version": 3
   },
   "file_extension": ".py",
   "mimetype": "text/x-python",
   "name": "python",
   "nbconvert_exporter": "python",
   "pygments_lexer": "ipython3",
   "version": "3.6.9"
  }
 },
 "nbformat": 4,
 "nbformat_minor": 5
}
