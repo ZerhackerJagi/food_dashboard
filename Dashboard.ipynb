{
 "cells": [
  {
   "cell_type": "code",
   "execution_count": 1,
   "metadata": {},
   "outputs": [],
   "source": [
    "# Final Variablen\n",
    "API_KEY_SPOONACULAR = \"146fe79a630b4afb8306a2985bedc64c\"\n",
    "API_KEY_REDDIT = \"KAJ2xGzCOlH3hyTRADNdSBDuTBORvw\"\n",
    "API_CLIENTID_REDDIT = \"tSemvcUBRFCTYQ\"\n",
    "\n",
    "USERNAME_REDDIT = \"Short-Arrival7632\"\n",
    "PW_REDDIT = \"cookies123\"\n",
    "\n",
    "API_REDIRECT_URL_REDDIT = \"http://localhost:8888/notebooks/Dashboard.ipynb\""
   ]
  },
  {
   "cell_type": "code",
   "execution_count": 26,
   "metadata": {},
   "outputs": [],
   "source": [
    "# KONFIGURATION\n",
    "\n",
    "LIMIT_REDDIT_POSTS = 10\n",
    "LIMIT_SPOONACULAR_RECIPES = 10"
   ]
  },
  {
   "cell_type": "code",
   "execution_count": null,
   "metadata": {},
   "outputs": [],
   "source": [
    "# Auf Windows ausführen (einmalig)\n",
    "!pip install praw\n",
    "!pip install pandas"
   ]
  },
  {
   "cell_type": "code",
   "execution_count": null,
   "metadata": {},
   "outputs": [],
   "source": [
    "# Auf Linux ausführen (einmalig)\n",
    "!pip3 install praw\n",
    "!pip3 install pandas"
   ]
  },
  {
   "cell_type": "code",
   "execution_count": 17,
   "metadata": {},
   "outputs": [],
   "source": [
    "import praw\n",
    "import pandas as pd\n",
    "from datetime import datetime\n",
    "import requests\n",
    "import json"
   ]
  },
  {
   "cell_type": "markdown",
   "metadata": {},
   "source": [
    "### Get subreddit data"
   ]
  },
  {
   "cell_type": "code",
   "execution_count": 3,
   "metadata": {},
   "outputs": [],
   "source": [
    "reddit = praw.Reddit(client_id = API_CLIENTID_REDDIT,\n",
    "                    client_secret = API_KEY_REDDIT,\n",
    "                    username= USERNAME_REDDIT,\n",
    "                    password = PW_REDDIT,\n",
    "                    user_agent = \"food_dashboard_v01\")\n",
    "\n",
    "sr = reddit.subreddit(\"food\")"
   ]
  },
  {
   "cell_type": "code",
   "execution_count": 4,
   "metadata": {},
   "outputs": [],
   "source": [
    "# retrieve new posts\n",
    "new_posts = sr.new(limit=LIMIT_REDDIT_POSTS)"
   ]
  },
  {
   "cell_type": "code",
   "execution_count": null,
   "metadata": {},
   "outputs": [],
   "source": []
  },
  {
   "cell_type": "code",
   "execution_count": 6,
   "metadata": {},
   "outputs": [
    {
     "name": "stdout",
     "output_type": "stream",
     "text": [
      "1612656415.0\n",
      "1612656235.0\n",
      "1612656147.0\n",
      "1612655651.0\n",
      "1612655322.0\n",
      "1612655241.0\n",
      "1612654954.0\n",
      "1612654782.0\n",
      "1612654753.0\n"
     ]
    }
   ],
   "source": [
    "# clean data \n",
    "new_posts_lst = []\n",
    "for post in new_posts:\n",
    "    timestamp_created = post.created\n",
    "    time_created = datetime.fromtimestamp(timestamp_created).strftime(\"%I:%M:%S\")\n",
    "    day_created = datetime.fromtimestamp(timestamp_created).strftime(\"%Y-%m-%d\")\n",
    "    \n",
    "    # created time, created day, author, title, likes, downs, num_comments, text, thumbnail, url\n",
    "    x = [time_created, day_created, post.author, post.title, post.ups, post.downs, post.num_comments, post.selftext, post.thumbnail, post.url]\n",
    "    new_posts_lst.append(x)"
   ]
  },
  {
   "cell_type": "code",
   "execution_count": 10,
   "metadata": {},
   "outputs": [],
   "source": [
    "# create DataFrame\n",
    "df = pd.DataFrame(data=new_posts_lst, columns=[\"created_time\", \"created_day\", \"author\", \"title\", \"likes\", \"downs\", \"num_comments\", \"text\", \"thumbnail\", \"url\"])"
   ]
  },
  {
   "cell_type": "code",
   "execution_count": 11,
   "metadata": {},
   "outputs": [
    {
     "data": {
      "text/html": [
       "<div>\n",
       "<style scoped>\n",
       "    .dataframe tbody tr th:only-of-type {\n",
       "        vertical-align: middle;\n",
       "    }\n",
       "\n",
       "    .dataframe tbody tr th {\n",
       "        vertical-align: top;\n",
       "    }\n",
       "\n",
       "    .dataframe thead th {\n",
       "        text-align: right;\n",
       "    }\n",
       "</style>\n",
       "<table border=\"1\" class=\"dataframe\">\n",
       "  <thead>\n",
       "    <tr style=\"text-align: right;\">\n",
       "      <th></th>\n",
       "      <th>likes</th>\n",
       "      <th>downs</th>\n",
       "      <th>num_comments</th>\n",
       "    </tr>\n",
       "  </thead>\n",
       "  <tbody>\n",
       "    <tr>\n",
       "      <th>count</th>\n",
       "      <td>9.000000</td>\n",
       "      <td>9.0</td>\n",
       "      <td>9.000000</td>\n",
       "    </tr>\n",
       "    <tr>\n",
       "      <th>mean</th>\n",
       "      <td>7.666667</td>\n",
       "      <td>0.0</td>\n",
       "      <td>0.777778</td>\n",
       "    </tr>\n",
       "    <tr>\n",
       "      <th>std</th>\n",
       "      <td>6.557439</td>\n",
       "      <td>0.0</td>\n",
       "      <td>1.092906</td>\n",
       "    </tr>\n",
       "    <tr>\n",
       "      <th>min</th>\n",
       "      <td>1.000000</td>\n",
       "      <td>0.0</td>\n",
       "      <td>0.000000</td>\n",
       "    </tr>\n",
       "    <tr>\n",
       "      <th>25%</th>\n",
       "      <td>3.000000</td>\n",
       "      <td>0.0</td>\n",
       "      <td>0.000000</td>\n",
       "    </tr>\n",
       "    <tr>\n",
       "      <th>50%</th>\n",
       "      <td>5.000000</td>\n",
       "      <td>0.0</td>\n",
       "      <td>0.000000</td>\n",
       "    </tr>\n",
       "    <tr>\n",
       "      <th>75%</th>\n",
       "      <td>10.000000</td>\n",
       "      <td>0.0</td>\n",
       "      <td>1.000000</td>\n",
       "    </tr>\n",
       "    <tr>\n",
       "      <th>max</th>\n",
       "      <td>20.000000</td>\n",
       "      <td>0.0</td>\n",
       "      <td>3.000000</td>\n",
       "    </tr>\n",
       "  </tbody>\n",
       "</table>\n",
       "</div>"
      ],
      "text/plain": [
       "           likes  downs  num_comments\n",
       "count   9.000000    9.0      9.000000\n",
       "mean    7.666667    0.0      0.777778\n",
       "std     6.557439    0.0      1.092906\n",
       "min     1.000000    0.0      0.000000\n",
       "25%     3.000000    0.0      0.000000\n",
       "50%     5.000000    0.0      0.000000\n",
       "75%    10.000000    0.0      1.000000\n",
       "max    20.000000    0.0      3.000000"
      ]
     },
     "execution_count": 11,
     "metadata": {},
     "output_type": "execute_result"
    }
   ],
   "source": [
    "df.describe()"
   ]
  },
  {
   "cell_type": "markdown",
   "metadata": {},
   "source": [
    "### Get random recipes from spoonacular"
   ]
  },
  {
   "cell_type": "code",
   "execution_count": 27,
   "metadata": {},
   "outputs": [],
   "source": [
    "req_url = \"https://api.spoonacular.com/recipes/random?apiKey=\" + API_KEY_SPOONACULAR + \"&number=\" + str(LIMIT_SPOONACULAR_RECIPES)"
   ]
  },
  {
   "cell_type": "code",
   "execution_count": 22,
   "metadata": {},
   "outputs": [],
   "source": [
    "resp = requests.get(req_url)\n",
    "jresp = json.loads(resp.text)"
   ]
  },
  {
   "cell_type": "code",
   "execution_count": 31,
   "metadata": {},
   "outputs": [
    {
     "name": "stdout",
     "output_type": "stream",
     "text": [
      "22\n",
      "https://spoonacular.com/no-bake-fudge-brandy-brownies-653192\n",
      "159\n",
      "https://spoonacular.com/chicken-fajita-stuffed-bell-pepper-795751\n",
      "8\n",
      "https://spoonacular.com/crispy-rhubarb-pockets-640832\n",
      "7\n",
      "https://spoonacular.com/braised-pork-filipino-humba-635856\n",
      "291\n",
      "https://spoonacular.com/ultimate-chocolate-chunk-cookies-715483\n",
      "26\n",
      "https://spoonacular.com/rice-and-peas-with-coconut-curry-mackerel-716364\n",
      "22\n",
      "https://spoonacular.com/easy-to-make-spring-rolls-642129\n",
      "163\n",
      "https://spoonacular.com/what-to-make-for-dinner-tonight-bruschetta-style-pork-pasta-715538\n",
      "11\n",
      "https://spoonacular.com/refreshing-strawberry-limeade-658152\n",
      "8\n",
      "https://spoonacular.com/north-carolina-style-bbq-pulled-pork-653308\n"
     ]
    }
   ],
   "source": [
    "for recipe in jresp[\"recipes\"]:\n",
    "    print(recipe[\"aggregateLikes\"])\n",
    "    print(recipe[\"spoonacularSourceUrl\"])"
   ]
  },
  {
   "cell_type": "code",
   "execution_count": null,
   "metadata": {},
   "outputs": [],
   "source": []
  }
 ],
 "metadata": {
  "kernelspec": {
   "display_name": "Python 3",
   "language": "python",
   "name": "python3"
  },
  "language_info": {
   "codemirror_mode": {
    "name": "ipython",
    "version": 3
   },
   "file_extension": ".py",
   "mimetype": "text/x-python",
   "name": "python",
   "nbconvert_exporter": "python",
   "pygments_lexer": "ipython3",
   "version": "3.6.9"
  }
 },
 "nbformat": 4,
 "nbformat_minor": 2
}
