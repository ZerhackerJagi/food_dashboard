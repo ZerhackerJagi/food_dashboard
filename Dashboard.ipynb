{
 "cells": [
  {
   "cell_type": "markdown",
   "metadata": {},
   "source": [
    "# Dashboard zur Auswertung von Rezepten"
   ]
  },
  {
   "cell_type": "markdown",
   "metadata": {},
   "source": [
    "Grundlage sind die Datenbank Spoonacular sowie der Subreddit \"food\"\n",
    "\n",
    "### Use Cases:\n",
    "##### Reddit:\n",
    "1. Postzeit (Uhrzeit) der besten Posts\n",
    "2. Postzeit (Uhrzeit) der schlechtesten Posts\n",
    "3. längste Zeit in Top\n",
    "4. kürzeste Zeit in Top(?)\n",
    "5. Länge des Titels in Bezug auf Ups/Dauer in Top\n",
    "6. Kategorisierung mit NLP bzgl. Süß/Herzhaftes Gericht\n",
    "7. Kategorisierung mit Bilderkennung bzgl. Süß/Herzhaftes Gericht\n",
    "8. Up’s abhängig von Autor\n",
    "9. Anzahl der Kommentare in Abhängigkeit von Ups\n",
    "10. Anzahl der Kommentare in Abhängigkeit von Postzeit\n",
    "11. Anzahl der Kommentare in Abhängigkeit von Autor\n",
    "12. Anzahl der Kommentare über die Zeit\n",
    "13. Anzahl der Ups über die Zeit\n",
    "14. Kommentare: \n",
    "    1. Beziehung zwischen Personen erkennen/clustern\n",
    "\n",
    "\n",
    "    \n",
    "##### Spoonacular:\n",
    "15. Anteil vegane/vegetarische/fleischlastige Gerichte\n",
    "16. Anteil laktosefreie Gerichte\n",
    "17. Anteil glutenfreier Gerichte\n",
    "18. Bewertung im Verhältnis zu Inhaltsstoffen\n",
    "    1. Zucker    \n",
    "    2. Fett\n",
    "    3. Kalorien\n",
    "19. Zubereitungszeit in Abhängigkeit von Likes\n",
    "20. Kategorisierung aufgrund von Inhaltsstoffen\n",
    "21. Zubereitungszeit in Abhängigkeit von Kategorie \n",
    "\n",
    "\n",
    "##### Kombi:\n",
    "22. Kombi aus Spoonacular Nr. 17 und Top 10 der letzten 24h\n",
    "23. Vergleich der Beliebtheit der Rezepte: Spoonacular Likes vs. Reddit Ups\n"
   ]
  },
  {
   "cell_type": "markdown",
   "metadata": {},
   "source": [
    "## Requirements"
   ]
  },
  {
   "cell_type": "code",
   "execution_count": 1,
   "metadata": {},
   "outputs": [],
   "source": [
    "# Final Variablen\n",
    "API_KEY_SPOONACULAR = \"146fe79a630b4afb8306a2985bedc64c\"\n",
    "API_KEY_SPOONACULAR = \"6e0a91c81983423792b327bc4b78bb1d\"\n",
    "\n",
    "API_KEY_REDDIT = \"KAJ2xGzCOlH3hyTRADNdSBDuTBORvw\"\n",
    "API_CLIENTID_REDDIT = \"tSemvcUBRFCTYQ\"\n",
    "\n",
    "USERNAME_REDDIT = \"Short-Arrival7632\"\n",
    "PW_REDDIT = \"cookies123\""
   ]
  },
  {
   "cell_type": "code",
   "execution_count": 2,
   "metadata": {},
   "outputs": [],
   "source": [
    "# KONFIGURATION\n",
    "\n",
    "LIMIT_REDDIT_POSTS = 100\n",
    "LIMIT_SPOONACULAR_RECIPES = 100\n",
    "REDDIT_SAVE_INTERVALL = 10 # Minuten"
   ]
  },
  {
   "cell_type": "code",
   "execution_count": 3,
   "metadata": {},
   "outputs": [],
   "source": [
    "# Auf Windows ausführen (einmalig)\n",
    "# !pip install praw\n",
    "# !pip install pandas\n",
    "# !pip install matplotlib\n",
    "# !pip install mysql-connector-python"
   ]
  },
  {
   "cell_type": "code",
   "execution_count": 4,
   "metadata": {},
   "outputs": [
    {
     "data": {
      "text/plain": [
       "'\\n!pip3 install praw\\n!pip3 install pandas\\n!pip3 install matplotlib\\n!pip3 install mysql-connector-python\\n'"
      ]
     },
     "execution_count": 4,
     "metadata": {},
     "output_type": "execute_result"
    }
   ],
   "source": [
    "# Auf Linux ausführen (einmalig)\n",
    "\"\"\"\n",
    "!pip3 install praw\n",
    "!pip3 install pandas\n",
    "!pip3 install matplotlib\n",
    "!pip3 install mysql-connector-python\n",
    "\"\"\""
   ]
  },
  {
   "cell_type": "code",
   "execution_count": 5,
   "metadata": {},
   "outputs": [],
   "source": [
    "import praw\n",
    "import pandas as pd\n",
    "from datetime import datetime, timedelta\n",
    "import requests\n",
    "import json\n",
    "import matplotlib.pyplot as plt\n",
    "import matplotlib.dates as pdt\n",
    "import mysql.connector\n",
    "import re\n",
    "from tqdm import tqdm"
   ]
  },
  {
   "cell_type": "markdown",
   "metadata": {},
   "source": [
    "### Connect to Database"
   ]
  },
  {
   "cell_type": "code",
   "execution_count": 6,
   "metadata": {
    "scrolled": true
   },
   "outputs": [],
   "source": [
    "db_connection = mysql.connector.connect(\n",
    "  host= \"wp.jagi.wtf\",\n",
    "  user= \"redditu\",\n",
    "  password= \"redditMaster\",\n",
    "  database=\"reddit\"\n",
    "  )\n"
   ]
  },
  {
   "cell_type": "code",
   "execution_count": 7,
   "metadata": {},
   "outputs": [],
   "source": [
    "cursor = db_connection.cursor()"
   ]
  },
  {
   "cell_type": "code",
   "execution_count": 8,
   "metadata": {},
   "outputs": [],
   "source": [
    "db_connection.commit()"
   ]
  },
  {
   "cell_type": "code",
   "execution_count": 9,
   "metadata": {},
   "outputs": [],
   "source": [
    "cursor.execute(\"select count(id) from reddit\")"
   ]
  },
  {
   "cell_type": "code",
   "execution_count": 10,
   "metadata": {},
   "outputs": [
    {
     "name": "stdout",
     "output_type": "stream",
     "text": [
      "793100\n"
     ]
    }
   ],
   "source": [
    "for blub in cursor:\n",
    "    print(blub[0])"
   ]
  },
  {
   "cell_type": "markdown",
   "metadata": {},
   "source": [
    "### Get Data from Subreddit DB"
   ]
  },
  {
   "cell_type": "code",
   "execution_count": 11,
   "metadata": {},
   "outputs": [],
   "source": [
    "dfr = pd.read_sql(\"SELECT * FROM reddit\", db_connection)"
   ]
  },
  {
   "cell_type": "markdown",
   "metadata": {},
   "source": [
    "### Get Data from Spoonacular DB"
   ]
  },
  {
   "cell_type": "code",
   "execution_count": 12,
   "metadata": {},
   "outputs": [],
   "source": [
    "dfs = pd.read_sql(\"SELECT * FROM spoonacular\", db_connection)"
   ]
  },
  {
   "cell_type": "code",
   "execution_count": 13,
   "metadata": {},
   "outputs": [
    {
     "data": {
      "text/html": [
       "<div>\n",
       "<style scoped>\n",
       "    .dataframe tbody tr th:only-of-type {\n",
       "        vertical-align: middle;\n",
       "    }\n",
       "\n",
       "    .dataframe tbody tr th {\n",
       "        vertical-align: top;\n",
       "    }\n",
       "\n",
       "    .dataframe thead th {\n",
       "        text-align: right;\n",
       "    }\n",
       "</style>\n",
       "<table border=\"1\" class=\"dataframe\">\n",
       "  <thead>\n",
       "    <tr style=\"text-align: right;\">\n",
       "      <th></th>\n",
       "      <th>id</th>\n",
       "      <th>hour_created</th>\n",
       "      <th>time_created</th>\n",
       "      <th>day_created</th>\n",
       "      <th>author</th>\n",
       "      <th>title</th>\n",
       "      <th>ups</th>\n",
       "      <th>downs</th>\n",
       "      <th>num_comments</th>\n",
       "      <th>text</th>\n",
       "      <th>thumbnail</th>\n",
       "      <th>url</th>\n",
       "      <th>curr_time</th>\n",
       "    </tr>\n",
       "  </thead>\n",
       "  <tbody>\n",
       "    <tr>\n",
       "      <th>793095</th>\n",
       "      <td>821507</td>\n",
       "      <td>08</td>\n",
       "      <td>08:36:41</td>\n",
       "      <td>2021-04-09</td>\n",
       "      <td>yhzm</td>\n",
       "      <td>[Homemade] Koshari - Egypt's national dish</td>\n",
       "      <td>45</td>\n",
       "      <td>0</td>\n",
       "      <td>16</td>\n",
       "      <td></td>\n",
       "      <td>https://b.thumbs.redditmedia.com/EBxP5H1IRjH3H...</td>\n",
       "      <td>https://i.redd.it/xgkt1nc211s61.jpg</td>\n",
       "      <td>2021-04-09 15:10:05.747406</td>\n",
       "    </tr>\n",
       "    <tr>\n",
       "      <th>793096</th>\n",
       "      <td>821508</td>\n",
       "      <td>18</td>\n",
       "      <td>18:11:25</td>\n",
       "      <td>2021-04-09</td>\n",
       "      <td>WelshOkie</td>\n",
       "      <td>[homemade] Eggplant Parm!</td>\n",
       "      <td>10</td>\n",
       "      <td>0</td>\n",
       "      <td>0</td>\n",
       "      <td></td>\n",
       "      <td>https://b.thumbs.redditmedia.com/5a06L0QXiZixW...</td>\n",
       "      <td>https://i.redd.it/e26399i0w3s61.jpg</td>\n",
       "      <td>2021-04-09 15:10:05.749177</td>\n",
       "    </tr>\n",
       "    <tr>\n",
       "      <th>793097</th>\n",
       "      <td>821509</td>\n",
       "      <td>11</td>\n",
       "      <td>11:23:03</td>\n",
       "      <td>2021-04-09</td>\n",
       "      <td>hahayes234</td>\n",
       "      <td>NY Strip steak, asparagus and potatoes [homemade]</td>\n",
       "      <td>27</td>\n",
       "      <td>0</td>\n",
       "      <td>4</td>\n",
       "      <td></td>\n",
       "      <td>https://a.thumbs.redditmedia.com/cHPeDbrlf1VSA...</td>\n",
       "      <td>https://i.redd.it/s023xo85v1s61.jpg</td>\n",
       "      <td>2021-04-09 15:10:05.750932</td>\n",
       "    </tr>\n",
       "    <tr>\n",
       "      <th>793098</th>\n",
       "      <td>821510</td>\n",
       "      <td>14</td>\n",
       "      <td>14:16:34</td>\n",
       "      <td>2021-04-09</td>\n",
       "      <td>Acceptable_West_3871</td>\n",
       "      <td>[homemade] Seared Duck Breast w/ Cherry-Port R...</td>\n",
       "      <td>16</td>\n",
       "      <td>0</td>\n",
       "      <td>1</td>\n",
       "      <td></td>\n",
       "      <td>https://a.thumbs.redditmedia.com/yu2EyDJqk74VR...</td>\n",
       "      <td>https://i.redd.it/hd13vfy3q2s61.jpg</td>\n",
       "      <td>2021-04-09 15:10:05.752702</td>\n",
       "    </tr>\n",
       "    <tr>\n",
       "      <th>793099</th>\n",
       "      <td>821511</td>\n",
       "      <td>20</td>\n",
       "      <td>20:19:07</td>\n",
       "      <td>2021-04-09</td>\n",
       "      <td>No-Ad-322</td>\n",
       "      <td>[Homemade]Double smash burgers with fried onions</td>\n",
       "      <td>6</td>\n",
       "      <td>0</td>\n",
       "      <td>0</td>\n",
       "      <td></td>\n",
       "      <td>https://b.thumbs.redditmedia.com/7E1gU_ri9GwLy...</td>\n",
       "      <td>https://i.redd.it/mdqa40lsi4s61.jpg</td>\n",
       "      <td>2021-04-09 15:10:05.754498</td>\n",
       "    </tr>\n",
       "  </tbody>\n",
       "</table>\n",
       "</div>"
      ],
      "text/plain": [
       "            id hour_created time_created day_created                author  \\\n",
       "793095  821507           08     08:36:41  2021-04-09                  yhzm   \n",
       "793096  821508           18     18:11:25  2021-04-09             WelshOkie   \n",
       "793097  821509           11     11:23:03  2021-04-09            hahayes234   \n",
       "793098  821510           14     14:16:34  2021-04-09  Acceptable_West_3871   \n",
       "793099  821511           20     20:19:07  2021-04-09             No-Ad-322   \n",
       "\n",
       "                                                    title  ups  downs  \\\n",
       "793095         [Homemade] Koshari - Egypt's national dish   45      0   \n",
       "793096                          [homemade] Eggplant Parm!   10      0   \n",
       "793097  NY Strip steak, asparagus and potatoes [homemade]   27      0   \n",
       "793098  [homemade] Seared Duck Breast w/ Cherry-Port R...   16      0   \n",
       "793099   [Homemade]Double smash burgers with fried onions    6      0   \n",
       "\n",
       "        num_comments text                                          thumbnail  \\\n",
       "793095            16       https://b.thumbs.redditmedia.com/EBxP5H1IRjH3H...   \n",
       "793096             0       https://b.thumbs.redditmedia.com/5a06L0QXiZixW...   \n",
       "793097             4       https://a.thumbs.redditmedia.com/cHPeDbrlf1VSA...   \n",
       "793098             1       https://a.thumbs.redditmedia.com/yu2EyDJqk74VR...   \n",
       "793099             0       https://b.thumbs.redditmedia.com/7E1gU_ri9GwLy...   \n",
       "\n",
       "                                        url                   curr_time  \n",
       "793095  https://i.redd.it/xgkt1nc211s61.jpg  2021-04-09 15:10:05.747406  \n",
       "793096  https://i.redd.it/e26399i0w3s61.jpg  2021-04-09 15:10:05.749177  \n",
       "793097  https://i.redd.it/s023xo85v1s61.jpg  2021-04-09 15:10:05.750932  \n",
       "793098  https://i.redd.it/hd13vfy3q2s61.jpg  2021-04-09 15:10:05.752702  \n",
       "793099  https://i.redd.it/mdqa40lsi4s61.jpg  2021-04-09 15:10:05.754498  "
      ]
     },
     "execution_count": 13,
     "metadata": {},
     "output_type": "execute_result"
    }
   ],
   "source": [
    "dfr.tail()"
   ]
  },
  {
   "cell_type": "code",
   "execution_count": null,
   "metadata": {},
   "outputs": [],
   "source": []
  },
  {
   "cell_type": "markdown",
   "metadata": {},
   "source": [
    "### 1. Postzeit der besten Posts (0.9 Quantil)"
   ]
  },
  {
   "cell_type": "code",
   "execution_count": 19,
   "metadata": {},
   "outputs": [],
   "source": [
    "dfr_wd = dfr[[\"title\", \"ups\", \"time_created\", \"hour_created\", \"num_comments\", \"author\"]]\n",
    "dfr_wds = dfr_wd.sort_values(\"ups\", ascending=False)\n",
    "dfr_wods = dfr_wds.drop_duplicates(subset=[\"title\"]).copy()\n",
    "dfr_wods[\"time\"] = pd.to_datetime(dfr_wods[\"time_created\"])\n",
    "dfr_wodss = dfr_wods[(dfr_wods[\"ups\"]>dfr_wods[\"ups\"].quantile(0.9))].copy()\n",
    "dfr_wodsl = dfr_wods[dfr_wods[\"ups\"]<dfr_wods[\"ups\"].quantile(0.1)].copy()\n",
    "hour_dict = dfr_wodss.value_counts(subset=[\"hour_created\"]).to_dict()\n",
    "#hour_dict"
   ]
  },
  {
   "cell_type": "code",
   "execution_count": null,
   "metadata": {},
   "outputs": [],
   "source": [
    "testdf = dfr_wd[[\"time_created\", \"title\"]].copy()\n",
    "testdf.drop_duplicates(subset=[\"title\"], inplace=True)\n",
    "print(testdf.describe())\n",
    "#testdf.reset_index(testdf[\"time_created\"], inplace=True)\n",
    "testdf.head()"
   ]
  },
  {
   "cell_type": "code",
   "execution_count": null,
   "metadata": {},
   "outputs": [],
   "source": [
    "testdf = pd.to_datetime(dfr_wods[\"time_created\"])\n",
    "\n",
    "testdf = testdf.resample('d').first() \n",
    "\n",
    "#Take the moving mean with window size of 45 days \n",
    "testdf = testdf.rolling(window=45, min_periods=0).mean() "
   ]
  },
  {
   "cell_type": "code",
   "execution_count": null,
   "metadata": {},
   "outputs": [],
   "source": [
    "import numpy as np\n",
    "x = moving_average(vals)"
   ]
  },
  {
   "cell_type": "code",
   "execution_count": 17,
   "metadata": {},
   "outputs": [],
   "source": [
    "vals = sorted(dfr_wods[\"time_created\"].value_counts().to_dict().items())\n",
    "h = []\n",
    "c = []\n",
    "for pair in vals:\n",
    "    h.append(pair[0])\n",
    "    c.append(pair[1])\n",
    "h = pd.to_datetime(h)"
   ]
  },
  {
   "cell_type": "code",
   "execution_count": 18,
   "metadata": {},
   "outputs": [
    {
     "ename": "AttributeError",
     "evalue": "'AxesSubplot' object has no attribute 'xlabel'",
     "output_type": "error",
     "traceback": [
      "\u001b[0;31m---------------------------------------------------------------------------\u001b[0m",
      "\u001b[0;31mAttributeError\u001b[0m                            Traceback (most recent call last)",
      "\u001b[0;32m<ipython-input-18-9c5e9dc01920>\u001b[0m in \u001b[0;36m<module>\u001b[0;34m\u001b[0m\n\u001b[1;32m      8\u001b[0m \u001b[0mplt\u001b[0m\u001b[0;34m.\u001b[0m\u001b[0mgca\u001b[0m\u001b[0;34m(\u001b[0m\u001b[0;34m)\u001b[0m\u001b[0;34m.\u001b[0m\u001b[0mxaxis\u001b[0m\u001b[0;34m.\u001b[0m\u001b[0mset_major_formatter\u001b[0m\u001b[0;34m(\u001b[0m\u001b[0mmyFmt\u001b[0m\u001b[0;34m)\u001b[0m\u001b[0;34m\u001b[0m\u001b[0;34m\u001b[0m\u001b[0m\n\u001b[1;32m      9\u001b[0m \u001b[0mplt\u001b[0m\u001b[0;34m.\u001b[0m\u001b[0mtitle\u001b[0m\u001b[0;34m(\u001b[0m\u001b[0;34m\"Postzeit der erfolgreichsten Posts (> 10.000 Ups)\"\u001b[0m\u001b[0;34m)\u001b[0m\u001b[0;34m\u001b[0m\u001b[0;34m\u001b[0m\u001b[0m\n\u001b[0;32m---> 10\u001b[0;31m \u001b[0max\u001b[0m\u001b[0;34m.\u001b[0m\u001b[0mxlabel\u001b[0m\u001b[0;34m(\u001b[0m\u001b[0;34m\"Postzeit in Stunden\"\u001b[0m\u001b[0;34m)\u001b[0m\u001b[0;34m\u001b[0m\u001b[0;34m\u001b[0m\u001b[0m\n\u001b[0m\u001b[1;32m     11\u001b[0m \u001b[0max\u001b[0m\u001b[0;34m.\u001b[0m\u001b[0mylabel\u001b[0m\u001b[0;34m(\u001b[0m\u001b[0;34m\"Ups\"\u001b[0m\u001b[0;34m)\u001b[0m\u001b[0;34m\u001b[0m\u001b[0;34m\u001b[0m\u001b[0m\n\u001b[1;32m     12\u001b[0m \u001b[0max\u001b[0m\u001b[0;34m.\u001b[0m\u001b[0myticks\u001b[0m\u001b[0;34m(\u001b[0m\u001b[0;34m[\u001b[0m\u001b[0;36m0\u001b[0m\u001b[0;34m,\u001b[0m\u001b[0;36m10000\u001b[0m\u001b[0;34m,\u001b[0m\u001b[0;36m20000\u001b[0m\u001b[0;34m,\u001b[0m\u001b[0;36m30000\u001b[0m\u001b[0;34m,\u001b[0m\u001b[0;36m40000\u001b[0m\u001b[0;34m,\u001b[0m\u001b[0;36m50000\u001b[0m\u001b[0;34m,\u001b[0m\u001b[0;36m60000\u001b[0m\u001b[0;34m]\u001b[0m\u001b[0;34m)\u001b[0m\u001b[0;34m\u001b[0m\u001b[0;34m\u001b[0m\u001b[0m\n",
      "\u001b[0;31mAttributeError\u001b[0m: 'AxesSubplot' object has no attribute 'xlabel'"
     ]
    },
    {
     "data": {
      "image/png": "[encoded data removed]",
      "text/plain": [
       "<Figure size 432x288 with 2 Axes>"
      ]
     },
     "metadata": {
      "needs_background": "light"
     },
     "output_type": "display_data"
    }
   ],
   "source": [
    "myFmt = pdt.DateFormatter('%H')\n",
    "\n",
    "fig,ax=plt.subplots()\n",
    "ax.scatter(dfr_wodss[\"time\"], dfr_wodss[\"ups\"])\n",
    "ax2 = ax.twinx()\n",
    "ax2.plot(h, c, c='r')\n",
    "\n",
    "plt.gca().xaxis.set_major_formatter(myFmt)\n",
    "plt.title(\"Postzeit der erfolgreichsten Posts (> 10.000 Ups)\")\n",
    "ax.xlabel(\"Postzeit in Stunden\")\n",
    "ax.ylabel(\"Ups\")\n",
    "ax.yticks([0,10000,20000,30000,40000,50000,60000])\n",
    "\n",
    "ax2.ylabel(\"Anzahl Posts\")\n",
    "plt.show()"
   ]
  },
  {
   "cell_type": "code",
   "execution_count": 48,
   "metadata": {},
   "outputs": [
    {
     "name": "stdout",
     "output_type": "stream",
     "text": [
      "range(0, 24)\n"
     ]
    }
   ],
   "source": [
    "pd.to_numeric(dfr_wodsl[\"hour_created\"])\n",
    "print(range(24))"
   ]
  },
  {
   "cell_type": "markdown",
   "metadata": {},
   "source": [
    "### 2. Postzeit Beste (>0.9 Quantil) vs Schlechteste (<0.1 Quantil) Posts"
   ]
  },
  {
   "cell_type": "code",
   "execution_count": 75,
   "metadata": {},
   "outputs": [
    {
     "name": "stderr",
     "output_type": "stream",
     "text": [
      "/home/jakob/.local/lib/python3.6/site-packages/ipykernel_launcher.py:23: UserWarning: Matplotlib is currently using module://ipykernel.pylab.backend_inline, which is a non-GUI backend, so cannot show the figure.\n"
     ]
    },
    {
     "data": {
      "image/png": "[encoded data removed]",
      "text/plain": [
       "<Figure size 1080x360 with 3 Axes>"
      ]
     },
     "metadata": {
      "needs_background": "light"
     },
     "output_type": "display_data"
    }
   ],
   "source": [
    "#plt.scatter(dfr_wodsl[\"time\"], dfr_wodsl[\"ups\"])\n",
    "fig, (ax1, ax2, ax3) = plt.subplots(1,3, sharey=False, figsize=(15,5))\n",
    "\n",
    "ax1.set_title(\"schlechteste Posts (0.1 Quantil)\")\n",
    "ax1.hist(pd.to_numeric(dfr_wodsl[\"hour_created\"]), bins=range(25))\n",
    "ax1.set_xlabel(\"Postzeit in Stunden\")\n",
    "ax1.set_xticks(range(24))\n",
    "ax1.set_xlim([0,24])\n",
    "ax1.set_ylabel(\"Anzahl der Posts\")\n",
    "\n",
    "ax2.set_title(\"beste Posts (0.9 Quantil)\")\n",
    "ax2.hist(pd.to_numeric(dfr_wodss[\"hour_created\"]), bins=range(25))\n",
    "ax2.set_xlabel(\"Postzeit in Stunden\")\n",
    "ax2.set_xticks(range(24))\n",
    "ax2.set_xlim([0,24])\n",
    "\n",
    "ax3.set_title(\"Anzahl Posts overall\")\n",
    "ax3.hist(pd.to_numeric(dfr_wods[\"hour_created\"]), bins=range(25))\n",
    "ax3.set_xlabel(\"Postzeit in Stunden\")\n",
    "ax3.set_xticks(range(24))\n",
    "ax3.set_xlim([0,24])\n",
    "\n",
    "fig.show()"
   ]
  },
  {
   "cell_type": "markdown",
   "metadata": {},
   "source": [
    "### 3. längste Zeit in Top"
   ]
  },
  {
   "cell_type": "code",
   "execution_count": 76,
   "metadata": {},
   "outputs": [],
   "source": [
    "dfr_wdg = dfr_wd.groupby(\"title\")\n",
    "pairs = dfr_wdg.groups"
   ]
  },
  {
   "cell_type": "code",
   "execution_count": 68,
   "metadata": {},
   "outputs": [],
   "source": [
    "posts = []\n",
    "for key in pairs:\n",
    "    posts.append(dfr_wdg.get_group(key)[[\"time_created\", \"title\", \"ups\"]].to_dict())"
   ]
  },
  {
   "cell_type": "code",
   "execution_count": 69,
   "metadata": {},
   "outputs": [],
   "source": [
    "for post in posts:\n",
    "    post[\"duration\"] = len(post[\"time_created\"]) * REDDIT_SAVE_INTERVALL\n"
   ]
  },
  {
   "cell_type": "code",
   "execution_count": 70,
   "metadata": {},
   "outputs": [
    {
     "data": {
      "text/html": [
       "<div>\n",
       "<style scoped>\n",
       "    .dataframe tbody tr th:only-of-type {\n",
       "        vertical-align: middle;\n",
       "    }\n",
       "\n",
       "    .dataframe tbody tr th {\n",
       "        vertical-align: top;\n",
       "    }\n",
       "\n",
       "    .dataframe thead th {\n",
       "        text-align: right;\n",
       "    }\n",
       "</style>\n",
       "<table border=\"1\" class=\"dataframe\">\n",
       "  <thead>\n",
       "    <tr style=\"text-align: right;\">\n",
       "      <th></th>\n",
       "      <th>title</th>\n",
       "      <th>duration_minutes</th>\n",
       "      <th>max_ups</th>\n",
       "      <th>time_created</th>\n",
       "      <th>posttime</th>\n",
       "    </tr>\n",
       "  </thead>\n",
       "  <tbody>\n",
       "    <tr>\n",
       "      <th>5980</th>\n",
       "      <td>[Homemade] Pizza</td>\n",
       "      <td>19870</td>\n",
       "      <td>18016</td>\n",
       "      <td>07:29:14</td>\n",
       "      <td>2021-04-09 07:29:14</td>\n",
       "    </tr>\n",
       "    <tr>\n",
       "      <th>2666</th>\n",
       "      <td>[Homemade] Chocolate Chip Cookies</td>\n",
       "      <td>15040</td>\n",
       "      <td>19340</td>\n",
       "      <td>07:09:46</td>\n",
       "      <td>2021-04-09 07:09:46</td>\n",
       "    </tr>\n",
       "    <tr>\n",
       "      <th>4755</th>\n",
       "      <td>[Homemade] Lasagna</td>\n",
       "      <td>10920</td>\n",
       "      <td>1063</td>\n",
       "      <td>15:15:19</td>\n",
       "      <td>2021-04-09 15:15:19</td>\n",
       "    </tr>\n",
       "    <tr>\n",
       "      <th>2221</th>\n",
       "      <td>[Homemade] Cheeseburger</td>\n",
       "      <td>9900</td>\n",
       "      <td>1665</td>\n",
       "      <td>08:51:53</td>\n",
       "      <td>2021-04-09 08:51:53</td>\n",
       "    </tr>\n",
       "    <tr>\n",
       "      <th>1495</th>\n",
       "      <td>[Homemade] Birria Tacos</td>\n",
       "      <td>9280</td>\n",
       "      <td>9322</td>\n",
       "      <td>11:35:57</td>\n",
       "      <td>2021-04-09 11:35:57</td>\n",
       "    </tr>\n",
       "  </tbody>\n",
       "</table>\n",
       "</div>"
      ],
      "text/plain": [
       "                                  title  duration_minutes  max_ups  \\\n",
       "5980                   [Homemade] Pizza             19870    18016   \n",
       "2666  [Homemade] Chocolate Chip Cookies             15040    19340   \n",
       "4755                 [Homemade] Lasagna             10920     1063   \n",
       "2221            [Homemade] Cheeseburger              9900     1665   \n",
       "1495            [Homemade] Birria Tacos              9280     9322   \n",
       "\n",
       "     time_created            posttime  \n",
       "5980     07:29:14 2021-04-09 07:29:14  \n",
       "2666     07:09:46 2021-04-09 07:09:46  \n",
       "4755     15:15:19 2021-04-09 15:15:19  \n",
       "2221     08:51:53 2021-04-09 08:51:53  \n",
       "1495     11:35:57 2021-04-09 11:35:57  "
      ]
     },
     "execution_count": 70,
     "metadata": {},
     "output_type": "execute_result"
    }
   ],
   "source": [
    "duration = []\n",
    "for post in posts:\n",
    "    duration.append([list(post[\"title\"].values())[0], \n",
    "                     post[\"duration\"], \n",
    "                     max(list(post[\"ups\"].values())), \n",
    "                     list(post[\"time_created\"].values())[0]])\n",
    "dfrd = pd.DataFrame(duration, \n",
    "                    columns=[\"title\", \n",
    "                             \"duration_minutes\", \n",
    "                             \"max_ups\", \n",
    "                             \"time_created\"])\n",
    "dfrd_s = dfrd.sort_values(\"duration_minutes\", ascending=False)\n",
    "dfrd_s[\"posttime\"] = pd.to_datetime(dfrd_s[\"time_created\"])\n",
    "dfrd_s.head()"
   ]
  },
  {
   "cell_type": "code",
   "execution_count": 71,
   "metadata": {},
   "outputs": [
    {
     "data": {
      "image/png": "[encoded data removed]",
      "text/plain": [
       "<Figure size 432x288 with 1 Axes>"
      ]
     },
     "metadata": {
      "needs_background": "light"
     },
     "output_type": "display_data"
    }
   ],
   "source": [
    "limit = 20\n",
    "plt.scatter(dfrd_s[\"posttime\"][:limit], dfrd_s[\"duration_minutes\"][:limit])\n",
    "plt.gca().xaxis.set_major_formatter(myFmt)\n",
    "plt.title(\"Postzeit im Vergleich zur Dauer in Top\")\n",
    "plt.xlabel(\"Postzeit\")\n",
    "plt.ylabel(\"Minuten in Top\")\n",
    "plt.show()"
   ]
  },
  {
   "cell_type": "code",
   "execution_count": 72,
   "metadata": {},
   "outputs": [
    {
     "data": {
      "image/png": "[encoded data removed]",
      "text/plain": [
       "<Figure size 432x288 with 1 Axes>"
      ]
     },
     "metadata": {
      "needs_background": "light"
     },
     "output_type": "display_data"
    }
   ],
   "source": [
    "#limit = 20 #nur wenn nochmal verändert werden soll\n",
    "plt.scatter(dfrd_s[\"duration_minutes\"][:limit], dfrd_s[\"max_ups\"][:limit])\n",
    "plt.title(\"Dauer in Top im Vergleich zu den Maximalen Upvotes\")\n",
    "plt.xlabel(\"Dauer in Top in Minuten\")\n",
    "plt.ylabel(\"Maximale Ups im Tracking Zeitraum\")\n",
    "plt.show()"
   ]
  },
  {
   "cell_type": "markdown",
   "metadata": {},
   "source": [
    "### 4. Kürzeste Zeit in Top"
   ]
  },
  {
   "cell_type": "code",
   "execution_count": null,
   "metadata": {},
   "outputs": [],
   "source": [
    "dfrd_s[dfrd_s[\"duration_minutes\"] == 10].describe()"
   ]
  },
  {
   "cell_type": "code",
   "execution_count": null,
   "metadata": {},
   "outputs": [],
   "source": [
    "plt.hist(dfrd_s[dfrd_s[\"duration_minutes\"]==10][\"max_ups\"])\n",
    "plt.title(\"Ups der Posts mit der kürzesten Zeit\")\n",
    "plt.xlabel(\"Max Ups\")\n",
    "plt.ylabel(\"Anzahl der Posts\")\n",
    "plt.show()"
   ]
  },
  {
   "cell_type": "code",
   "execution_count": null,
   "metadata": {},
   "outputs": [],
   "source": [
    "limit = 111\n",
    "plt.scatter(dfrd_s[\"posttime\"][-limit:], dfrd_s[\"max_ups\"][-limit:])\n",
    "plt.gca().xaxis.set_major_formatter(myFmt)\n",
    "plt.title(\"Postzeit der Top = 10min im Vergleich der Ups\")\n",
    "plt.xlabel(\"Postzeit\")\n",
    "plt.ylabel(\"Max Upvotes\")\n",
    "plt.yticks([x for x in range(1,20,3)])\n",
    "plt.show()"
   ]
  },
  {
   "cell_type": "markdown",
   "metadata": {},
   "source": [
    "### 5.1 Länge des Titels in Bezug auf Ups"
   ]
  },
  {
   "cell_type": "code",
   "execution_count": null,
   "metadata": {},
   "outputs": [],
   "source": [
    "dfr_wods[\"title_length\"] = dfr_wods[\"title\"].apply(len)"
   ]
  },
  {
   "cell_type": "code",
   "execution_count": null,
   "metadata": {},
   "outputs": [],
   "source": [
    "limit = 500\n",
    "plt.scatter(dfr_wods[dfr_wods[\"ups\"]>limit][\"title_length\"], \n",
    "           dfr_wods[dfr_wods[\"ups\"]>limit][\"ups\"])\n",
    "plt.title(\"Länge des Titels im Vergleich zu Upvotes (Posts mit mehr als \" + str(limit) + \" Ups)\")\n",
    "plt.xlabel(\"Länge des Titels (Zeichen)\")\n",
    "plt.ylabel(\"Ups\")\n",
    "plt.show()"
   ]
  },
  {
   "cell_type": "markdown",
   "metadata": {},
   "source": [
    "### 5.2. Länge des Titels in Bezug auf Dauer in Top"
   ]
  },
  {
   "cell_type": "code",
   "execution_count": null,
   "metadata": {},
   "outputs": [],
   "source": [
    "dfrd_s[\"title_length\"] = dfrd_s[\"title\"].apply(len)"
   ]
  },
  {
   "cell_type": "code",
   "execution_count": null,
   "metadata": {},
   "outputs": [],
   "source": [
    "limit = 500\n",
    "plt.scatter(dfrd_s[dfrd_s[\"max_ups\"]>limit][\"title_length\"], \n",
    "           dfrd_s[dfrd_s[\"max_ups\"]>limit][\"duration_minutes\"])\n",
    "plt.title(\"Länge des Titels im Vergleich zu Dauer in Top (Posts mit mehr als \" + str(limit) + \" Ups)\")\n",
    "plt.xlabel(\"Länge des Titels (Zeichen)\")\n",
    "plt.ylabel(\"Dauer in Top\")\n",
    "plt.show()"
   ]
  },
  {
   "cell_type": "markdown",
   "metadata": {},
   "source": [
    "### 6. Kategorisierung bzgl. Süß/Herzhaft (NLP)"
   ]
  },
  {
   "cell_type": "code",
   "execution_count": null,
   "metadata": {},
   "outputs": [],
   "source": [
    "# von Alex in dedizierten File"
   ]
  },
  {
   "cell_type": "markdown",
   "metadata": {},
   "source": [
    "### 7. Kategorisierung bzgl. Süß/Herzhaft (Bilderkennung)"
   ]
  },
  {
   "cell_type": "code",
   "execution_count": null,
   "metadata": {},
   "outputs": [],
   "source": []
  },
  {
   "cell_type": "markdown",
   "metadata": {},
   "source": [
    "### 8. Ups abhängig vom Autor"
   ]
  },
  {
   "cell_type": "code",
   "execution_count": null,
   "metadata": {},
   "outputs": [],
   "source": [
    "author_dict = dfr_wods.value_counts(subset=[\"author\"]).to_dict()"
   ]
  },
  {
   "cell_type": "code",
   "execution_count": null,
   "metadata": {},
   "outputs": [],
   "source": [
    "authors = []\n",
    "\n",
    "for key in author_dict:\n",
    "    author = [key[0], \n",
    "              len(dfr_wods[dfr_wods[\"author\"]==key[0]][\"ups\"].index),\n",
    "              dfr_wods[dfr_wods[\"author\"]==key[0]][\"ups\"].sum()]\n",
    "    authors.append(author)"
   ]
  },
  {
   "cell_type": "code",
   "execution_count": null,
   "metadata": {},
   "outputs": [],
   "source": [
    "dfa = pd.DataFrame(authors, columns=[\"author\", \"posts\", \"ups\"])\n",
    "dfa_s = dfa.sort_values(\"ups\", ascending=False)\n",
    "dfa_s.head()\n",
    "dfa_ss = dfa_s[dfa_s[\"ups\"]> 10000]"
   ]
  },
  {
   "cell_type": "code",
   "execution_count": null,
   "metadata": {
    "scrolled": false
   },
   "outputs": [],
   "source": [
    "plt.bar(dfa_ss[\"author\"], dfa_ss[\"ups\"])\n",
    "plt.xticks(rotation='vertical')\n",
    "plt.title(\"Ups abhängig vom Autor, Autoren mit > 10.000 Ups gesamt\")\n",
    "plt.ylabel(\"Ups\")\n",
    "plt.show()"
   ]
  },
  {
   "cell_type": "markdown",
   "metadata": {},
   "source": [
    "### 8.1. Anzahl Posts pro Autor in Abhängigkeit der Ups gesamt"
   ]
  },
  {
   "cell_type": "code",
   "execution_count": null,
   "metadata": {},
   "outputs": [],
   "source": [
    "plt.scatter(dfa_s[\"posts\"], dfa_s[\"ups\"])\n",
    "plt.xlabel(\"Posts\")\n",
    "plt.ylabel(\"Ups\")\n",
    "plt.title(\"Verhältnis Posts zu Ups\")\n",
    "plt.show()"
   ]
  },
  {
   "cell_type": "markdown",
   "metadata": {},
   "source": [
    "### 9. Anzahl Kommentare in Abhängigkeit von Ups"
   ]
  },
  {
   "cell_type": "code",
   "execution_count": null,
   "metadata": {},
   "outputs": [],
   "source": [
    "limit = 500\n",
    "plt.scatter(dfr_wods[dfr_wods[\"ups\"]>limit][\"ups\"],\n",
    "           dfr_wods[dfr_wods[\"ups\"]>limit][\"num_comments\"])\n",
    "plt.title(\"Kommentare in Abhängigkeit von Ups. Posts >\"+ str(limit) + \" Upvotes\")\n",
    "plt.xlabel(\"Ups\")\n",
    "plt.ylabel(\"Anzahl Kommentare\")\n",
    "plt.show()"
   ]
  },
  {
   "cell_type": "markdown",
   "metadata": {},
   "source": [
    "### 10. Anzahl Kommentare in Abhängigkeit von Postzeit"
   ]
  },
  {
   "cell_type": "code",
   "execution_count": null,
   "metadata": {},
   "outputs": [],
   "source": [
    "limit = 100\n",
    "plt.scatter(dfr_wods[dfr_wods[\"num_comments\"]>limit][\"time\"],\n",
    "           dfr_wods[dfr_wods[\"num_comments\"]>limit][\"num_comments\"])\n",
    "plt.gca().xaxis.set_major_formatter(myFmt)\n",
    "plt.title(\"Anzahl Kommentare in Abhängigkeit von Postzeit. Posts >\" + str(limit) + \" Kommentare\")\n",
    "plt.xlabel(\"Postzeit\")\n",
    "plt.ylabel(\"Anzahl Kommentare\")\n",
    "plt.show()"
   ]
  },
  {
   "cell_type": "markdown",
   "metadata": {},
   "source": [
    "### 11. Anzahl Kommentare in Abhängigkeit vom Autor"
   ]
  },
  {
   "cell_type": "code",
   "execution_count": null,
   "metadata": {},
   "outputs": [],
   "source": [
    "authors2 = []\n",
    "\n",
    "for key in author_dict:\n",
    "    author = [key[0], \n",
    "              len(dfr_wods[dfr_wods[\"author\"]==key[0]][\"ups\"].index),\n",
    "              dfr_wods[dfr_wods[\"author\"]==key[0]][\"ups\"].max(),\n",
    "             dfr_wods[dfr_wods[\"author\"]==key[0]][\"num_comments\"].max()]\n",
    "    authors2.append(author)"
   ]
  },
  {
   "cell_type": "code",
   "execution_count": null,
   "metadata": {},
   "outputs": [],
   "source": [
    "authors2[0]"
   ]
  },
  {
   "cell_type": "code",
   "execution_count": null,
   "metadata": {},
   "outputs": [],
   "source": [
    "dfa2 = pd.DataFrame(authors2, columns=[\"author\", \"posts\", \"ups\", \"num_comments\"])\n",
    "dfa2_s = dfa2.sort_values(\"num_comments\", ascending=False)"
   ]
  },
  {
   "cell_type": "code",
   "execution_count": null,
   "metadata": {},
   "outputs": [],
   "source": [
    "limit = 100\n",
    "plt.bar(dfa2_s[dfa2_s[\"num_comments\"]>limit][\"author\"], \n",
    "        dfa2_s[dfa2_s[\"num_comments\"]>limit][\"num_comments\"])\n",
    "plt.xticks(rotation='vertical')\n",
    "plt.title(\"Kommentare abhängig vom Autor. Posts mit >\" + str(limit) + \" Kommentaren\")\n",
    "plt.ylabel(\"Anzahl Kommentare\")\n",
    "plt.show()"
   ]
  },
  {
   "cell_type": "markdown",
   "metadata": {},
   "source": [
    "### 12. Anzahl Kommentare über die Zeit"
   ]
  },
  {
   "cell_type": "code",
   "execution_count": null,
   "metadata": {},
   "outputs": [],
   "source": [
    "dfr[\"time\"] = pd.to_datetime(dfr[\"curr_time\"])\n",
    "critical_date = datetime.now() - timedelta(days=14)"
   ]
  },
  {
   "cell_type": "code",
   "execution_count": null,
   "metadata": {},
   "outputs": [],
   "source": [
    "plt.plot(dfr[(dfr[\"time\"]>critical_date) & (dfr[\"ups\"]>10000)][\"time\"],\n",
    "        dfr[(dfr[\"time\"]>critical_date) & (dfr[\"ups\"]>10000)][\"num_comments\"])\n",
    "color=iter(plt.cm.rainbow(np.linspace(0,1,n)))\n",
    "for i in range(n):\n",
    "   c=next(color)\n",
    "\n",
    "plt.gca().xaxis.set_major_formatter(myFmt)\n",
    "plt.show()"
   ]
  },
  {
   "cell_type": "code",
   "execution_count": null,
   "metadata": {},
   "outputs": [],
   "source": []
  },
  {
   "cell_type": "code",
   "execution_count": null,
   "metadata": {},
   "outputs": [],
   "source": []
  },
  {
   "cell_type": "code",
   "execution_count": null,
   "metadata": {},
   "outputs": [],
   "source": []
  },
  {
   "cell_type": "code",
   "execution_count": null,
   "metadata": {},
   "outputs": [],
   "source": []
  },
  {
   "cell_type": "markdown",
   "metadata": {},
   "source": [
    "# --------------------\n",
    "# Spoonacular\n",
    "# --------------------\n",
    "### 16. Anteil vegane/vegetarische/fleischhaltige Gerichte"
   ]
  },
  {
   "cell_type": "code",
   "execution_count": null,
   "metadata": {},
   "outputs": [],
   "source": [
    "dfs_wod = dfs.drop_duplicates(subset=[\"url\"])"
   ]
  },
  {
   "cell_type": "code",
   "execution_count": null,
   "metadata": {},
   "outputs": [],
   "source": [
    "parts = dfs_wod[[\"vegetarian\", \"vegan\"]].sum()"
   ]
  },
  {
   "cell_type": "code",
   "execution_count": null,
   "metadata": {},
   "outputs": [],
   "source": [
    "fges = dfs_wod[\"vegetarian\"].count()\n",
    "fvegn = dfs_wod[\"vegan\"].sum()\n",
    "fvegt = dfs_wod[\"vegetarian\"].sum() - fvegn\n",
    "frest = fges - fvegt - fvegn"
   ]
  },
  {
   "cell_type": "code",
   "execution_count": null,
   "metadata": {},
   "outputs": [],
   "source": [
    "plt.pie([fvegn, fvegt, frest], \n",
    "        labels=[\"Vegan\", \"Vegetarisch\", \"Rest\"],\n",
    "       autopct='%1.1f%%', explode=(0.1,0.1,0.1))\n",
    "plt.axis('equal')\n",
    "plt.title(\"Anteil der Essensrichtung der Spoonacular DB. n=\" + str(dfs_wod[\"dairy_free\"].count()))\n",
    "plt.show()"
   ]
  },
  {
   "cell_type": "markdown",
   "metadata": {},
   "source": [
    "### 17. Anteil laktosefreie Gerichte"
   ]
  },
  {
   "cell_type": "code",
   "execution_count": null,
   "metadata": {},
   "outputs": [],
   "source": [
    "plt.pie([dfs_wod[\"dairy_free\"].sum(), \n",
    "         dfs_wod[\"dairy_free\"].count() - dfs_wod[\"dairy_free\"].sum()], \n",
    "        labels=[\"Laktosefrei\", \"Nicht Laktosefrei\"],\n",
    "       autopct='%1.1f%%', explode=(0.1,0.1))\n",
    "plt.axis('equal')\n",
    "plt.title(\"Anteil der Laktosefreien Rezepte der Spoonacular DB. n=\" + str(dfs_wod[\"dairy_free\"].count()))\n",
    "plt.show()"
   ]
  },
  {
   "cell_type": "markdown",
   "metadata": {},
   "source": [
    "### 18. Anteil glutenfreier Gerichte"
   ]
  },
  {
   "cell_type": "code",
   "execution_count": null,
   "metadata": {},
   "outputs": [],
   "source": [
    "plt.pie([dfs_wod[\"gluten_free\"].sum(), \n",
    "         dfs_wod[\"gluten_free\"].count() - dfs_wod[\"gluten_free\"].sum()], \n",
    "        labels=[\"Glutenfrei\", \"Nicht Glutenfrei\"],\n",
    "       autopct='%1.1f%%', explode=(0.1,0.1))\n",
    "plt.axis('equal')\n",
    "plt.title(\"Anteil der Glutenfreien Rezepte der Spoonacular DB. n=\" + str(dfs_wod[\"gluten_free\"].count()))\n",
    "plt.show()"
   ]
  },
  {
   "cell_type": "code",
   "execution_count": null,
   "metadata": {},
   "outputs": [],
   "source": []
  },
  {
   "cell_type": "code",
   "execution_count": null,
   "metadata": {},
   "outputs": [],
   "source": []
  },
  {
   "cell_type": "code",
   "execution_count": null,
   "metadata": {},
   "outputs": [],
   "source": [
    "def filter_category(data):\n",
    "    counter = {}\n",
    "    for word in data:\n",
    "        end = False\n",
    "        w = \"\"\n",
    "        word = word[0].lower()\n",
    "        for ch in word:\n",
    "            if end == False:\n",
    "                if ch == \"[\":\n",
    "                    w = w + ch\n",
    "                elif ch == \"]\":\n",
    "                    w = w+ ch\n",
    "                    end = True\n",
    "                else:\n",
    "                    w = w + ch\n",
    "        if len(w) > 1:\n",
    "            if w[0] == \"[\":\n",
    "                try:\n",
    "                    counter[w] = counter[w] + 1\n",
    "                except:\n",
    "                    counter[w] = 1\n",
    "    return counter"
   ]
  },
  {
   "cell_type": "code",
   "execution_count": null,
   "metadata": {},
   "outputs": [],
   "source": [
    "x = filter_category(data)"
   ]
  },
  {
   "cell_type": "code",
   "execution_count": null,
   "metadata": {},
   "outputs": [],
   "source": [
    "x"
   ]
  },
  {
   "cell_type": "markdown",
   "metadata": {},
   "source": [
    "# Reddit Stuff mit Autoren"
   ]
  },
  {
   "cell_type": "code",
   "execution_count": null,
   "metadata": {},
   "outputs": [],
   "source": [
    "autoren = dfr[[\"author\", \"ups\", \"title\", \"time_created\"]].drop_duplicates(subset=[\"author\"]).copy()"
   ]
  },
  {
   "cell_type": "code",
   "execution_count": null,
   "metadata": {},
   "outputs": [],
   "source": [
    "autoren.head()"
   ]
  },
  {
   "cell_type": "code",
   "execution_count": null,
   "metadata": {},
   "outputs": [],
   "source": [
    "reddit = praw.Reddit(client_id = API_CLIENTID_REDDIT,\n",
    "                    client_secret = API_KEY_REDDIT,\n",
    "                    username= USERNAME_REDDIT,\n",
    "                    password = PW_REDDIT,\n",
    "                    user_agent = \"food_dashboard_v01\")\n",
    "\n",
    "subreddit = reddit.subreddit(\"food\")"
   ]
  },
  {
   "cell_type": "code",
   "execution_count": null,
   "metadata": {},
   "outputs": [],
   "source": [
    "user = reddit.redditor(\"daynestxbbq\")"
   ]
  },
  {
   "cell_type": "code",
   "execution_count": null,
   "metadata": {},
   "outputs": [],
   "source": [
    "time_created = user.created_utc"
   ]
  },
  {
   "cell_type": "code",
   "execution_count": null,
   "metadata": {},
   "outputs": [],
   "source": [
    "mod = user.is_mod\n",
    "employee = user.is_employee"
   ]
  },
  {
   "cell_type": "code",
   "execution_count": null,
   "metadata": {},
   "outputs": [],
   "source": [
    "datetime.fromtimestamp(time_created).strftime('%Y-%m-%d')"
   ]
  },
  {
   "cell_type": "code",
   "execution_count": null,
   "metadata": {},
   "outputs": [],
   "source": []
  },
  {
   "cell_type": "code",
   "execution_count": null,
   "metadata": {},
   "outputs": [],
   "source": []
  },
  {
   "cell_type": "code",
   "execution_count": null,
   "metadata": {},
   "outputs": [],
   "source": []
  },
  {
   "cell_type": "code",
   "execution_count": null,
   "metadata": {},
   "outputs": [],
   "source": []
  },
  {
   "cell_type": "code",
   "execution_count": null,
   "metadata": {},
   "outputs": [],
   "source": [
    "df_user = pd.DataFrame(data={}, columns=[\"user\", \"created\", \"moderator\", \"employee\", \"karma\"])"
   ]
  },
  {
   "cell_type": "code",
   "execution_count": null,
   "metadata": {},
   "outputs": [],
   "source": [
    "def get_userdata_from_username(username, df_user):\n",
    "    user = reddit.redditor(username)\n",
    "    account_created = datetime.fromtimestamp(user.created_utc).strftime('%Y-%m-%d')\n",
    "    is_mod = user.is_mod\n",
    "    is_employee = user.is_employee\n",
    "    link_karma = user.link_karma\n",
    "    new_row = {\"user\": username, \"created\": account_created, \"moderator\": is_mod, \"employee\": is_employee, \"karma\": link_karma}\n",
    "    df_user = df_user.append(new_row, ignore_index=True)\n",
    "    time.sleep(5)\n",
    "    return df_user"
   ]
  },
  {
   "cell_type": "code",
   "execution_count": null,
   "metadata": {},
   "outputs": [],
   "source": [
    "df_user = get_userdata_from_username(\"daynestxbbq\", df_user)\n",
    "df_user"
   ]
  },
  {
   "cell_type": "code",
   "execution_count": null,
   "metadata": {},
   "outputs": [],
   "source": [
    "import praw\n",
    "import pandas as pd\n",
    "import time\n",
    "from tqdm import tqdm\n",
    "\n",
    "API_KEY_REDDIT = \"KAJ2xGzCOlH3hyTRADNdSBDuTBORvw\"\n",
    "API_CLIENTID_REDDIT = \"tSemvcUBRFCTYQ\"\n",
    "\n",
    "USERNAME_REDDIT = \"Short-Arrival7632\"\n",
    "PW_REDDIT = \"cookies123\"\n",
    "\n",
    "\n",
    "reddit = praw.Reddit(client_id = API_CLIENTID_REDDIT,\n",
    "                    client_secret = API_KEY_REDDIT,\n",
    "                    username= USERNAME_REDDIT,\n",
    "                    password = PW_REDDIT,\n",
    "                    user_agent = \"food_dashboard_v01\")\n",
    "\n",
    "db_connection = mysql.connector.connect(\n",
    "  host= \"wp.jagi.wtf\",\n",
    "  user= \"redditu\",\n",
    "  password= \"redditMaster\",\n",
    "  database=\"reddit\"\n",
    "  )\n",
    "\n",
    "cursor = db_connection.cursor()\n",
    "\n",
    "\n",
    "dfr = pd.read_sql(\"SELECT author FROM reddit GROUP BY author\", db_connection)\n",
    "df_author = dfr.to_dict()[\"author\"]\n",
    "author_count = len(df_author)\n",
    "\n",
    "def get_insert_query_for_userdata_from_username(username, cursor, reddit, db_connection):\n",
    "    QUERY = \"INSERT INTO users(username, created_utc, is_mod, is_employee, link_karma) values (%s,%s,%s,%s,%s);\"\n",
    "    try:\n",
    "        user = reddit.redditor(username)\n",
    "        account_created = user.created_utc\n",
    "        is_mod = user.is_mod\n",
    "        is_employee = user.is_employee\n",
    "        link_karma = user.link_karma\n",
    "    except:\n",
    "        account_created = 0\n",
    "        is_mod=0\n",
    "        is_employee=0\n",
    "        link_karma=-1\n",
    "    print(f\"Userdata: {username}, is_mod: {is_mod}, is_employee: {is_employee}, created:{account_created}\")\n",
    "    if not(account_created is None):\n",
    "        vals = (username,\n",
    "               account_created,\n",
    "               int(is_mod),\n",
    "               int(is_employee),\n",
    "               link_karma)\n",
    "        print(\"Query:\")\n",
    "        print(QUERY % vals)\n",
    "        cursor.execute(QUERY, vals)\n",
    "        time.sleep(1)\n",
    "        print(\"next reddit user\")\n",
    "        db_connection.commit()\n",
    "        return True\n",
    "    time.sleep(20)\n",
    "    return False\n",
    "    \n",
    "\n",
    "for i in tqdm(range(author_count)):\n",
    "    get_insert_query_for_userdata_from_username(df_author[i], cursor, reddit, db_connection)\n",
    "\n",
    "cursor.close()\n",
    "db_connection.close()"
   ]
  },
  {
   "cell_type": "code",
   "execution_count": null,
   "metadata": {},
   "outputs": [],
   "source": [
    "dfr = pd.read_sql(\"SELECT author FROM reddit GROUP BY author\", db_connection)"
   ]
  },
  {
   "cell_type": "code",
   "execution_count": null,
   "metadata": {},
   "outputs": [],
   "source": [
    "df_author = dfr.to_dict()[\"author\"]"
   ]
  },
  {
   "cell_type": "code",
   "execution_count": null,
   "metadata": {},
   "outputs": [],
   "source": [
    "len(df_author)"
   ]
  },
  {
   "cell_type": "code",
   "execution_count": null,
   "metadata": {},
   "outputs": [],
   "source": [
    "df_author[5]"
   ]
  },
  {
   "cell_type": "code",
   "execution_count": null,
   "metadata": {},
   "outputs": [],
   "source": [
    "x = df[\"hour_created\"].value_counts().to_dict()\n",
    "sorted_hour = []\n",
    "sorted_counts = []\n",
    "for elem in sorted(x.items()):\n",
    "    sorted_hour.append(elem[0])\n",
    "    sorted_counts.append(elem[1])\n"
   ]
  },
  {
   "cell_type": "code",
   "execution_count": null,
   "metadata": {
    "scrolled": true
   },
   "outputs": [],
   "source": []
  },
  {
   "cell_type": "code",
   "execution_count": null,
   "metadata": {},
   "outputs": [],
   "source": [
    "plt.bar(sorted_hour, sorted_counts)"
   ]
  },
  {
   "cell_type": "code",
   "execution_count": null,
   "metadata": {},
   "outputs": [],
   "source": [
    "df[\"cleaned_text\"] = df[\"title\"].apply(str.lower)"
   ]
  },
  {
   "cell_type": "code",
   "execution_count": null,
   "metadata": {},
   "outputs": [],
   "source": [
    "def delete_homemade(text):\n",
    "    new_text = \"\"\n",
    "    old_text = text.split()\n",
    "    for word in old_text:\n",
    "        if word[0] != \"[\":\n",
    "            if len(new_text) == 0:\n",
    "                new_text = word\n",
    "            else:\n",
    "                new_text = new_text + \",\" + word\n",
    "    return new_text"
   ]
  },
  {
   "cell_type": "code",
   "execution_count": null,
   "metadata": {},
   "outputs": [],
   "source": [
    "df[\"cltext\"] = df[\"cleaned_text\"].apply(delete_homemade)"
   ]
  },
  {
   "cell_type": "code",
   "execution_count": null,
   "metadata": {},
   "outputs": [],
   "source": [
    "df.head()"
   ]
  },
  {
   "cell_type": "code",
   "execution_count": null,
   "metadata": {},
   "outputs": [],
   "source": [
    "def getRecipe(suchwort):\n",
    "    req_url = \"https://api.spoonacular.com/recipes/complexSearch?apiKey=\" + API_KEY_SPOONACULAR + \"&query=\" + suchwort + \"&number=\" + str(LIMIT_SPOONACULAR_RECIPES) + \"&addRecipeNutrition=TRUE\"\n",
    "    resp = requests.get(req_url)\n",
    "    jresp = json.loads(resp.text)\n",
    "    all_recipes = []\n",
    "    for recipe in jresp[\"results\"]:\n",
    "        rlist = [recipe[\"vegetarian\"], \n",
    "        recipe[\"vegan\"],\n",
    "        recipe[\"glutenFree\"],\n",
    "        recipe[\"dairyFree\"],\n",
    "        recipe[\"aggregateLikes\"],\n",
    "        recipe[\"readyInMinutes\"],\n",
    "        recipe[\"spoonacularSourceUrl\"]]\n",
    "        \n",
    "        nutrients = recipe[\"nutrition\"][\"nutrients\"]\n",
    "        ingredients = recipe[\"nutrition\"][\"ingredients\"]\n",
    "        \n",
    "        for nutrient in nutrients:\n",
    "            # Calories, Sugar, Fat, Carbohydrates\n",
    "            # name, amount, unit\n",
    "            itemList = [\"Calories\", \"Sugar\", \"Fat\"]\n",
    "            if nutrient[\"name\"] in itemList:\n",
    "                rlist.append(nutrient[\"amount\"])\n",
    "                \n",
    "        ilist = []\n",
    "        for ingredient in ingredients:\n",
    "            # name\n",
    "            ilist.append(ingredient[\"name\"])\n",
    "        rlist.append(ilist)\n",
    "\n",
    "        all_recipes.append(rlist)\n",
    "    return all_recipes    "
   ]
  },
  {
   "cell_type": "code",
   "execution_count": null,
   "metadata": {},
   "outputs": [],
   "source": [
    "x = getRecipe(\"raspberry\")"
   ]
  },
  {
   "cell_type": "code",
   "execution_count": null,
   "metadata": {},
   "outputs": [],
   "source": [
    "x"
   ]
  },
  {
   "cell_type": "markdown",
   "metadata": {},
   "source": [
    "### Get random recipes from spoonacular"
   ]
  },
  {
   "cell_type": "code",
   "execution_count": null,
   "metadata": {},
   "outputs": [],
   "source": [
    "req_url = \"https://api.spoonacular.com/recipes/random?apiKey=\" + API_KEY_SPOONACULAR + \"&number=\" + str(LIMIT_SPOONACULAR_RECIPES) + \"&addRecipeNutrition=TRUE\""
   ]
  },
  {
   "cell_type": "code",
   "execution_count": null,
   "metadata": {},
   "outputs": [],
   "source": [
    "resp = requests.get(req_url)\n",
    "jresp = json.loads(resp.text)"
   ]
  },
  {
   "cell_type": "code",
   "execution_count": null,
   "metadata": {
    "scrolled": true
   },
   "outputs": [],
   "source": [
    "for recipe in jresp[\"recipes\"]:\n",
    "    print(recipe)\n",
    "    break\n",
    "    print(recipe[\"aggregateLikes\"])\n",
    "    print(recipe[\"spoonacularSourceUrl\"])"
   ]
  },
  {
   "cell_type": "code",
   "execution_count": null,
   "metadata": {},
   "outputs": [],
   "source": [
    "datetime.now()"
   ]
  },
  {
   "cell_type": "markdown",
   "metadata": {},
   "source": [
    "### Handle data from database"
   ]
  },
  {
   "cell_type": "code",
   "execution_count": null,
   "metadata": {},
   "outputs": [],
   "source": [
    "# remember ndf? now let's analyze\n",
    "ndf.head()"
   ]
  },
  {
   "cell_type": "code",
   "execution_count": null,
   "metadata": {},
   "outputs": [],
   "source": [
    "# title, ups, curr_time\n",
    "x= ndf[ndf[\"title\"] == \"[Homemade] Chocolate Chip Cookies\"]"
   ]
  },
  {
   "cell_type": "code",
   "execution_count": null,
   "metadata": {},
   "outputs": [],
   "source": [
    "x[\"curr_time\"] = pd.to_datetime(x[\"curr_time\"])\n"
   ]
  },
  {
   "cell_type": "code",
   "execution_count": null,
   "metadata": {},
   "outputs": [],
   "source": [
    "plt.plot(x[\"curr_time\"], x[\"ups\"])"
   ]
  },
  {
   "cell_type": "code",
   "execution_count": null,
   "metadata": {},
   "outputs": [],
   "source": [
    "x[\"time_created\"]"
   ]
  },
  {
   "cell_type": "code",
   "execution_count": null,
   "metadata": {},
   "outputs": [],
   "source": [
    "def get_uniques(title):\n",
    "    data = ndf[ndf[\"title\"] == title]\n",
    "    dataDf = data[[\"title\", \"ups\", \"curr_time\"]]\n",
    "    return dataDf.values.tolist()"
   ]
  },
  {
   "cell_type": "code",
   "execution_count": null,
   "metadata": {},
   "outputs": [],
   "source": [
    "ndf[\"toFilter\"] = ndf[\"title\"].apply(get_uniques) # vorsicht dauert lange"
   ]
  },
  {
   "cell_type": "code",
   "execution_count": null,
   "metadata": {},
   "outputs": [],
   "source": []
  },
  {
   "cell_type": "code",
   "execution_count": null,
   "metadata": {},
   "outputs": [],
   "source": [
    "blub = ndf[\"toFilter\"].iloc[1]"
   ]
  },
  {
   "cell_type": "code",
   "execution_count": null,
   "metadata": {},
   "outputs": [],
   "source": [
    "blubDf = pd.DataFrame(blub, columns=[\"title\", \"ups\", \"curr_time\"])\n",
    "blubDf[\"time\"] = pd.to_datetime(blubDf[\"curr_time\"])"
   ]
  },
  {
   "cell_type": "code",
   "execution_count": null,
   "metadata": {},
   "outputs": [],
   "source": [
    "plt.plot(blubDf[\"time\"], blubDf[\"ups\"])"
   ]
  },
  {
   "cell_type": "code",
   "execution_count": null,
   "metadata": {},
   "outputs": [],
   "source": [
    "sorted = ndf.sort_values(['title', 'id'], ascending = [True, False])\n",
    "\n",
    "first = sorted.groupby('title').first().reset_index()"
   ]
  },
  {
   "cell_type": "code",
   "execution_count": null,
   "metadata": {},
   "outputs": [],
   "source": [
    "for i in range(1,50):\n",
    "    blub = first[\"toFilter\"].iloc[i]\n",
    "    blubDf = pd.DataFrame(blub, columns=[\"title\", \"ups\", \"curr_time\"])\n",
    "    blubDf[\"time\"] = pd.to_datetime(blubDf[\"curr_time\"])\n",
    "    plt.plot(blubDf[\"time\"], blubDf[\"ups\"])\n",
    "plt.yscale('log') # logarithmische Skalierung\n",
    "plt.show()"
   ]
  },
  {
   "cell_type": "code",
   "execution_count": null,
   "metadata": {},
   "outputs": [],
   "source": [
    "maxVal = {\"title\": \"\", \"ups\": 0}\n",
    "for i in range(1, len(ndf[\"title\"])):\n",
    "    pass"
   ]
  },
  {
   "cell_type": "code",
   "execution_count": null,
   "metadata": {},
   "outputs": [],
   "source": [
    "first[first[\"title\"] == [first[\"ups\"]==first[\"ups\"].max()]]"
   ]
  },
  {
   "cell_type": "code",
   "execution_count": null,
   "metadata": {},
   "outputs": [],
   "source": [
    "first[first[\"ups\"]==first[\"ups\"].min()]"
   ]
  },
  {
   "cell_type": "code",
   "execution_count": null,
   "metadata": {},
   "outputs": [],
   "source": [
    "def getRecipeByCuisine(cuisine):\n",
    "    req_url = \"https://api.spoonacular.com/recipes/complexSearch?apiKey=\" + API_KEY_SPOONACULAR + \"&cuisine=\" + cuisine + \"&number=\" + str(LIMIT_SPOONACULAR_RECIPES) + \"&addRecipeNutrition=TRUE&offset=400\"\n",
    "    resp = requests.get(req_url)\n",
    "    jresp = json.loads(resp.text)\n",
    "    all_recipes = []\n",
    "    for recipe in jresp[\"results\"]:\n",
    "        rlist = [recipe[\"vegetarian\"], \n",
    "        recipe[\"vegan\"],\n",
    "        recipe[\"glutenFree\"],\n",
    "        recipe[\"dairyFree\"],\n",
    "        recipe[\"aggregateLikes\"],\n",
    "        recipe[\"readyInMinutes\"],\n",
    "        recipe[\"spoonacularSourceUrl\"]]\n",
    "        \n",
    "        nutrients = recipe[\"nutrition\"][\"nutrients\"]\n",
    "        ingredients = recipe[\"nutrition\"][\"ingredients\"]\n",
    "        \n",
    "        for nutrient in nutrients:\n",
    "            # Calories, Sugar, Fat, Carbohydrates\n",
    "            # name, amount, unit\n",
    "            itemList = [\"Calories\", \"Sugar\", \"Fat\"]\n",
    "            if nutrient[\"name\"] in itemList:\n",
    "                rlist.append(nutrient[\"amount\"])\n",
    "                \n",
    "        #ilist = []\n",
    "        ilist = {}\n",
    "        for i, ingredient in enumerate(ingredients):\n",
    "            # name\n",
    "            ilist[i] = ingredient[\"name\"]\n",
    "            #ilist.append(ingredient[\"name\"])\n",
    "        rlist.append(ilist)\n",
    "\n",
    "        rlist.append(recipe[\"title\"])\n",
    "        all_recipes.append(rlist)\n",
    "    return all_recipes    "
   ]
  },
  {
   "cell_type": "code",
   "execution_count": null,
   "metadata": {},
   "outputs": [],
   "source": [
    "db_connection = mysql.connector.connect(\n",
    "  host= \"wp.jagi.wtf\",\n",
    "  user= \"redditu\",\n",
    "  password= \"redditMaster\",\n",
    "  database=\"reddit\"\n",
    "  )"
   ]
  },
  {
   "cell_type": "code",
   "execution_count": null,
   "metadata": {},
   "outputs": [],
   "source": [
    "cursor = db_connection.cursor()"
   ]
  },
  {
   "cell_type": "code",
   "execution_count": null,
   "metadata": {},
   "outputs": [],
   "source": [
    "cuisines = [\"African\", \"American\", \"British\", \"Cajun\", \"Caribbean\", \"Chinese\", \"Eastern European\", \"European\", \"French\", \"German\",\"Greek\", \"Indian\", \"Irish\", \"Italian\", \"Japanese\", \"Jewish\", \"Korean\", \"Latin American\", \"Mediterranean\",\"Mexican\", \"Middle Eastern\", \"Nordic\", \"Southern\", \"Spanish\", \"Thai\", \"Vietnamese\"]\n",
    "cuisines = [\"European\"]\n",
    "#cuisines = [\"Eastern European\"]\n",
    "for i, cuisine in enumerate(cuisines):\n",
    "    recipes = getRecipeByCuisine(cuisine)\n",
    "    for recipe in recipes:\n",
    "        query = \"INSERT INTO spoonacular (vegetarian,vegan, gluten_free, dairy_free,likes, ready_in_minutes, url, calories, sugar, fat, ingredients, cuisine, title) VALUES(%s, %s, %s,%s, %s, %s,%s, %s, %s,%s, %s, %s, %s)\"\n",
    "        vals = (str(int(recipe[0])), str(int(recipe[1])), str(int(recipe[2])),str(int(recipe[3])),\n",
    "               str(recipe[4]), str(recipe[5]), str(recipe[6]), str(recipe[7]), str(recipe[8]), str(recipe[9]),\n",
    "               json.dumps(recipe[10]), cuisine, str(recipe[11]))\n",
    "        cursor.execute(query, vals)\n",
    "    db_connection.commit()"
   ]
  },
  {
   "cell_type": "code",
   "execution_count": null,
   "metadata": {},
   "outputs": [],
   "source": [
    "db_connection.commit()"
   ]
  },
  {
   "cell_type": "code",
   "execution_count": null,
   "metadata": {},
   "outputs": [],
   "source": [
    "cuisines = [\"African\", \"American\", \"British\", \"Cajun\", \"Caribbean\", \"Chinese\", \"Eastern European\", \"European\", \"French\", \"German\",\"Greek\", \"Indian\", \"Irish\", \"Italian\", \"Japanese\", \"Jewish\", \"Korean\", \"Latin American\", \"Mediterranean\",\"Mexican\", \"Middle Eastern\", \"Nordic\", \"Southern\", \"Spanish\", \"Thai\", \"Vietnamese\"]\n",
    "print(cuisines[7:])"
   ]
  },
  {
   "cell_type": "code",
   "execution_count": null,
   "metadata": {},
   "outputs": [],
   "source": [
    "req_url"
   ]
  },
  {
   "cell_type": "code",
   "execution_count": null,
   "metadata": {},
   "outputs": [],
   "source": [
    "def getRecipeByType(cuisine):\n",
    "    req_url = \"https://api.spoonacular.com/recipes/complexSearch?apiKey=\" + API_KEY_SPOONACULAR + \"&type=\" + cuisine + \"&number=\" + str(LIMIT_SPOONACULAR_RECIPES) + \"&addRecipeNutrition=TRUE&offset=900\"\n",
    "    resp = requests.get(req_url)\n",
    "    jresp = json.loads(resp.text)\n",
    "    all_recipes = []\n",
    "    for recipe in jresp[\"results\"]:\n",
    "        rlist = [recipe[\"vegetarian\"], \n",
    "        recipe[\"vegan\"],\n",
    "        recipe[\"glutenFree\"],\n",
    "        recipe[\"dairyFree\"],\n",
    "        recipe[\"aggregateLikes\"],\n",
    "        recipe[\"readyInMinutes\"],\n",
    "        recipe[\"spoonacularSourceUrl\"]]\n",
    "        \n",
    "        nutrients = recipe[\"nutrition\"][\"nutrients\"]\n",
    "        ingredients = recipe[\"nutrition\"][\"ingredients\"]\n",
    "        \n",
    "        for nutrient in nutrients:\n",
    "            # Calories, Sugar, Fat, Carbohydrates\n",
    "            # name, amount, unit\n",
    "            itemList = [\"Calories\", \"Sugar\", \"Fat\"]\n",
    "            if nutrient[\"name\"] in itemList:\n",
    "                rlist.append(nutrient[\"amount\"])\n",
    "                \n",
    "        #ilist = []\n",
    "        ilist = {}\n",
    "        for i, ingredient in enumerate(ingredients):\n",
    "            # name\n",
    "            ilist[i] = ingredient[\"name\"]\n",
    "            #ilist.append(ingredient[\"name\"])\n",
    "        rlist.append(ilist)\n",
    "\n",
    "        rlist.append(recipe[\"title\"])\n",
    "        all_recipes.append(rlist)\n",
    "    return all_recipes    "
   ]
  },
  {
   "cell_type": "code",
   "execution_count": null,
   "metadata": {},
   "outputs": [],
   "source": [
    "types = [\"main course\",\n",
    "        \"side dish\",\n",
    "        \"dessert\",\n",
    "        \"appetizer\",\n",
    "        \"salad\",\n",
    "        \"bread\",\n",
    "        \"breakfast\",\n",
    "        \"soup\",\n",
    "        \"beverage\",\n",
    "        \"sauce\",\n",
    "        \"marinade\",\n",
    "        \"fingerfood\",\n",
    "        \"snack\",\n",
    "        \"drink\"]\n",
    "\n",
    "types = [\"main course\",\n",
    "        \"side dish\"]\n",
    "\n",
    "#cuisines = [\"Eastern European\"]\n",
    "for i, typ in enumerate(types):\n",
    "    recipes = getRecipeByType(typ)\n",
    "    for recipe in recipes:\n",
    "        query = \"INSERT INTO spoonacular (vegetarian,vegan, gluten_free, dairy_free,likes, ready_in_minutes, url, calories, sugar, fat, ingredients, type, title) VALUES(%s, %s, %s,%s, %s, %s,%s, %s, %s,%s, %s, %s, %s)\"\n",
    "        vals = (str(int(recipe[0])), str(int(recipe[1])), str(int(recipe[2])),str(int(recipe[3])),\n",
    "               str(recipe[4]), str(recipe[5]), str(recipe[6]), str(recipe[7]), str(recipe[8]), str(recipe[9]),\n",
    "               json.dumps(recipe[10]), typ, str(recipe[11]))\n",
    "        cursor.execute(query, vals)\n",
    "    db_connection.commit()"
   ]
  },
  {
   "cell_type": "code",
   "execution_count": null,
   "metadata": {},
   "outputs": [],
   "source": [
    "cursor.execute(\"SELECT * FROM spoonacular\")\n",
    "data = cursor.fetchall()"
   ]
  },
  {
   "cell_type": "code",
   "execution_count": null,
   "metadata": {},
   "outputs": [],
   "source": [
    "df = pd.DataFrame(data, columns=[\"id\", \"vegetarian\", \"vegan\", \"gluten_free\", \"dairy_free\",\"likes\", \"ready_in_minutes\", \"url\", \"calories\", \"sugar\", \"fat\",\"ingredients\", \"cuisine\", \"title\", \"typ\"])"
   ]
  },
  {
   "cell_type": "code",
   "execution_count": null,
   "metadata": {},
   "outputs": [],
   "source": [
    "df.head()"
   ]
  },
  {
   "cell_type": "code",
   "execution_count": null,
   "metadata": {},
   "outputs": [],
   "source": [
    "df[[\"vegetarian\", \"vegan\", \"gluten_free\", \"dairy_free\"]].sum()"
   ]
  },
  {
   "cell_type": "code",
   "execution_count": null,
   "metadata": {},
   "outputs": [],
   "source": [
    "df.drop_duplicates(subset =\"title\", \n",
    "                     keep = False, inplace = True)"
   ]
  },
  {
   "cell_type": "code",
   "execution_count": null,
   "metadata": {
    "scrolled": true
   },
   "outputs": [],
   "source": [
    "df.describe()"
   ]
  },
  {
   "cell_type": "code",
   "execution_count": null,
   "metadata": {},
   "outputs": [],
   "source": []
  }
 ],
 "metadata": {
  "kernelspec": {
   "display_name": "Python 3",
   "language": "python",
   "name": "python3"
  },
  "language_info": {
   "codemirror_mode": {
    "name": "ipython",
    "version": 3
   },
   "file_extension": ".py",
   "mimetype": "text/x-python",
   "name": "python",
   "nbconvert_exporter": "python",
   "pygments_lexer": "ipython3",
   "version": "3.6.9"
  }
 },
 "nbformat": 4,
 "nbformat_minor": 2
}
