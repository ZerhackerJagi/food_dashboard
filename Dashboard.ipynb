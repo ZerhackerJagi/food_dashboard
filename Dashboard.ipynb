{
 "cells": [
  {
   "cell_type": "code",
   "execution_count": 1,
   "metadata": {},
   "outputs": [],
   "source": [
    "# Final Variablen\n",
    "API_KEY_SPOONACULAR = \"146fe79a630b4afb8306a2985bedc64c\"\n",
    "API_KEY_REDDIT = \"KAJ2xGzCOlH3hyTRADNdSBDuTBORvw\"\n",
    "API_CLIENTID_REDDIT = \"tSemvcUBRFCTYQ\"\n",
    "\n",
    "USERNAME_REDDIT = \"Short-Arrival7632\"\n",
    "PW_REDDIT = \"cookies123\""
   ]
  },
  {
   "cell_type": "code",
   "execution_count": 19,
   "metadata": {},
   "outputs": [],
   "source": [
    "# KONFIGURATION\n",
    "\n",
    "LIMIT_REDDIT_POSTS = 100\n",
    "LIMIT_SPOONACULAR_RECIPES = 5"
   ]
  },
  {
   "cell_type": "code",
   "execution_count": null,
   "metadata": {},
   "outputs": [],
   "source": [
    "# Auf Windows ausführen (einmalig)\n",
    "!pip install praw\n",
    "!pip install pandas\n",
    "!pip install matplotlib\n",
    "!pip install mysql-connector-python"
   ]
  },
  {
   "cell_type": "code",
   "execution_count": 1,
   "metadata": {},
   "outputs": [
    {
     "name": "stdout",
     "output_type": "stream",
     "text": [
      "Collecting praw\n",
      "  Downloading https://files.pythonhosted.org/packages/80/02/dd9206214d3c27e7928c88ca2a2b8b9fa1657ee59c6d2473b6039d0ee650/praw-7.1.4-py3-none-any.whl (155kB)\n",
      "\u001b[K    100% |████████████████████████████████| 163kB 1.5MB/s ta 0:00:01\n",
      "\u001b[?25hCollecting websocket-client>=0.54.0 (from praw)\n",
      "  Using cached https://files.pythonhosted.org/packages/4c/5f/f61b420143ed1c8dc69f9eaec5ff1ac36109d52c80de49d66e0c36c3dfdf/websocket_client-0.57.0-py2.py3-none-any.whl\n",
      "Collecting prawcore<2.0,>=1.5.0 (from praw)\n",
      "  Using cached https://files.pythonhosted.org/packages/1d/40/b741437ce4c7b64f928513817b29c0a615efb66ab5e5e01f66fe92d2d95b/prawcore-1.5.0-py3-none-any.whl\n",
      "Collecting update-checker>=0.18 (from praw)\n",
      "  Using cached https://files.pythonhosted.org/packages/0c/ba/8dd7fa5f0b1c6a8ac62f8f57f7e794160c1f86f31c6d0fb00f582372a3e4/update_checker-0.18.0-py3-none-any.whl\n",
      "Collecting six (from websocket-client>=0.54.0->praw)\n",
      "  Using cached https://files.pythonhosted.org/packages/ee/ff/48bde5c0f013094d729fe4b0316ba2a24774b3ff1c52d924a8a4cb04078a/six-1.15.0-py2.py3-none-any.whl\n",
      "Collecting requests<3.0,>=2.6.0 (from prawcore<2.0,>=1.5.0->praw)\n",
      "  Using cached https://files.pythonhosted.org/packages/29/c1/24814557f1d22c56d50280771a17307e6bf87b70727d975fd6b2ce6b014a/requests-2.25.1-py2.py3-none-any.whl\n",
      "Collecting urllib3<1.27,>=1.21.1 (from requests<3.0,>=2.6.0->prawcore<2.0,>=1.5.0->praw)\n",
      "  Using cached https://files.pythonhosted.org/packages/23/fc/8a49991f7905261f9ca9df5aa9b58363c3c821ce3e7f671895442b7100f2/urllib3-1.26.3-py2.py3-none-any.whl\n",
      "Collecting certifi>=2017.4.17 (from requests<3.0,>=2.6.0->prawcore<2.0,>=1.5.0->praw)\n",
      "  Using cached https://files.pythonhosted.org/packages/5e/a0/5f06e1e1d463903cf0c0eebeb751791119ed7a4b3737fdc9a77f1cdfb51f/certifi-2020.12.5-py2.py3-none-any.whl\n",
      "Collecting idna<3,>=2.5 (from requests<3.0,>=2.6.0->prawcore<2.0,>=1.5.0->praw)\n",
      "  Using cached https://files.pythonhosted.org/packages/a2/38/928ddce2273eaa564f6f50de919327bf3a00f091b5baba8dfa9460f3a8a8/idna-2.10-py2.py3-none-any.whl\n",
      "Collecting chardet<5,>=3.0.2 (from requests<3.0,>=2.6.0->prawcore<2.0,>=1.5.0->praw)\n",
      "  Using cached https://files.pythonhosted.org/packages/19/c7/fa589626997dd07bd87d9269342ccb74b1720384a4d739a1872bd84fbe68/chardet-4.0.0-py2.py3-none-any.whl\n",
      "Installing collected packages: six, websocket-client, urllib3, certifi, idna, chardet, requests, prawcore, update-checker, praw\n",
      "Successfully installed certifi-2020.12.5 chardet-4.0.0 idna-2.10 praw-7.1.4 prawcore-1.5.0 requests-2.25.1 six-1.15.0 update-checker-0.18.0 urllib3-1.26.3 websocket-client-0.57.0\n",
      "Collecting pandas\n",
      "  Using cached https://files.pythonhosted.org/packages/c3/e2/00cacecafbab071c787019f00ad84ca3185952f6bb9bca9550ed83870d4d/pandas-1.1.5-cp36-cp36m-manylinux1_x86_64.whl\n",
      "Collecting numpy>=1.15.4 (from pandas)\n",
      "  Using cached https://files.pythonhosted.org/packages/45/b2/6c7545bb7a38754d63048c7696804a0d947328125d81bf12beaa692c3ae3/numpy-1.19.5-cp36-cp36m-manylinux1_x86_64.whl\n",
      "Collecting python-dateutil>=2.7.3 (from pandas)\n",
      "  Using cached https://files.pythonhosted.org/packages/d4/70/d60450c3dd48ef87586924207ae8907090de0b306af2bce5d134d78615cb/python_dateutil-2.8.1-py2.py3-none-any.whl\n",
      "Collecting pytz>=2017.2 (from pandas)\n",
      "  Using cached https://files.pythonhosted.org/packages/70/94/784178ca5dd892a98f113cdd923372024dc04b8d40abe77ca76b5fb90ca6/pytz-2021.1-py2.py3-none-any.whl\n",
      "Collecting six>=1.5 (from python-dateutil>=2.7.3->pandas)\n",
      "  Using cached https://files.pythonhosted.org/packages/ee/ff/48bde5c0f013094d729fe4b0316ba2a24774b3ff1c52d924a8a4cb04078a/six-1.15.0-py2.py3-none-any.whl\n",
      "Installing collected packages: numpy, six, python-dateutil, pytz, pandas\n",
      "Successfully installed numpy-1.19.5 pandas-1.1.5 python-dateutil-2.8.1 pytz-2021.1 six-1.15.0\n",
      "Collecting matplotlib\n",
      "  Using cached https://files.pythonhosted.org/packages/09/03/b7b30fa81cb687d1178e085d0f01111ceaea3bf81f9330c937fb6f6c8ca0/matplotlib-3.3.4-cp36-cp36m-manylinux1_x86_64.whl\n",
      "Collecting cycler>=0.10 (from matplotlib)\n",
      "  Using cached https://files.pythonhosted.org/packages/f7/d2/e07d3ebb2bd7af696440ce7e754c59dd546ffe1bbe732c8ab68b9c834e61/cycler-0.10.0-py2.py3-none-any.whl\n",
      "Collecting kiwisolver>=1.0.1 (from matplotlib)\n",
      "  Using cached https://files.pythonhosted.org/packages/a7/1b/cbd8ae738719b5f41592a12057ef5442e2ed5f5cb5451f8fc7e9f8875a1a/kiwisolver-1.3.1-cp36-cp36m-manylinux1_x86_64.whl\n",
      "Collecting pillow>=6.2.0 (from matplotlib)\n",
      "  Using cached https://files.pythonhosted.org/packages/b6/c0/442d9d87e0da00bf856ef6dd4916f84a2d710b5f1a367d42d7f3c4e99a6c/Pillow-8.1.0-cp36-cp36m-manylinux1_x86_64.whl\n",
      "Collecting pyparsing!=2.0.4,!=2.1.2,!=2.1.6,>=2.0.3 (from matplotlib)\n",
      "  Using cached https://files.pythonhosted.org/packages/8a/bb/488841f56197b13700afd5658fc279a2025a39e22449b7cf29864669b15d/pyparsing-2.4.7-py2.py3-none-any.whl\n",
      "Collecting numpy>=1.15 (from matplotlib)\n",
      "  Using cached https://files.pythonhosted.org/packages/45/b2/6c7545bb7a38754d63048c7696804a0d947328125d81bf12beaa692c3ae3/numpy-1.19.5-cp36-cp36m-manylinux1_x86_64.whl\n",
      "Collecting python-dateutil>=2.1 (from matplotlib)\n",
      "  Using cached https://files.pythonhosted.org/packages/d4/70/d60450c3dd48ef87586924207ae8907090de0b306af2bce5d134d78615cb/python_dateutil-2.8.1-py2.py3-none-any.whl\n",
      "Collecting six (from cycler>=0.10->matplotlib)\n",
      "  Using cached https://files.pythonhosted.org/packages/ee/ff/48bde5c0f013094d729fe4b0316ba2a24774b3ff1c52d924a8a4cb04078a/six-1.15.0-py2.py3-none-any.whl\n",
      "Installing collected packages: six, cycler, kiwisolver, pillow, pyparsing, numpy, python-dateutil, matplotlib\n",
      "Successfully installed cycler-0.10.0 kiwisolver-1.3.1 matplotlib-3.3.4 numpy-1.19.5 pillow-8.1.0 pyparsing-2.4.7 python-dateutil-2.8.1 six-1.15.0\n",
      "Collecting mysql-connector-python\n",
      "\u001b[33m  Cache entry deserialization failed, entry ignored\u001b[0m\n",
      "\u001b[33m  Cache entry deserialization failed, entry ignored\u001b[0m\n",
      "  Downloading https://files.pythonhosted.org/packages/cc/ec/102bf59d0cdeb3b8fc82d6669bf96d57d133e44811ff57ad5e941bd8588d/mysql_connector_python-8.0.23-cp36-cp36m-manylinux1_x86_64.whl (18.0MB)\n",
      "\u001b[K    100% |████████████████████████████████| 18.1MB 66kB/s eta 0:00:01   54% |█████████████████▍              | 9.8MB 5.6MB/s eta 0:00:02    70% |██████████████████████▋         | 12.7MB 3.4MB/s eta 0:00:02    97% |███████████████████████████████▏| 17.6MB 2.0MB/s eta 0:00:01\n",
      "\u001b[?25hCollecting protobuf>=3.0.0 (from mysql-connector-python)\n",
      "\u001b[33m  Cache entry deserialization failed, entry ignored\u001b[0m\n",
      "\u001b[33m  Cache entry deserialization failed, entry ignored\u001b[0m\n",
      "  Downloading https://files.pythonhosted.org/packages/fe/fd/247ef25f5ec5f9acecfbc98ca3c6aaf66716cf52509aca9a93583d410493/protobuf-3.14.0-cp36-cp36m-manylinux1_x86_64.whl (1.0MB)\n",
      "\u001b[K    100% |████████████████████████████████| 1.0MB 719kB/s ta 0:00:01\n",
      "\u001b[?25hCollecting six>=1.9 (from protobuf>=3.0.0->mysql-connector-python)\n",
      "  Using cached https://files.pythonhosted.org/packages/ee/ff/48bde5c0f013094d729fe4b0316ba2a24774b3ff1c52d924a8a4cb04078a/six-1.15.0-py2.py3-none-any.whl\n",
      "Installing collected packages: six, protobuf, mysql-connector-python\n",
      "Successfully installed mysql-connector-python-8.0.23 protobuf-3.14.0 six-1.15.0\n"
     ]
    }
   ],
   "source": [
    "# Auf Linux ausführen (einmalig)\n",
    "!pip3 install praw\n",
    "!pip3 install pandas\n",
    "!pip3 install matplotlib\n",
    "!pip3 install mysql-connector-python"
   ]
  },
  {
   "cell_type": "code",
   "execution_count": 3,
   "metadata": {},
   "outputs": [],
   "source": [
    "import praw\n",
    "import pandas as pd\n",
    "from datetime import datetime\n",
    "import requests\n",
    "import json\n",
    "import matplotlib.pyplot as plt\n",
    "import mysql.connector"
   ]
  },
  {
   "cell_type": "markdown",
   "metadata": {},
   "source": [
    "### Connect to Database"
   ]
  },
  {
   "cell_type": "code",
   "execution_count": 18,
   "metadata": {
    "scrolled": true
   },
   "outputs": [],
   "source": [
    "db_connection = mysql.connector.connect(\n",
    "  host= \"wp.jagi.wtf\",\n",
    "  user= \"redditu\",\n",
    "  password= \"redditMaster\",\n",
    "  database=\"reddit\"\n",
    "  )\n"
   ]
  },
  {
   "cell_type": "code",
   "execution_count": 19,
   "metadata": {},
   "outputs": [],
   "source": [
    "cursor = db_connection.cursor()"
   ]
  },
  {
   "cell_type": "code",
   "execution_count": 20,
   "metadata": {},
   "outputs": [],
   "source": [
    "cursor.execute(\"SELECT count(id) FROM reddit\")\n",
    "res = cursor.fetchall()"
   ]
  },
  {
   "cell_type": "code",
   "execution_count": 21,
   "metadata": {},
   "outputs": [
    {
     "data": {
      "text/plain": [
       "[(30000,)]"
      ]
     },
     "execution_count": 21,
     "metadata": {},
     "output_type": "execute_result"
    }
   ],
   "source": [
    "res"
   ]
  },
  {
   "cell_type": "markdown",
   "metadata": {},
   "source": [
    "### Get subreddit data"
   ]
  },
  {
   "cell_type": "code",
   "execution_count": 20,
   "metadata": {},
   "outputs": [],
   "source": [
    "reddit = praw.Reddit(client_id = API_CLIENTID_REDDIT,\n",
    "                    client_secret = API_KEY_REDDIT,\n",
    "                    username= USERNAME_REDDIT,\n",
    "                    password = PW_REDDIT,\n",
    "                    user_agent = \"food_dashboard_v01\")\n",
    "\n",
    "sr = reddit.subreddit(\"food\")"
   ]
  },
  {
   "cell_type": "code",
   "execution_count": 21,
   "metadata": {},
   "outputs": [],
   "source": [
    "# retrieve new posts\n",
    "new_posts = sr.hot(limit=LIMIT_REDDIT_POSTS)"
   ]
  },
  {
   "cell_type": "code",
   "execution_count": null,
   "metadata": {},
   "outputs": [],
   "source": []
  },
  {
   "cell_type": "code",
   "execution_count": 22,
   "metadata": {},
   "outputs": [],
   "source": [
    "# clean data \n",
    "new_posts_lst = []\n",
    "for post in new_posts:\n",
    "    timestamp_created = post.created\n",
    "    time_created = datetime.fromtimestamp(timestamp_created).strftime(\"%H:%M:%S\")\n",
    "    day_created = datetime.fromtimestamp(timestamp_created).strftime(\"%Y-%m-%d\")\n",
    "    hour_created = datetime.fromtimestamp(timestamp_created).strftime(\"%H\")\n",
    "    \n",
    "    # created time, created day, author, title, likes, downs, num_comments, text, thumbnail, url\n",
    "    x = [hour_created, time_created, day_created, post.author, post.title, post.ups, post.downs, post.num_comments, post.selftext, post.thumbnail, post.url]\n",
    "    new_posts_lst.append(x)"
   ]
  },
  {
   "cell_type": "code",
   "execution_count": 23,
   "metadata": {},
   "outputs": [],
   "source": [
    "# create DataFrame\n",
    "df = pd.DataFrame(data=new_posts_lst, columns=[\"hour_created\", \"created_time\", \"created_day\", \"author\", \"title\", \"likes\", \"downs\", \"num_comments\", \"text\", \"thumbnail\", \"url\"])"
   ]
  },
  {
   "cell_type": "code",
   "execution_count": 25,
   "metadata": {},
   "outputs": [
    {
     "data": {
      "text/html": [
       "<div>\n",
       "<style scoped>\n",
       "    .dataframe tbody tr th:only-of-type {\n",
       "        vertical-align: middle;\n",
       "    }\n",
       "\n",
       "    .dataframe tbody tr th {\n",
       "        vertical-align: top;\n",
       "    }\n",
       "\n",
       "    .dataframe thead th {\n",
       "        text-align: right;\n",
       "    }\n",
       "</style>\n",
       "<table border=\"1\" class=\"dataframe\">\n",
       "  <thead>\n",
       "    <tr style=\"text-align: right;\">\n",
       "      <th></th>\n",
       "      <th>likes</th>\n",
       "      <th>downs</th>\n",
       "      <th>num_comments</th>\n",
       "    </tr>\n",
       "  </thead>\n",
       "  <tbody>\n",
       "    <tr>\n",
       "      <th>count</th>\n",
       "      <td>100.000000</td>\n",
       "      <td>100.0</td>\n",
       "      <td>100.000000</td>\n",
       "    </tr>\n",
       "    <tr>\n",
       "      <th>mean</th>\n",
       "      <td>815.180000</td>\n",
       "      <td>0.0</td>\n",
       "      <td>27.040000</td>\n",
       "    </tr>\n",
       "    <tr>\n",
       "      <th>std</th>\n",
       "      <td>4448.353234</td>\n",
       "      <td>0.0</td>\n",
       "      <td>142.050704</td>\n",
       "    </tr>\n",
       "    <tr>\n",
       "      <th>min</th>\n",
       "      <td>6.000000</td>\n",
       "      <td>0.0</td>\n",
       "      <td>0.000000</td>\n",
       "    </tr>\n",
       "    <tr>\n",
       "      <th>25%</th>\n",
       "      <td>34.000000</td>\n",
       "      <td>0.0</td>\n",
       "      <td>2.000000</td>\n",
       "    </tr>\n",
       "    <tr>\n",
       "      <th>50%</th>\n",
       "      <td>63.000000</td>\n",
       "      <td>0.0</td>\n",
       "      <td>4.500000</td>\n",
       "    </tr>\n",
       "    <tr>\n",
       "      <th>75%</th>\n",
       "      <td>166.500000</td>\n",
       "      <td>0.0</td>\n",
       "      <td>10.000000</td>\n",
       "    </tr>\n",
       "    <tr>\n",
       "      <th>max</th>\n",
       "      <td>40744.000000</td>\n",
       "      <td>0.0</td>\n",
       "      <td>1375.000000</td>\n",
       "    </tr>\n",
       "  </tbody>\n",
       "</table>\n",
       "</div>"
      ],
      "text/plain": [
       "              likes  downs  num_comments\n",
       "count    100.000000  100.0    100.000000\n",
       "mean     815.180000    0.0     27.040000\n",
       "std     4448.353234    0.0    142.050704\n",
       "min        6.000000    0.0      0.000000\n",
       "25%       34.000000    0.0      2.000000\n",
       "50%       63.000000    0.0      4.500000\n",
       "75%      166.500000    0.0     10.000000\n",
       "max    40744.000000    0.0   1375.000000"
      ]
     },
     "execution_count": 25,
     "metadata": {},
     "output_type": "execute_result"
    }
   ],
   "source": [
    "df"
   ]
  },
  {
   "cell_type": "code",
   "execution_count": 36,
   "metadata": {},
   "outputs": [],
   "source": [
    "x = df[\"hour_created\"].value_counts().to_dict()\n",
    "sorted_hour = []\n",
    "sorted_counts = []\n",
    "for elem in sorted(x.items()):\n",
    "    sorted_hour.append(elem[0])\n",
    "    sorted_counts.append(elem[1])\n"
   ]
  },
  {
   "cell_type": "code",
   "execution_count": null,
   "metadata": {
    "scrolled": true
   },
   "outputs": [],
   "source": []
  },
  {
   "cell_type": "code",
   "execution_count": 37,
   "metadata": {},
   "outputs": [
    {
     "data": {
      "text/plain": [
       "<BarContainer object of 21 artists>"
      ]
     },
     "execution_count": 37,
     "metadata": {},
     "output_type": "execute_result"
    },
    {
     "data": {
      "image/png": "[encoded data removed]",
      "text/plain": [
       "<Figure size 432x288 with 1 Axes>"
      ]
     },
     "metadata": {
      "needs_background": "light"
     },
     "output_type": "display_data"
    }
   ],
   "source": [
    "plt.bar(sorted_hour, sorted_counts)"
   ]
  },
  {
   "cell_type": "code",
   "execution_count": 12,
   "metadata": {},
   "outputs": [],
   "source": [
    "df[\"cleaned_text\"] = df[\"title\"].apply(str.lower)"
   ]
  },
  {
   "cell_type": "code",
   "execution_count": 16,
   "metadata": {},
   "outputs": [],
   "source": [
    "def delete_homemade(text):\n",
    "    new_text = \"\"\n",
    "    old_text = text.split()\n",
    "    for word in old_text:\n",
    "        if word[0] != \"[\":\n",
    "            if len(new_text) == 0:\n",
    "                new_text = word\n",
    "            else:\n",
    "                new_text = new_text + \",\" + word\n",
    "    return new_text"
   ]
  },
  {
   "cell_type": "code",
   "execution_count": 17,
   "metadata": {},
   "outputs": [],
   "source": [
    "df[\"cltext\"] = df[\"cleaned_text\"].apply(delete_homemade)"
   ]
  },
  {
   "cell_type": "code",
   "execution_count": 18,
   "metadata": {},
   "outputs": [
    {
     "data": {
      "text/html": [
       "<div>\n",
       "<style scoped>\n",
       "    .dataframe tbody tr th:only-of-type {\n",
       "        vertical-align: middle;\n",
       "    }\n",
       "\n",
       "    .dataframe tbody tr th {\n",
       "        vertical-align: top;\n",
       "    }\n",
       "\n",
       "    .dataframe thead th {\n",
       "        text-align: right;\n",
       "    }\n",
       "</style>\n",
       "<table border=\"1\" class=\"dataframe\">\n",
       "  <thead>\n",
       "    <tr style=\"text-align: right;\">\n",
       "      <th></th>\n",
       "      <th>hour_created</th>\n",
       "      <th>created_time</th>\n",
       "      <th>created_day</th>\n",
       "      <th>author</th>\n",
       "      <th>title</th>\n",
       "      <th>likes</th>\n",
       "      <th>downs</th>\n",
       "      <th>num_comments</th>\n",
       "      <th>text</th>\n",
       "      <th>thumbnail</th>\n",
       "      <th>url</th>\n",
       "      <th>cleaned_text</th>\n",
       "      <th>cltext</th>\n",
       "    </tr>\n",
       "  </thead>\n",
       "  <tbody>\n",
       "    <tr>\n",
       "      <th>0</th>\n",
       "      <td>08</td>\n",
       "      <td>08:48:37</td>\n",
       "      <td>2021-02-08</td>\n",
       "      <td>daynestxbbq</td>\n",
       "      <td>[PRO/CHEF] Texas Barbecue Platter</td>\n",
       "      <td>39510</td>\n",
       "      <td>0</td>\n",
       "      <td>1337</td>\n",
       "      <td></td>\n",
       "      <td>https://b.thumbs.redditmedia.com/8dY2UPIltw6QD...</td>\n",
       "      <td>https://i.redd.it/zclugg5m75g61.jpg</td>\n",
       "      <td>[pro/chef] texas barbecue platter</td>\n",
       "      <td>texas,barbecue,platter</td>\n",
       "    </tr>\n",
       "    <tr>\n",
       "      <th>1</th>\n",
       "      <td>03</td>\n",
       "      <td>03:19:56</td>\n",
       "      <td>2021-02-08</td>\n",
       "      <td>jojofaye</td>\n",
       "      <td>[homemade] Whole lemon cake doughnuts with whi...</td>\n",
       "      <td>2447</td>\n",
       "      <td>0</td>\n",
       "      <td>37</td>\n",
       "      <td></td>\n",
       "      <td>https://b.thumbs.redditmedia.com/voaO-2Yv62C7M...</td>\n",
       "      <td>https://i.redd.it/2dgjjzuxk3g61.jpg</td>\n",
       "      <td>[homemade] whole lemon cake doughnuts with whi...</td>\n",
       "      <td>whole,lemon,cake,doughnuts,with,white,chocolat...</td>\n",
       "    </tr>\n",
       "    <tr>\n",
       "      <th>2</th>\n",
       "      <td>18</td>\n",
       "      <td>18:49:38</td>\n",
       "      <td>2021-02-07</td>\n",
       "      <td>aka_scoch</td>\n",
       "      <td>[homemade] raspberry cream cake covered in Legos</td>\n",
       "      <td>18427</td>\n",
       "      <td>0</td>\n",
       "      <td>383</td>\n",
       "      <td></td>\n",
       "      <td>https://b.thumbs.redditmedia.com/ql-XfyeTNstPp...</td>\n",
       "      <td>https://i.redd.it/dz168i5x11g61.jpg</td>\n",
       "      <td>[homemade] raspberry cream cake covered in legos</td>\n",
       "      <td>raspberry,cream,cake,covered,in,legos</td>\n",
       "    </tr>\n",
       "    <tr>\n",
       "      <th>3</th>\n",
       "      <td>07</td>\n",
       "      <td>07:18:47</td>\n",
       "      <td>2021-02-08</td>\n",
       "      <td>will20566</td>\n",
       "      <td>[Homemade] Calamari</td>\n",
       "      <td>796</td>\n",
       "      <td>0</td>\n",
       "      <td>23</td>\n",
       "      <td></td>\n",
       "      <td>https://b.thumbs.redditmedia.com/s7gGC9-olz4cc...</td>\n",
       "      <td>https://i.redd.it/03mtxaalr4g61.jpg</td>\n",
       "      <td>[homemade] calamari</td>\n",
       "      <td>calamari</td>\n",
       "    </tr>\n",
       "    <tr>\n",
       "      <th>4</th>\n",
       "      <td>04</td>\n",
       "      <td>04:15:36</td>\n",
       "      <td>2021-02-08</td>\n",
       "      <td>Untoastedtoast390</td>\n",
       "      <td>[homemade] “yogurt eggs and apple fries”</td>\n",
       "      <td>1258</td>\n",
       "      <td>0</td>\n",
       "      <td>67</td>\n",
       "      <td></td>\n",
       "      <td>https://b.thumbs.redditmedia.com/SMcQN2Uj1xpwA...</td>\n",
       "      <td>https://i.redd.it/37snzekwu3g61.jpg</td>\n",
       "      <td>[homemade] “yogurt eggs and apple fries”</td>\n",
       "      <td>“yogurt,eggs,and,apple,fries”</td>\n",
       "    </tr>\n",
       "  </tbody>\n",
       "</table>\n",
       "</div>"
      ],
      "text/plain": [
       "  hour_created created_time created_day             author  \\\n",
       "0           08     08:48:37  2021-02-08        daynestxbbq   \n",
       "1           03     03:19:56  2021-02-08           jojofaye   \n",
       "2           18     18:49:38  2021-02-07          aka_scoch   \n",
       "3           07     07:18:47  2021-02-08          will20566   \n",
       "4           04     04:15:36  2021-02-08  Untoastedtoast390   \n",
       "\n",
       "                                               title  likes  downs  \\\n",
       "0                  [PRO/CHEF] Texas Barbecue Platter  39510      0   \n",
       "1  [homemade] Whole lemon cake doughnuts with whi...   2447      0   \n",
       "2   [homemade] raspberry cream cake covered in Legos  18427      0   \n",
       "3                                [Homemade] Calamari    796      0   \n",
       "4           [homemade] “yogurt eggs and apple fries”   1258      0   \n",
       "\n",
       "   num_comments text                                          thumbnail  \\\n",
       "0          1337       https://b.thumbs.redditmedia.com/8dY2UPIltw6QD...   \n",
       "1            37       https://b.thumbs.redditmedia.com/voaO-2Yv62C7M...   \n",
       "2           383       https://b.thumbs.redditmedia.com/ql-XfyeTNstPp...   \n",
       "3            23       https://b.thumbs.redditmedia.com/s7gGC9-olz4cc...   \n",
       "4            67       https://b.thumbs.redditmedia.com/SMcQN2Uj1xpwA...   \n",
       "\n",
       "                                   url  \\\n",
       "0  https://i.redd.it/zclugg5m75g61.jpg   \n",
       "1  https://i.redd.it/2dgjjzuxk3g61.jpg   \n",
       "2  https://i.redd.it/dz168i5x11g61.jpg   \n",
       "3  https://i.redd.it/03mtxaalr4g61.jpg   \n",
       "4  https://i.redd.it/37snzekwu3g61.jpg   \n",
       "\n",
       "                                        cleaned_text  \\\n",
       "0                  [pro/chef] texas barbecue platter   \n",
       "1  [homemade] whole lemon cake doughnuts with whi...   \n",
       "2   [homemade] raspberry cream cake covered in legos   \n",
       "3                                [homemade] calamari   \n",
       "4           [homemade] “yogurt eggs and apple fries”   \n",
       "\n",
       "                                              cltext  \n",
       "0                             texas,barbecue,platter  \n",
       "1  whole,lemon,cake,doughnuts,with,white,chocolat...  \n",
       "2              raspberry,cream,cake,covered,in,legos  \n",
       "3                                           calamari  \n",
       "4                      “yogurt,eggs,and,apple,fries”  "
      ]
     },
     "execution_count": 18,
     "metadata": {},
     "output_type": "execute_result"
    }
   ],
   "source": [
    "df.head()"
   ]
  },
  {
   "cell_type": "code",
   "execution_count": null,
   "metadata": {},
   "outputs": [],
   "source": [
    "def getRecipe(suchwort):\n",
    "    req_url = \"https://api.spoonacular.com/recipes/complexSearch?apiKey=\" + API_KEY_SPOONACULAR + \"&query=\" + suchwort + \"&number=\" + str(LIMIT_SPOONACULAR_RECIPES) + \"&addRecipeNutrition=TRUE\"\n",
    "    resp = requests.get(req_url)\n",
    "    jresp = json.loads(resp.text)\n",
    "    all_recipes = []\n",
    "    for recipe in jresp[\"results\"]:\n",
    "        rlist = [recipe[\"vegetarian\"], \n",
    "        recipe[\"vegan\"],\n",
    "        recipe[\"glutenFree\"],\n",
    "        recipe[\"dairyFree\"],\n",
    "        recipe[\"aggregateLikes\"],\n",
    "        recipe[\"readyInMinutes\"],\n",
    "        recipe[\"spoonacularSourceUrl\"]]\n",
    "        \n",
    "        nutrients = recipe[\"nutrition\"][\"nutrients\"]\n",
    "        ingredients = recipe[\"nutrition\"][\"ingredients\"]\n",
    "        \n",
    "        for nutrient in nutrients:\n",
    "            # Calories, Sugar, Fat, Carbohydrates\n",
    "            # name, amount, unit\n",
    "            itemList = [\"Calories\", \"Sugar\", \"Fat\"]\n",
    "            if nutrient[\"name\"] in itemList:\n",
    "                rlist.append(nutrient[\"amount\"])\n",
    "                \n",
    "        ilist = []\n",
    "        for ingredient in ingredients:\n",
    "            # name\n",
    "            ilist.append(ingredient[\"name\"])\n",
    "        rlist.append(ilist)\n",
    "\n",
    "        all_recipes.append(rlist)\n",
    "    return all_recipes    "
   ]
  },
  {
   "cell_type": "code",
   "execution_count": null,
   "metadata": {},
   "outputs": [],
   "source": [
    "x = getRecipe(\"raspberry\")"
   ]
  },
  {
   "cell_type": "code",
   "execution_count": null,
   "metadata": {},
   "outputs": [],
   "source": [
    "x"
   ]
  },
  {
   "cell_type": "markdown",
   "metadata": {},
   "source": [
    "### Get random recipes from spoonacular"
   ]
  },
  {
   "cell_type": "code",
   "execution_count": null,
   "metadata": {},
   "outputs": [],
   "source": [
    "req_url = \"https://api.spoonacular.com/recipes/random?apiKey=\" + API_KEY_SPOONACULAR + \"&number=\" + str(LIMIT_SPOONACULAR_RECIPES) + \"&addRecipeNutrition=TRUE\""
   ]
  },
  {
   "cell_type": "code",
   "execution_count": null,
   "metadata": {},
   "outputs": [],
   "source": [
    "resp = requests.get(req_url)\n",
    "jresp = json.loads(resp.text)"
   ]
  },
  {
   "cell_type": "code",
   "execution_count": null,
   "metadata": {
    "scrolled": true
   },
   "outputs": [],
   "source": [
    "for recipe in jresp[\"recipes\"]:\n",
    "    print(recipe)\n",
    "    break\n",
    "    print(recipe[\"aggregateLikes\"])\n",
    "    print(recipe[\"spoonacularSourceUrl\"])"
   ]
  },
  {
   "cell_type": "code",
   "execution_count": 38,
   "metadata": {},
   "outputs": [
    {
     "data": {
      "text/plain": [
       "datetime.datetime(2021, 2, 8, 13, 24, 20, 289327)"
      ]
     },
     "execution_count": 38,
     "metadata": {},
     "output_type": "execute_result"
    }
   ],
   "source": [
    "datetime.now()"
   ]
  },
  {
   "cell_type": "code",
   "execution_count": null,
   "metadata": {},
   "outputs": [],
   "source": []
  }
 ],
 "metadata": {
  "kernelspec": {
   "display_name": "Python 3",
   "language": "python",
   "name": "python3"
  },
  "language_info": {
   "codemirror_mode": {
    "name": "ipython",
    "version": 3
   },
   "file_extension": ".py",
   "mimetype": "text/x-python",
   "name": "python",
   "nbconvert_exporter": "python",
   "pygments_lexer": "ipython3",
   "version": "3.6.9"
  }
 },
 "nbformat": 4,
 "nbformat_minor": 2
}
