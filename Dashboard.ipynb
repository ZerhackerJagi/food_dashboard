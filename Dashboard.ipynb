{
 "cells": [
  {
   "cell_type": "markdown",
   "metadata": {},
   "source": [
    "# Dashboard zur Auswertung von Rezepten"
   ]
  },
  {
   "cell_type": "markdown",
   "metadata": {},
   "source": [
    "Grundlage sind die Datenbank Spoonacular sowie der Subreddit \"food\"\n",
    "\n",
    "### Use Cases:\n",
    "##### Reddit:\n",
    "1. Postzeit (Uhrzeit) der besten Posts\n",
    "2. Postzeit (Uhrzeit) der schlechtesten Posts\n",
    "3. längste Zeit in Top\n",
    "4. kürzeste Zeit in Top(?)\n",
    "5. Länge des Titels in Bezug auf Ups/Dauer in Top\n",
    "6. Kategorisierung mit NLP bzgl. Süß/Herzhaftes Gericht\n",
    "7. Kategorisierung mit Bilderkennung bzgl. Süß/Herzhaftes Gericht\n",
    "8. Up’s abhängig von Autor\n",
    "9. Anzahl der Kommentare in Abhängigkeit von Ups\n",
    "10. Anzahl der Kommentare in Abhängigkeit von Postzeit\n",
    "11. Anzahl der Kommentare in Abhängigkeit von Autor\n",
    "12. Anzahl der Kommentare über die Zeit\n",
    "13. Anzahl der Ups über die Zeit\n",
    "14. Kommentare: \n",
    "    1. Beziehung zwischen Personen erkennen/clustern\n",
    "\n",
    "\n",
    "    \n",
    "##### Spoonacular:\n",
    "15. Anteil vegane/vegetarische/fleischlastige Gerichte\n",
    "16. Anteil laktosefreie Gerichte\n",
    "17. Anteil glutenfreier Gerichte\n",
    "18. Bewertung im Verhältnis zu Inhaltsstoffen\n",
    "    1. Zucker    \n",
    "    2. Fett\n",
    "    3. Kalorien\n",
    "19. Zubereitungszeit in Abhängigkeit von Likes\n",
    "20. Kategorisierung aufgrund von Inhaltsstoffen\n",
    "21. Zubereitungszeit in Abhängigkeit von Kategorie \n",
    "\n",
    "\n",
    "##### Kombi:\n",
    "22. Kombi aus Spoonacular Nr. 17 und Top 10 der letzten 24h\n",
    "23. Vergleich der Beliebtheit der Rezepte: Spoonacular Likes vs. Reddit Ups\n"
   ]
  },
  {
   "cell_type": "markdown",
   "metadata": {},
   "source": [
    "## Requirements"
   ]
  },
  {
   "cell_type": "code",
   "execution_count": 1,
   "metadata": {},
   "outputs": [],
   "source": [
    "# Final Variablen\n",
    "API_KEY_SPOONACULAR = \"146fe79a630b4afb8306a2985bedc64c\"\n",
    "API_KEY_SPOONACULAR = \"6e0a91c81983423792b327bc4b78bb1d\"\n",
    "\n",
    "API_KEY_REDDIT = \"KAJ2xGzCOlH3hyTRADNdSBDuTBORvw\"\n",
    "API_CLIENTID_REDDIT = \"tSemvcUBRFCTYQ\"\n",
    "\n",
    "USERNAME_REDDIT = \"Short-Arrival7632\"\n",
    "PW_REDDIT = \"cookies123\""
   ]
  },
  {
   "cell_type": "code",
   "execution_count": 2,
   "metadata": {},
   "outputs": [],
   "source": [
    "# KONFIGURATION\n",
    "\n",
    "LIMIT_REDDIT_POSTS = 100\n",
    "LIMIT_SPOONACULAR_RECIPES = 100\n",
    "REDDIT_SAVE_INTERVALL = 10 # Minuten"
   ]
  },
  {
   "cell_type": "code",
   "execution_count": null,
   "metadata": {},
   "outputs": [],
   "source": [
    "# Auf Windows ausführen (einmalig)\n",
    "!pip install praw\n",
    "!pip install pandas\n",
    "!pip install matplotlib\n",
    "!pip install mysql-connector-python"
   ]
  },
  {
   "cell_type": "code",
   "execution_count": null,
   "metadata": {},
   "outputs": [],
   "source": [
    "# Auf Linux ausführen (einmalig)\n",
    "\"\"\"\n",
    "!pip3 install praw\n",
    "!pip3 install pandas\n",
    "!pip3 install matplotlib\n",
    "!pip3 install mysql-connector-python\n",
    "\"\"\""
   ]
  },
  {
   "cell_type": "code",
   "execution_count": 3,
   "metadata": {},
   "outputs": [],
   "source": [
    "import praw\n",
    "import pandas as pd\n",
    "from datetime import datetime, timedelta\n",
    "import requests\n",
    "import json\n",
    "import matplotlib.pyplot as plt\n",
    "import matplotlib.dates as pdt\n",
    "import mysql.connector\n",
    "import re"
   ]
  },
  {
   "cell_type": "markdown",
   "metadata": {},
   "source": [
    "### Connect to Database"
   ]
  },
  {
   "cell_type": "code",
   "execution_count": 4,
   "metadata": {
    "scrolled": true
   },
   "outputs": [],
   "source": [
    "db_connection = mysql.connector.connect(\n",
    "  host= \"wp.jagi.wtf\",\n",
    "  user= \"redditu\",\n",
    "  password= \"redditMaster\",\n",
    "  database=\"reddit\"\n",
    "  )\n"
   ]
  },
  {
   "cell_type": "code",
   "execution_count": 5,
   "metadata": {},
   "outputs": [],
   "source": [
    "cursor = db_connection.cursor()"
   ]
  },
  {
   "cell_type": "markdown",
   "metadata": {},
   "source": [
    "### Get Data from Subreddit DB"
   ]
  },
  {
   "cell_type": "code",
   "execution_count": 6,
   "metadata": {},
   "outputs": [],
   "source": [
    "dfr = pd.read_sql(\"SELECT * FROM reddit\", db_connection)"
   ]
  },
  {
   "cell_type": "markdown",
   "metadata": {},
   "source": [
    "### Get Data from Spoonacular DB"
   ]
  },
  {
   "cell_type": "code",
   "execution_count": 7,
   "metadata": {},
   "outputs": [],
   "source": [
    "dfs = pd.read_sql(\"SELECT * FROM spoonacular\", db_connection)"
   ]
  },
  {
   "cell_type": "code",
   "execution_count": 8,
   "metadata": {},
   "outputs": [
    {
     "data": {
      "text/html": [
       "<div>\n",
       "<style scoped>\n",
       "    .dataframe tbody tr th:only-of-type {\n",
       "        vertical-align: middle;\n",
       "    }\n",
       "\n",
       "    .dataframe tbody tr th {\n",
       "        vertical-align: top;\n",
       "    }\n",
       "\n",
       "    .dataframe thead th {\n",
       "        text-align: right;\n",
       "    }\n",
       "</style>\n",
       "<table border=\"1\" class=\"dataframe\">\n",
       "  <thead>\n",
       "    <tr style=\"text-align: right;\">\n",
       "      <th></th>\n",
       "      <th>id</th>\n",
       "      <th>hour_created</th>\n",
       "      <th>time_created</th>\n",
       "      <th>day_created</th>\n",
       "      <th>author</th>\n",
       "      <th>title</th>\n",
       "      <th>ups</th>\n",
       "      <th>downs</th>\n",
       "      <th>num_comments</th>\n",
       "      <th>text</th>\n",
       "      <th>thumbnail</th>\n",
       "      <th>url</th>\n",
       "      <th>curr_time</th>\n",
       "    </tr>\n",
       "  </thead>\n",
       "  <tbody>\n",
       "    <tr>\n",
       "      <th>0</th>\n",
       "      <td>101</td>\n",
       "      <td>08</td>\n",
       "      <td>08:48:37</td>\n",
       "      <td>2021-02-08</td>\n",
       "      <td>daynestxbbq</td>\n",
       "      <td>[PRO/CHEF] Texas Barbecue Platter</td>\n",
       "      <td>43666</td>\n",
       "      <td>0</td>\n",
       "      <td>1451</td>\n",
       "      <td></td>\n",
       "      <td>https://b.thumbs.redditmedia.com/8dY2UPIltw6QD...</td>\n",
       "      <td>https://i.redd.it/zclugg5m75g61.jpg</td>\n",
       "      <td>2021-02-08 13:57:10.388548</td>\n",
       "    </tr>\n",
       "    <tr>\n",
       "      <th>1</th>\n",
       "      <td>102</td>\n",
       "      <td>03</td>\n",
       "      <td>03:19:56</td>\n",
       "      <td>2021-02-08</td>\n",
       "      <td>jojofaye</td>\n",
       "      <td>[homemade] Whole lemon cake doughnuts with whi...</td>\n",
       "      <td>2508</td>\n",
       "      <td>0</td>\n",
       "      <td>38</td>\n",
       "      <td></td>\n",
       "      <td>https://b.thumbs.redditmedia.com/voaO-2Yv62C7M...</td>\n",
       "      <td>https://i.redd.it/2dgjjzuxk3g61.jpg</td>\n",
       "      <td>2021-02-08 13:57:10.390814</td>\n",
       "    </tr>\n",
       "    <tr>\n",
       "      <th>2</th>\n",
       "      <td>103</td>\n",
       "      <td>07</td>\n",
       "      <td>07:18:47</td>\n",
       "      <td>2021-02-08</td>\n",
       "      <td>will20566</td>\n",
       "      <td>[Homemade] Calamari</td>\n",
       "      <td>848</td>\n",
       "      <td>0</td>\n",
       "      <td>23</td>\n",
       "      <td></td>\n",
       "      <td>https://b.thumbs.redditmedia.com/s7gGC9-olz4cc...</td>\n",
       "      <td>https://i.redd.it/03mtxaalr4g61.jpg</td>\n",
       "      <td>2021-02-08 13:57:10.392863</td>\n",
       "    </tr>\n",
       "    <tr>\n",
       "      <th>3</th>\n",
       "      <td>104</td>\n",
       "      <td>18</td>\n",
       "      <td>18:49:38</td>\n",
       "      <td>2021-02-07</td>\n",
       "      <td>aka_scoch</td>\n",
       "      <td>[homemade] raspberry cream cake covered in Legos</td>\n",
       "      <td>18446</td>\n",
       "      <td>0</td>\n",
       "      <td>382</td>\n",
       "      <td></td>\n",
       "      <td>https://b.thumbs.redditmedia.com/ql-XfyeTNstPp...</td>\n",
       "      <td>https://i.redd.it/dz168i5x11g61.jpg</td>\n",
       "      <td>2021-02-08 13:57:10.394895</td>\n",
       "    </tr>\n",
       "    <tr>\n",
       "      <th>4</th>\n",
       "      <td>105</td>\n",
       "      <td>04</td>\n",
       "      <td>04:15:36</td>\n",
       "      <td>2021-02-08</td>\n",
       "      <td>Untoastedtoast390</td>\n",
       "      <td>[homemade] “yogurt eggs and apple fries”</td>\n",
       "      <td>1313</td>\n",
       "      <td>0</td>\n",
       "      <td>69</td>\n",
       "      <td></td>\n",
       "      <td>https://b.thumbs.redditmedia.com/SMcQN2Uj1xpwA...</td>\n",
       "      <td>https://i.redd.it/37snzekwu3g61.jpg</td>\n",
       "      <td>2021-02-08 13:57:10.396900</td>\n",
       "    </tr>\n",
       "  </tbody>\n",
       "</table>\n",
       "</div>"
      ],
      "text/plain": [
       "    id hour_created time_created day_created             author  \\\n",
       "0  101           08     08:48:37  2021-02-08        daynestxbbq   \n",
       "1  102           03     03:19:56  2021-02-08           jojofaye   \n",
       "2  103           07     07:18:47  2021-02-08          will20566   \n",
       "3  104           18     18:49:38  2021-02-07          aka_scoch   \n",
       "4  105           04     04:15:36  2021-02-08  Untoastedtoast390   \n",
       "\n",
       "                                               title    ups  downs  \\\n",
       "0                  [PRO/CHEF] Texas Barbecue Platter  43666      0   \n",
       "1  [homemade] Whole lemon cake doughnuts with whi...   2508      0   \n",
       "2                                [Homemade] Calamari    848      0   \n",
       "3   [homemade] raspberry cream cake covered in Legos  18446      0   \n",
       "4           [homemade] “yogurt eggs and apple fries”   1313      0   \n",
       "\n",
       "   num_comments text                                          thumbnail  \\\n",
       "0          1451       https://b.thumbs.redditmedia.com/8dY2UPIltw6QD...   \n",
       "1            38       https://b.thumbs.redditmedia.com/voaO-2Yv62C7M...   \n",
       "2            23       https://b.thumbs.redditmedia.com/s7gGC9-olz4cc...   \n",
       "3           382       https://b.thumbs.redditmedia.com/ql-XfyeTNstPp...   \n",
       "4            69       https://b.thumbs.redditmedia.com/SMcQN2Uj1xpwA...   \n",
       "\n",
       "                                   url                   curr_time  \n",
       "0  https://i.redd.it/zclugg5m75g61.jpg  2021-02-08 13:57:10.388548  \n",
       "1  https://i.redd.it/2dgjjzuxk3g61.jpg  2021-02-08 13:57:10.390814  \n",
       "2  https://i.redd.it/03mtxaalr4g61.jpg  2021-02-08 13:57:10.392863  \n",
       "3  https://i.redd.it/dz168i5x11g61.jpg  2021-02-08 13:57:10.394895  \n",
       "4  https://i.redd.it/37snzekwu3g61.jpg  2021-02-08 13:57:10.396900  "
      ]
     },
     "execution_count": 8,
     "metadata": {},
     "output_type": "execute_result"
    }
   ],
   "source": [
    "dfr.head()"
   ]
  },
  {
   "cell_type": "markdown",
   "metadata": {},
   "source": [
    "### 1. Postzeit der besten Posts (Posts > 10.000 Ups)"
   ]
  },
  {
   "cell_type": "code",
   "execution_count": 9,
   "metadata": {},
   "outputs": [],
   "source": [
    "dfr_wd = dfr[[\"title\", \"ups\", \"time_created\", \"hour_created\", \"num_comments\", \"author\"]]\n",
    "dfr_wds = dfr_wd.sort_values(\"ups\", ascending=False)\n",
    "dfr_wods = dfr_wds.drop_duplicates(subset=[\"title\"]).copy()\n",
    "dfr_wods[\"time\"] = pd.to_datetime(dfr_wods[\"time_created\"])\n",
    "dfr_wodss = dfr_wods[dfr_wods[\"ups\"]>10000].copy()\n",
    "dfr_wodsl = dfr_wods[dfr_wods[\"ups\"]<10].copy()\n",
    "hour_dict = dfr_wodss[dfr_wodss[\"ups\"]>10000].value_counts(subset=[\"hour_created\"]).to_dict()\n",
    "#hour_dict"
   ]
  },
  {
   "cell_type": "code",
   "execution_count": 10,
   "metadata": {},
   "outputs": [
    {
     "data": {
      "text/html": [
       "<div>\n",
       "<style scoped>\n",
       "    .dataframe tbody tr th:only-of-type {\n",
       "        vertical-align: middle;\n",
       "    }\n",
       "\n",
       "    .dataframe tbody tr th {\n",
       "        vertical-align: top;\n",
       "    }\n",
       "\n",
       "    .dataframe thead th {\n",
       "        text-align: right;\n",
       "    }\n",
       "</style>\n",
       "<table border=\"1\" class=\"dataframe\">\n",
       "  <thead>\n",
       "    <tr style=\"text-align: right;\">\n",
       "      <th></th>\n",
       "      <th>title</th>\n",
       "      <th>ups</th>\n",
       "      <th>time_created</th>\n",
       "      <th>hour_created</th>\n",
       "      <th>num_comments</th>\n",
       "      <th>author</th>\n",
       "      <th>time</th>\n",
       "    </tr>\n",
       "  </thead>\n",
       "  <tbody>\n",
       "    <tr>\n",
       "      <th>64493</th>\n",
       "      <td>[Homemade] Cheddar Goblin Pizza</td>\n",
       "      <td>9</td>\n",
       "      <td>07:05:09</td>\n",
       "      <td>07</td>\n",
       "      <td>2</td>\n",
       "      <td>Shanteva</td>\n",
       "      <td>2021-02-24 07:05:09</td>\n",
       "    </tr>\n",
       "    <tr>\n",
       "      <th>220797</th>\n",
       "      <td>[I Ate] Seared Ahi Salad</td>\n",
       "      <td>9</td>\n",
       "      <td>06:29:36</td>\n",
       "      <td>06</td>\n",
       "      <td>0</td>\n",
       "      <td>o19</td>\n",
       "      <td>2021-02-24 06:29:36</td>\n",
       "    </tr>\n",
       "    <tr>\n",
       "      <th>163199</th>\n",
       "      <td>[Homemade] Traditional Shoyu Ramen</td>\n",
       "      <td>9</td>\n",
       "      <td>06:16:14</td>\n",
       "      <td>06</td>\n",
       "      <td>0</td>\n",
       "      <td>egriffith522</td>\n",
       "      <td>2021-02-24 06:16:14</td>\n",
       "    </tr>\n",
       "    <tr>\n",
       "      <th>3099</th>\n",
       "      <td>[homemade]Folded omelette with sour cream and ...</td>\n",
       "      <td>9</td>\n",
       "      <td>22:19:37</td>\n",
       "      <td>22</td>\n",
       "      <td>1</td>\n",
       "      <td>Logophi1e</td>\n",
       "      <td>2021-02-24 22:19:37</td>\n",
       "    </tr>\n",
       "    <tr>\n",
       "      <th>2499</th>\n",
       "      <td>[Homemade] Nut Free Beef Kare Kare Filipino Pe...</td>\n",
       "      <td>9</td>\n",
       "      <td>22:34:18</td>\n",
       "      <td>22</td>\n",
       "      <td>0</td>\n",
       "      <td>the_little_princess</td>\n",
       "      <td>2021-02-24 22:34:18</td>\n",
       "    </tr>\n",
       "  </tbody>\n",
       "</table>\n",
       "</div>"
      ],
      "text/plain": [
       "                                                    title  ups time_created  \\\n",
       "64493                     [Homemade] Cheddar Goblin Pizza    9     07:05:09   \n",
       "220797                           [I Ate] Seared Ahi Salad    9     06:29:36   \n",
       "163199                 [Homemade] Traditional Shoyu Ramen    9     06:16:14   \n",
       "3099    [homemade]Folded omelette with sour cream and ...    9     22:19:37   \n",
       "2499    [Homemade] Nut Free Beef Kare Kare Filipino Pe...    9     22:34:18   \n",
       "\n",
       "       hour_created  num_comments               author                time  \n",
       "64493            07             2             Shanteva 2021-02-24 07:05:09  \n",
       "220797           06             0                  o19 2021-02-24 06:29:36  \n",
       "163199           06             0         egriffith522 2021-02-24 06:16:14  \n",
       "3099             22             1            Logophi1e 2021-02-24 22:19:37  \n",
       "2499             22             0  the_little_princess 2021-02-24 22:34:18  "
      ]
     },
     "execution_count": 10,
     "metadata": {},
     "output_type": "execute_result"
    }
   ],
   "source": [
    "dfr_wodsl.head()"
   ]
  },
  {
   "cell_type": "code",
   "execution_count": 11,
   "metadata": {},
   "outputs": [
    {
     "data": {
      "image/png": "[encoded data removed]",
      "text/plain": [
       "<Figure size 432x288 with 1 Axes>"
      ]
     },
     "metadata": {
      "needs_background": "light"
     },
     "output_type": "display_data"
    }
   ],
   "source": [
    "myFmt = pdt.DateFormatter('%H')\n",
    "\n",
    "plt.scatter(dfr_wodss[\"time\"], dfr_wodss[\"ups\"])\n",
    "plt.gca().xaxis.set_major_formatter(myFmt)\n",
    "plt.title(\"Postzeit der erfolgreichsten Posts (> 10.000 Ups)\")\n",
    "plt.xlabel(\"Postzeit in Stunden\")\n",
    "plt.ylabel(\"Ups\")\n",
    "plt.yticks([0,10000,20000,30000,40000,50000,60000])\n",
    "plt.show()"
   ]
  },
  {
   "cell_type": "markdown",
   "metadata": {},
   "source": [
    "### 2. Postzeit der schlechtesten Posts (Posts < 10 Ups)"
   ]
  },
  {
   "cell_type": "code",
   "execution_count": 12,
   "metadata": {},
   "outputs": [
    {
     "data": {
      "image/png": "[encoded data removed]",
      "text/plain": [
       "<Figure size 432x288 with 1 Axes>"
      ]
     },
     "metadata": {
      "needs_background": "light"
     },
     "output_type": "display_data"
    }
   ],
   "source": [
    "plt.scatter(dfr_wodsl[\"time\"], dfr_wodsl[\"ups\"])\n",
    "plt.gca().xaxis.set_major_formatter(myFmt)\n",
    "plt.title(\"Postzeit der schlechtesten Posts (< 10 Ups)\")\n",
    "plt.xlabel(\"Postzeit in Stunden\")\n",
    "plt.ylabel(\"Ups\")\n",
    "plt.yticks([0, 1,2,3,4,5,6,7,8,9,10])\n",
    "plt.show()"
   ]
  },
  {
   "cell_type": "markdown",
   "metadata": {},
   "source": [
    "### 3. längste Zeit in Top"
   ]
  },
  {
   "cell_type": "code",
   "execution_count": 13,
   "metadata": {},
   "outputs": [],
   "source": [
    "dfr_wdg = dfr_wd.groupby(\"title\")\n",
    "pairs = dfr_wdg.groups"
   ]
  },
  {
   "cell_type": "code",
   "execution_count": 14,
   "metadata": {},
   "outputs": [],
   "source": [
    "posts = []\n",
    "for key in pairs:\n",
    "    posts.append(dfr_wdg.get_group(key)[[\"time_created\", \"title\", \"ups\"]].to_dict())"
   ]
  },
  {
   "cell_type": "code",
   "execution_count": 15,
   "metadata": {},
   "outputs": [],
   "source": [
    "for post in posts:\n",
    "    post[\"duration\"] = len(post[\"time_created\"]) * REDDIT_SAVE_INTERVALL\n"
   ]
  },
  {
   "cell_type": "code",
   "execution_count": 16,
   "metadata": {},
   "outputs": [
    {
     "data": {
      "text/html": [
       "<div>\n",
       "<style scoped>\n",
       "    .dataframe tbody tr th:only-of-type {\n",
       "        vertical-align: middle;\n",
       "    }\n",
       "\n",
       "    .dataframe tbody tr th {\n",
       "        vertical-align: top;\n",
       "    }\n",
       "\n",
       "    .dataframe thead th {\n",
       "        text-align: right;\n",
       "    }\n",
       "</style>\n",
       "<table border=\"1\" class=\"dataframe\">\n",
       "  <thead>\n",
       "    <tr style=\"text-align: right;\">\n",
       "      <th></th>\n",
       "      <th>title</th>\n",
       "      <th>duration_minutes</th>\n",
       "      <th>max_ups</th>\n",
       "      <th>time_created</th>\n",
       "      <th>posttime</th>\n",
       "    </tr>\n",
       "  </thead>\n",
       "  <tbody>\n",
       "    <tr>\n",
       "      <th>870</th>\n",
       "      <td>[Homemade] Chocolate Chip Cookies</td>\n",
       "      <td>5640</td>\n",
       "      <td>19340</td>\n",
       "      <td>07:09:46</td>\n",
       "      <td>2021-02-24 07:09:46</td>\n",
       "    </tr>\n",
       "    <tr>\n",
       "      <th>1942</th>\n",
       "      <td>[Homemade] Pizza</td>\n",
       "      <td>5540</td>\n",
       "      <td>7254</td>\n",
       "      <td>07:29:14</td>\n",
       "      <td>2021-02-24 07:29:14</td>\n",
       "    </tr>\n",
       "    <tr>\n",
       "      <th>1901</th>\n",
       "      <td>[Homemade] Pepperoni Pizza</td>\n",
       "      <td>4750</td>\n",
       "      <td>1195</td>\n",
       "      <td>08:57:17</td>\n",
       "      <td>2021-02-24 08:57:17</td>\n",
       "    </tr>\n",
       "    <tr>\n",
       "      <th>695</th>\n",
       "      <td>[Homemade] Charcuterie Board</td>\n",
       "      <td>4690</td>\n",
       "      <td>473</td>\n",
       "      <td>23:23:59</td>\n",
       "      <td>2021-02-24 23:23:59</td>\n",
       "    </tr>\n",
       "    <tr>\n",
       "      <th>836</th>\n",
       "      <td>[Homemade] Chili</td>\n",
       "      <td>4620</td>\n",
       "      <td>23092</td>\n",
       "      <td>10:35:58</td>\n",
       "      <td>2021-02-24 10:35:58</td>\n",
       "    </tr>\n",
       "  </tbody>\n",
       "</table>\n",
       "</div>"
      ],
      "text/plain": [
       "                                  title  duration_minutes  max_ups  \\\n",
       "870   [Homemade] Chocolate Chip Cookies              5640    19340   \n",
       "1942                   [Homemade] Pizza              5540     7254   \n",
       "1901         [Homemade] Pepperoni Pizza              4750     1195   \n",
       "695        [Homemade] Charcuterie Board              4690      473   \n",
       "836                    [Homemade] Chili              4620    23092   \n",
       "\n",
       "     time_created            posttime  \n",
       "870      07:09:46 2021-02-24 07:09:46  \n",
       "1942     07:29:14 2021-02-24 07:29:14  \n",
       "1901     08:57:17 2021-02-24 08:57:17  \n",
       "695      23:23:59 2021-02-24 23:23:59  \n",
       "836      10:35:58 2021-02-24 10:35:58  "
      ]
     },
     "execution_count": 16,
     "metadata": {},
     "output_type": "execute_result"
    }
   ],
   "source": [
    "duration = []\n",
    "for post in posts:\n",
    "    duration.append([list(post[\"title\"].values())[0], \n",
    "                     post[\"duration\"], \n",
    "                     max(list(post[\"ups\"].values())), \n",
    "                     list(post[\"time_created\"].values())[0]])\n",
    "dfrd = pd.DataFrame(duration, \n",
    "                    columns=[\"title\", \n",
    "                             \"duration_minutes\", \n",
    "                             \"max_ups\", \n",
    "                             \"time_created\"])\n",
    "dfrd_s = dfrd.sort_values(\"duration_minutes\", ascending=False)\n",
    "dfrd_s[\"posttime\"] = pd.to_datetime(dfrd_s[\"time_created\"])\n",
    "dfrd_s.head()"
   ]
  },
  {
   "cell_type": "code",
   "execution_count": 17,
   "metadata": {},
   "outputs": [
    {
     "data": {
      "image/png": "[encoded data removed]",
      "text/plain": [
       "<Figure size 432x288 with 1 Axes>"
      ]
     },
     "metadata": {
      "needs_background": "light"
     },
     "output_type": "display_data"
    }
   ],
   "source": [
    "limit = 20\n",
    "plt.scatter(dfrd_s[\"posttime\"][:limit], dfrd_s[\"duration_minutes\"][:limit])\n",
    "plt.gca().xaxis.set_major_formatter(myFmt)\n",
    "plt.title(\"Postzeit im Vergleich zur Dauer in Top\")\n",
    "plt.xlabel(\"Postzeit\")\n",
    "plt.ylabel(\"Minuten in Top\")\n",
    "plt.show()"
   ]
  },
  {
   "cell_type": "code",
   "execution_count": 18,
   "metadata": {},
   "outputs": [
    {
     "data": {
      "image/png": "[encoded data removed]",
      "text/plain": [
       "<Figure size 432x288 with 1 Axes>"
      ]
     },
     "metadata": {
      "needs_background": "light"
     },
     "output_type": "display_data"
    }
   ],
   "source": [
    "#limit = 20 #nur wenn nochmal verändert werden soll\n",
    "plt.scatter(dfrd_s[\"duration_minutes\"][:limit], dfrd_s[\"max_ups\"][:limit])\n",
    "plt.title(\"Dauer in Top im Vergleich zu den Maximalen Upvotes\")\n",
    "plt.xlabel(\"Dauer in Top in Minuten\")\n",
    "plt.ylabel(\"Maximale Ups im Tracking Zeitraum\")\n",
    "plt.show()"
   ]
  },
  {
   "cell_type": "markdown",
   "metadata": {},
   "source": [
    "### 4. Kürzeste Zeit in Top"
   ]
  },
  {
   "cell_type": "code",
   "execution_count": 19,
   "metadata": {},
   "outputs": [
    {
     "data": {
      "text/html": [
       "<div>\n",
       "<style scoped>\n",
       "    .dataframe tbody tr th:only-of-type {\n",
       "        vertical-align: middle;\n",
       "    }\n",
       "\n",
       "    .dataframe tbody tr th {\n",
       "        vertical-align: top;\n",
       "    }\n",
       "\n",
       "    .dataframe thead th {\n",
       "        text-align: right;\n",
       "    }\n",
       "</style>\n",
       "<table border=\"1\" class=\"dataframe\">\n",
       "  <thead>\n",
       "    <tr style=\"text-align: right;\">\n",
       "      <th></th>\n",
       "      <th>duration_minutes</th>\n",
       "      <th>max_ups</th>\n",
       "    </tr>\n",
       "  </thead>\n",
       "  <tbody>\n",
       "    <tr>\n",
       "      <th>count</th>\n",
       "      <td>120.0</td>\n",
       "      <td>120.000000</td>\n",
       "    </tr>\n",
       "    <tr>\n",
       "      <th>mean</th>\n",
       "      <td>10.0</td>\n",
       "      <td>8.850000</td>\n",
       "    </tr>\n",
       "    <tr>\n",
       "      <th>std</th>\n",
       "      <td>0.0</td>\n",
       "      <td>3.342243</td>\n",
       "    </tr>\n",
       "    <tr>\n",
       "      <th>min</th>\n",
       "      <td>10.0</td>\n",
       "      <td>4.000000</td>\n",
       "    </tr>\n",
       "    <tr>\n",
       "      <th>25%</th>\n",
       "      <td>10.0</td>\n",
       "      <td>6.750000</td>\n",
       "    </tr>\n",
       "    <tr>\n",
       "      <th>50%</th>\n",
       "      <td>10.0</td>\n",
       "      <td>8.000000</td>\n",
       "    </tr>\n",
       "    <tr>\n",
       "      <th>75%</th>\n",
       "      <td>10.0</td>\n",
       "      <td>11.000000</td>\n",
       "    </tr>\n",
       "    <tr>\n",
       "      <th>max</th>\n",
       "      <td>10.0</td>\n",
       "      <td>19.000000</td>\n",
       "    </tr>\n",
       "  </tbody>\n",
       "</table>\n",
       "</div>"
      ],
      "text/plain": [
       "       duration_minutes     max_ups\n",
       "count             120.0  120.000000\n",
       "mean               10.0    8.850000\n",
       "std                 0.0    3.342243\n",
       "min                10.0    4.000000\n",
       "25%                10.0    6.750000\n",
       "50%                10.0    8.000000\n",
       "75%                10.0   11.000000\n",
       "max                10.0   19.000000"
      ]
     },
     "execution_count": 19,
     "metadata": {},
     "output_type": "execute_result"
    }
   ],
   "source": [
    "dfrd_s[dfrd_s[\"duration_minutes\"] == 10].describe()"
   ]
  },
  {
   "cell_type": "code",
   "execution_count": 20,
   "metadata": {},
   "outputs": [
    {
     "data": {
      "image/png": "[encoded data removed]",
      "text/plain": [
       "<Figure size 432x288 with 1 Axes>"
      ]
     },
     "metadata": {
      "needs_background": "light"
     },
     "output_type": "display_data"
    }
   ],
   "source": [
    "plt.hist(dfrd_s[dfrd_s[\"duration_minutes\"]==10][\"max_ups\"])\n",
    "plt.title(\"Ups der Posts mit der kürzesten Zeit\")\n",
    "plt.xlabel(\"Max Ups\")\n",
    "plt.ylabel(\"Anzahl der Posts\")\n",
    "plt.show()"
   ]
  },
  {
   "cell_type": "code",
   "execution_count": 21,
   "metadata": {},
   "outputs": [
    {
     "data": {
      "image/png": "[encoded data removed]",
      "text/plain": [
       "<Figure size 432x288 with 1 Axes>"
      ]
     },
     "metadata": {
      "needs_background": "light"
     },
     "output_type": "display_data"
    }
   ],
   "source": [
    "limit = 111\n",
    "plt.scatter(dfrd_s[\"posttime\"][-limit:], dfrd_s[\"max_ups\"][-limit:])\n",
    "plt.gca().xaxis.set_major_formatter(myFmt)\n",
    "plt.title(\"Postzeit der Top = 10min im Vergleich der Ups\")\n",
    "plt.xlabel(\"Postzeit\")\n",
    "plt.ylabel(\"Max Upvotes\")\n",
    "plt.yticks([x for x in range(1,20,3)])\n",
    "plt.show()"
   ]
  },
  {
   "cell_type": "markdown",
   "metadata": {},
   "source": [
    "### 5.1 Länge des Titels in Bezug auf Ups"
   ]
  },
  {
   "cell_type": "code",
   "execution_count": 22,
   "metadata": {},
   "outputs": [],
   "source": [
    "dfr_wods[\"title_length\"] = dfr_wods[\"title\"].apply(len)"
   ]
  },
  {
   "cell_type": "code",
   "execution_count": 23,
   "metadata": {},
   "outputs": [
    {
     "data": {
      "image/png": "[encoded data removed]",
      "text/plain": [
       "<Figure size 432x288 with 1 Axes>"
      ]
     },
     "metadata": {
      "needs_background": "light"
     },
     "output_type": "display_data"
    }
   ],
   "source": [
    "limit = 500\n",
    "plt.scatter(dfr_wods[dfr_wods[\"ups\"]>limit][\"title_length\"], \n",
    "           dfr_wods[dfr_wods[\"ups\"]>limit][\"ups\"])\n",
    "plt.title(\"Länge des Titels im Vergleich zu Upvotes (Posts mit mehr als \" + str(limit) + \" Ups)\")\n",
    "plt.xlabel(\"Länge des Titels (Zeichen)\")\n",
    "plt.ylabel(\"Ups\")\n",
    "plt.show()"
   ]
  },
  {
   "cell_type": "markdown",
   "metadata": {},
   "source": [
    "### 5.2. Länge des Titels in Bezug auf Dauer in Top"
   ]
  },
  {
   "cell_type": "code",
   "execution_count": 24,
   "metadata": {},
   "outputs": [],
   "source": [
    "dfrd_s[\"title_length\"] = dfrd_s[\"title\"].apply(len)"
   ]
  },
  {
   "cell_type": "code",
   "execution_count": 25,
   "metadata": {},
   "outputs": [
    {
     "data": {
      "image/png": "[encoded data removed]",
      "text/plain": [
       "<Figure size 432x288 with 1 Axes>"
      ]
     },
     "metadata": {
      "needs_background": "light"
     },
     "output_type": "display_data"
    }
   ],
   "source": [
    "limit = 500\n",
    "plt.scatter(dfrd_s[dfrd_s[\"max_ups\"]>limit][\"title_length\"], \n",
    "           dfrd_s[dfrd_s[\"max_ups\"]>limit][\"duration_minutes\"])\n",
    "plt.title(\"Länge des Titels im Vergleich zu Dauer in Top (Posts mit mehr als \" + str(limit) + \" Ups)\")\n",
    "plt.xlabel(\"Länge des Titels (Zeichen)\")\n",
    "plt.ylabel(\"Dauer in Top\")\n",
    "plt.show()"
   ]
  },
  {
   "cell_type": "markdown",
   "metadata": {},
   "source": [
    "### 6. Kategorisierung bzgl. Süß/Herzhaft (NLP)"
   ]
  },
  {
   "cell_type": "code",
   "execution_count": 2,
   "metadata": {},
   "outputs": [],
   "source": [
    "# von Alex in dedizierten File"
   ]
  },
  {
   "cell_type": "markdown",
   "metadata": {},
   "source": [
    "### 7. Kategorisierung bzgl. Süß/Herzhaft (Bilderkennung)"
   ]
  },
  {
   "cell_type": "code",
   "execution_count": null,
   "metadata": {},
   "outputs": [],
   "source": []
  },
  {
   "cell_type": "markdown",
   "metadata": {},
   "source": [
    "### 8. Ups abhängig vom Autor"
   ]
  },
  {
   "cell_type": "code",
   "execution_count": 26,
   "metadata": {},
   "outputs": [],
   "source": [
    "author_dict = dfr_wods.value_counts(subset=[\"author\"]).to_dict()"
   ]
  },
  {
   "cell_type": "code",
   "execution_count": 27,
   "metadata": {},
   "outputs": [],
   "source": [
    "authors = []\n",
    "\n",
    "for key in author_dict:\n",
    "    author = [key[0], \n",
    "              len(dfr_wods[dfr_wods[\"author\"]==key[0]][\"ups\"].index),\n",
    "              dfr_wods[dfr_wods[\"author\"]==key[0]][\"ups\"].sum()]\n",
    "    authors.append(author)"
   ]
  },
  {
   "cell_type": "code",
   "execution_count": 28,
   "metadata": {},
   "outputs": [],
   "source": [
    "dfa = pd.DataFrame(authors, columns=[\"author\", \"posts\", \"ups\"])\n",
    "dfa_s = dfa.sort_values(\"ups\", ascending=False)\n",
    "dfa_s.head()\n",
    "dfa_ss = dfa_s[dfa_s[\"ups\"]> 10000]"
   ]
  },
  {
   "cell_type": "code",
   "execution_count": 29,
   "metadata": {
    "scrolled": false
   },
   "outputs": [
    {
     "data": {
      "image/png": "[encoded data removed]",
      "text/plain": [
       "<Figure size 432x288 with 1 Axes>"
      ]
     },
     "metadata": {
      "needs_background": "light"
     },
     "output_type": "display_data"
    }
   ],
   "source": [
    "plt.bar(dfa_ss[\"author\"], dfa_ss[\"ups\"])\n",
    "plt.xticks(rotation='vertical')\n",
    "plt.title(\"Ups abhängig vom Autor, Autoren mit > 10.000 Ups gesamt\")\n",
    "plt.ylabel(\"Ups\")\n",
    "plt.show()"
   ]
  },
  {
   "cell_type": "markdown",
   "metadata": {},
   "source": [
    "### 8.1. Anzahl Posts pro Autor in Abhängigkeit der Ups gesamt"
   ]
  },
  {
   "cell_type": "code",
   "execution_count": 30,
   "metadata": {},
   "outputs": [
    {
     "data": {
      "image/png": "[encoded data removed]",
      "text/plain": [
       "<Figure size 432x288 with 1 Axes>"
      ]
     },
     "metadata": {
      "needs_background": "light"
     },
     "output_type": "display_data"
    }
   ],
   "source": [
    "plt.scatter(dfa_s[\"posts\"], dfa_s[\"ups\"])\n",
    "plt.xlabel(\"Posts\")\n",
    "plt.ylabel(\"Ups\")\n",
    "plt.title(\"Verhältnis Posts zu Ups\")\n",
    "plt.show()"
   ]
  },
  {
   "cell_type": "markdown",
   "metadata": {},
   "source": [
    "### 9. Anzahl Kommentare in Abhängigkeit von Ups"
   ]
  },
  {
   "cell_type": "code",
   "execution_count": 31,
   "metadata": {},
   "outputs": [
    {
     "data": {
      "image/png": "[encoded data removed]",
      "text/plain": [
       "<Figure size 432x288 with 1 Axes>"
      ]
     },
     "metadata": {
      "needs_background": "light"
     },
     "output_type": "display_data"
    }
   ],
   "source": [
    "limit = 500\n",
    "plt.scatter(dfr_wods[dfr_wods[\"ups\"]>limit][\"ups\"],\n",
    "           dfr_wods[dfr_wods[\"ups\"]>limit][\"num_comments\"])\n",
    "plt.title(\"Kommentare in Abhängigkeit von Ups. Posts >\"+ str(limit) + \" Upvotes\")\n",
    "plt.xlabel(\"Ups\")\n",
    "plt.ylabel(\"Anzahl Kommentare\")\n",
    "plt.show()"
   ]
  },
  {
   "cell_type": "markdown",
   "metadata": {},
   "source": [
    "### 10. Anzahl Kommentare in Abhängigkeit von Postzeit"
   ]
  },
  {
   "cell_type": "code",
   "execution_count": 32,
   "metadata": {},
   "outputs": [
    {
     "data": {
      "image/png": "[encoded data removed]",
      "text/plain": [
       "<Figure size 432x288 with 1 Axes>"
      ]
     },
     "metadata": {
      "needs_background": "light"
     },
     "output_type": "display_data"
    }
   ],
   "source": [
    "limit = 100\n",
    "plt.scatter(dfr_wods[dfr_wods[\"num_comments\"]>limit][\"time\"],\n",
    "           dfr_wods[dfr_wods[\"num_comments\"]>limit][\"num_comments\"])\n",
    "plt.gca().xaxis.set_major_formatter(myFmt)\n",
    "plt.title(\"Anzahl Kommentare in Abhängigkeit von Postzeit. Posts >\" + str(limit) + \" Kommentare\")\n",
    "plt.xlabel(\"Postzeit\")\n",
    "plt.ylabel(\"Anzahl Kommentare\")\n",
    "plt.show()"
   ]
  },
  {
   "cell_type": "markdown",
   "metadata": {},
   "source": [
    "### 11. Anzahl Kommentare in Abhängigkeit vom Autor"
   ]
  },
  {
   "cell_type": "code",
   "execution_count": 33,
   "metadata": {},
   "outputs": [],
   "source": [
    "authors2 = []\n",
    "\n",
    "for key in author_dict:\n",
    "    author = [key[0], \n",
    "              len(dfr_wods[dfr_wods[\"author\"]==key[0]][\"ups\"].index),\n",
    "              dfr_wods[dfr_wods[\"author\"]==key[0]][\"ups\"].max(),\n",
    "             dfr_wods[dfr_wods[\"author\"]==key[0]][\"num_comments\"].max()]\n",
    "    authors2.append(author)"
   ]
  },
  {
   "cell_type": "code",
   "execution_count": 34,
   "metadata": {},
   "outputs": [
    {
     "data": {
      "text/plain": [
       "['MaxRamsey', 19, 296, 9]"
      ]
     },
     "execution_count": 34,
     "metadata": {},
     "output_type": "execute_result"
    }
   ],
   "source": [
    "authors2[0]"
   ]
  },
  {
   "cell_type": "code",
   "execution_count": 35,
   "metadata": {},
   "outputs": [],
   "source": [
    "dfa2 = pd.DataFrame(authors2, columns=[\"author\", \"posts\", \"ups\", \"num_comments\"])\n",
    "dfa2_s = dfa2.sort_values(\"num_comments\", ascending=False)"
   ]
  },
  {
   "cell_type": "code",
   "execution_count": 36,
   "metadata": {},
   "outputs": [
    {
     "data": {
      "image/png": "[encoded data removed]",
      "text/plain": [
       "<Figure size 432x288 with 1 Axes>"
      ]
     },
     "metadata": {
      "needs_background": "light"
     },
     "output_type": "display_data"
    }
   ],
   "source": [
    "limit = 100\n",
    "plt.bar(dfa2_s[dfa2_s[\"num_comments\"]>limit][\"author\"], \n",
    "        dfa2_s[dfa2_s[\"num_comments\"]>limit][\"num_comments\"])\n",
    "plt.xticks(rotation='vertical')\n",
    "plt.title(\"Kommentare abhängig vom Autor. Posts mit >\" + str(limit) + \" Kommentaren\")\n",
    "plt.ylabel(\"Anzahl Kommentare\")\n",
    "plt.show()"
   ]
  },
  {
   "cell_type": "markdown",
   "metadata": {},
   "source": [
    "### 12. Anzahl Kommentare über die Zeit"
   ]
  },
  {
   "cell_type": "code",
   "execution_count": 37,
   "metadata": {},
   "outputs": [],
   "source": [
    "dfr[\"time\"] = pd.to_datetime(dfr[\"curr_time\"])\n",
    "critical_date = datetime.now() - timedelta(days=14)"
   ]
  },
  {
   "cell_type": "code",
   "execution_count": 38,
   "metadata": {},
   "outputs": [
    {
     "ename": "NameError",
     "evalue": "name 'np' is not defined",
     "output_type": "error",
     "traceback": [
      "\u001b[0;31m---------------------------------------------------------------------------\u001b[0m",
      "\u001b[0;31mNameError\u001b[0m                                 Traceback (most recent call last)",
      "\u001b[0;32m<ipython-input-38-cfa8dad4687f>\u001b[0m in \u001b[0;36m<module>\u001b[0;34m\u001b[0m\n\u001b[1;32m      1\u001b[0m plt.plot(dfr[(dfr[\"time\"]>critical_date) & (dfr[\"ups\"]>10000)][\"time\"],\n\u001b[1;32m      2\u001b[0m         dfr[(dfr[\"time\"]>critical_date) & (dfr[\"ups\"]>10000)][\"num_comments\"])\n\u001b[0;32m----> 3\u001b[0;31m \u001b[0mcolor\u001b[0m\u001b[0;34m=\u001b[0m\u001b[0miter\u001b[0m\u001b[0;34m(\u001b[0m\u001b[0mplt\u001b[0m\u001b[0;34m.\u001b[0m\u001b[0mcm\u001b[0m\u001b[0;34m.\u001b[0m\u001b[0mrainbow\u001b[0m\u001b[0;34m(\u001b[0m\u001b[0mnp\u001b[0m\u001b[0;34m.\u001b[0m\u001b[0mlinspace\u001b[0m\u001b[0;34m(\u001b[0m\u001b[0;36m0\u001b[0m\u001b[0;34m,\u001b[0m\u001b[0;36m1\u001b[0m\u001b[0;34m,\u001b[0m\u001b[0mn\u001b[0m\u001b[0;34m)\u001b[0m\u001b[0;34m)\u001b[0m\u001b[0;34m)\u001b[0m\u001b[0;34m\u001b[0m\u001b[0;34m\u001b[0m\u001b[0m\n\u001b[0m\u001b[1;32m      4\u001b[0m \u001b[0;32mfor\u001b[0m \u001b[0mi\u001b[0m \u001b[0;32min\u001b[0m \u001b[0mrange\u001b[0m\u001b[0;34m(\u001b[0m\u001b[0mn\u001b[0m\u001b[0;34m)\u001b[0m\u001b[0;34m:\u001b[0m\u001b[0;34m\u001b[0m\u001b[0;34m\u001b[0m\u001b[0m\n\u001b[1;32m      5\u001b[0m    \u001b[0mc\u001b[0m\u001b[0;34m=\u001b[0m\u001b[0mnext\u001b[0m\u001b[0;34m(\u001b[0m\u001b[0mcolor\u001b[0m\u001b[0;34m)\u001b[0m\u001b[0;34m\u001b[0m\u001b[0;34m\u001b[0m\u001b[0m\n",
      "\u001b[0;31mNameError\u001b[0m: name 'np' is not defined"
     ]
    },
    {
     "data": {
      "image/png": "[encoded data removed]",
      "text/plain": [
       "<Figure size 432x288 with 1 Axes>"
      ]
     },
     "metadata": {
      "needs_background": "light"
     },
     "output_type": "display_data"
    }
   ],
   "source": [
    "plt.plot(dfr[(dfr[\"time\"]>critical_date) & (dfr[\"ups\"]>10000)][\"time\"],\n",
    "        dfr[(dfr[\"time\"]>critical_date) & (dfr[\"ups\"]>10000)][\"num_comments\"])\n",
    "color=iter(plt.cm.rainbow(np.linspace(0,1,n)))\n",
    "for i in range(n):\n",
    "   c=next(color)\n",
    "\n",
    "plt.gca().xaxis.set_major_formatter(myFmt)\n",
    "plt.show()"
   ]
  },
  {
   "cell_type": "code",
   "execution_count": null,
   "metadata": {},
   "outputs": [],
   "source": []
  },
  {
   "cell_type": "code",
   "execution_count": null,
   "metadata": {},
   "outputs": [],
   "source": []
  },
  {
   "cell_type": "code",
   "execution_count": null,
   "metadata": {},
   "outputs": [],
   "source": []
  },
  {
   "cell_type": "code",
   "execution_count": null,
   "metadata": {},
   "outputs": [],
   "source": []
  },
  {
   "cell_type": "markdown",
   "metadata": {},
   "source": [
    "# --------------------\n",
    "# Spoonacular\n",
    "# --------------------\n",
    "### 16. Anteil vegane/vegetarische/fleischhaltige Gerichte"
   ]
  },
  {
   "cell_type": "code",
   "execution_count": null,
   "metadata": {},
   "outputs": [],
   "source": [
    "dfs_wod = dfs.drop_duplicates(subset=[\"url\"])"
   ]
  },
  {
   "cell_type": "code",
   "execution_count": null,
   "metadata": {},
   "outputs": [],
   "source": [
    "parts = dfs_wod[[\"vegetarian\", \"vegan\"]].sum()"
   ]
  },
  {
   "cell_type": "code",
   "execution_count": null,
   "metadata": {},
   "outputs": [],
   "source": [
    "fges = dfs_wod[\"vegetarian\"].count()\n",
    "fvegn = dfs_wod[\"vegan\"].sum()\n",
    "fvegt = dfs_wod[\"vegetarian\"].sum() - fvegn\n",
    "frest = fges - fvegt - fvegn"
   ]
  },
  {
   "cell_type": "code",
   "execution_count": null,
   "metadata": {},
   "outputs": [],
   "source": [
    "plt.pie([fvegn, fvegt, frest], \n",
    "        labels=[\"Vegan\", \"Vegetarisch\", \"Rest\"],\n",
    "       autopct='%1.1f%%', explode=(0.1,0.1,0.1))\n",
    "plt.axis('equal')\n",
    "plt.title(\"Anteil der Essensrichtung der Spoonacular DB. n=\" + str(dfs_wod[\"dairy_free\"].count()))\n",
    "plt.show()"
   ]
  },
  {
   "cell_type": "markdown",
   "metadata": {},
   "source": [
    "### 17. Anteil laktosefreie Gerichte"
   ]
  },
  {
   "cell_type": "code",
   "execution_count": null,
   "metadata": {},
   "outputs": [],
   "source": [
    "plt.pie([dfs_wod[\"dairy_free\"].sum(), \n",
    "         dfs_wod[\"dairy_free\"].count() - dfs_wod[\"dairy_free\"].sum()], \n",
    "        labels=[\"Laktosefrei\", \"Nicht Laktosefrei\"],\n",
    "       autopct='%1.1f%%', explode=(0.1,0.1))\n",
    "plt.axis('equal')\n",
    "plt.title(\"Anteil der Laktosefreien Rezepte der Spoonacular DB. n=\" + str(dfs_wod[\"dairy_free\"].count()))\n",
    "plt.show()"
   ]
  },
  {
   "cell_type": "markdown",
   "metadata": {},
   "source": [
    "### 18. Anteil glutenfreier Gerichte"
   ]
  },
  {
   "cell_type": "code",
   "execution_count": null,
   "metadata": {},
   "outputs": [],
   "source": [
    "plt.pie([dfs_wod[\"gluten_free\"].sum(), \n",
    "         dfs_wod[\"gluten_free\"].count() - dfs_wod[\"gluten_free\"].sum()], \n",
    "        labels=[\"Glutenfrei\", \"Nicht Glutenfrei\"],\n",
    "       autopct='%1.1f%%', explode=(0.1,0.1))\n",
    "plt.axis('equal')\n",
    "plt.title(\"Anteil der Glutenfreien Rezepte der Spoonacular DB. n=\" + str(dfs_wod[\"gluten_free\"].count()))\n",
    "plt.show()"
   ]
  },
  {
   "cell_type": "code",
   "execution_count": null,
   "metadata": {},
   "outputs": [],
   "source": []
  },
  {
   "cell_type": "code",
   "execution_count": null,
   "metadata": {},
   "outputs": [],
   "source": []
  },
  {
   "cell_type": "code",
   "execution_count": null,
   "metadata": {},
   "outputs": [],
   "source": [
    "def filter_category(data):\n",
    "    counter = {}\n",
    "    for word in data:\n",
    "        end = False\n",
    "        w = \"\"\n",
    "        word = word[0].lower()\n",
    "        for ch in word:\n",
    "            if end == False:\n",
    "                if ch == \"[\":\n",
    "                    w = w + ch\n",
    "                elif ch == \"]\":\n",
    "                    w = w+ ch\n",
    "                    end = True\n",
    "                else:\n",
    "                    w = w + ch\n",
    "        if len(w) > 1:\n",
    "            if w[0] == \"[\":\n",
    "                try:\n",
    "                    counter[w] = counter[w] + 1\n",
    "                except:\n",
    "                    counter[w] = 1\n",
    "    return counter"
   ]
  },
  {
   "cell_type": "code",
   "execution_count": null,
   "metadata": {},
   "outputs": [],
   "source": [
    "x = filter_category(data)"
   ]
  },
  {
   "cell_type": "code",
   "execution_count": null,
   "metadata": {},
   "outputs": [],
   "source": [
    "x"
   ]
  },
  {
   "cell_type": "code",
   "execution_count": null,
   "metadata": {},
   "outputs": [],
   "source": []
  },
  {
   "cell_type": "code",
   "execution_count": null,
   "metadata": {},
   "outputs": [],
   "source": []
  },
  {
   "cell_type": "code",
   "execution_count": null,
   "metadata": {},
   "outputs": [],
   "source": []
  },
  {
   "cell_type": "code",
   "execution_count": null,
   "metadata": {},
   "outputs": [],
   "source": []
  },
  {
   "cell_type": "code",
   "execution_count": null,
   "metadata": {},
   "outputs": [],
   "source": []
  },
  {
   "cell_type": "code",
   "execution_count": null,
   "metadata": {},
   "outputs": [],
   "source": []
  },
  {
   "cell_type": "code",
   "execution_count": null,
   "metadata": {},
   "outputs": [],
   "source": []
  },
  {
   "cell_type": "code",
   "execution_count": null,
   "metadata": {},
   "outputs": [],
   "source": [
    "x = df[\"hour_created\"].value_counts().to_dict()\n",
    "sorted_hour = []\n",
    "sorted_counts = []\n",
    "for elem in sorted(x.items()):\n",
    "    sorted_hour.append(elem[0])\n",
    "    sorted_counts.append(elem[1])\n"
   ]
  },
  {
   "cell_type": "code",
   "execution_count": null,
   "metadata": {
    "scrolled": true
   },
   "outputs": [],
   "source": []
  },
  {
   "cell_type": "code",
   "execution_count": null,
   "metadata": {},
   "outputs": [],
   "source": [
    "plt.bar(sorted_hour, sorted_counts)"
   ]
  },
  {
   "cell_type": "code",
   "execution_count": null,
   "metadata": {},
   "outputs": [],
   "source": [
    "df[\"cleaned_text\"] = df[\"title\"].apply(str.lower)"
   ]
  },
  {
   "cell_type": "code",
   "execution_count": null,
   "metadata": {},
   "outputs": [],
   "source": [
    "def delete_homemade(text):\n",
    "    new_text = \"\"\n",
    "    old_text = text.split()\n",
    "    for word in old_text:\n",
    "        if word[0] != \"[\":\n",
    "            if len(new_text) == 0:\n",
    "                new_text = word\n",
    "            else:\n",
    "                new_text = new_text + \",\" + word\n",
    "    return new_text"
   ]
  },
  {
   "cell_type": "code",
   "execution_count": null,
   "metadata": {},
   "outputs": [],
   "source": [
    "df[\"cltext\"] = df[\"cleaned_text\"].apply(delete_homemade)"
   ]
  },
  {
   "cell_type": "code",
   "execution_count": null,
   "metadata": {},
   "outputs": [],
   "source": [
    "df.head()"
   ]
  },
  {
   "cell_type": "code",
   "execution_count": null,
   "metadata": {},
   "outputs": [],
   "source": [
    "def getRecipe(suchwort):\n",
    "    req_url = \"https://api.spoonacular.com/recipes/complexSearch?apiKey=\" + API_KEY_SPOONACULAR + \"&query=\" + suchwort + \"&number=\" + str(LIMIT_SPOONACULAR_RECIPES) + \"&addRecipeNutrition=TRUE\"\n",
    "    resp = requests.get(req_url)\n",
    "    jresp = json.loads(resp.text)\n",
    "    all_recipes = []\n",
    "    for recipe in jresp[\"results\"]:\n",
    "        rlist = [recipe[\"vegetarian\"], \n",
    "        recipe[\"vegan\"],\n",
    "        recipe[\"glutenFree\"],\n",
    "        recipe[\"dairyFree\"],\n",
    "        recipe[\"aggregateLikes\"],\n",
    "        recipe[\"readyInMinutes\"],\n",
    "        recipe[\"spoonacularSourceUrl\"]]\n",
    "        \n",
    "        nutrients = recipe[\"nutrition\"][\"nutrients\"]\n",
    "        ingredients = recipe[\"nutrition\"][\"ingredients\"]\n",
    "        \n",
    "        for nutrient in nutrients:\n",
    "            # Calories, Sugar, Fat, Carbohydrates\n",
    "            # name, amount, unit\n",
    "            itemList = [\"Calories\", \"Sugar\", \"Fat\"]\n",
    "            if nutrient[\"name\"] in itemList:\n",
    "                rlist.append(nutrient[\"amount\"])\n",
    "                \n",
    "        ilist = []\n",
    "        for ingredient in ingredients:\n",
    "            # name\n",
    "            ilist.append(ingredient[\"name\"])\n",
    "        rlist.append(ilist)\n",
    "\n",
    "        all_recipes.append(rlist)\n",
    "    return all_recipes    "
   ]
  },
  {
   "cell_type": "code",
   "execution_count": null,
   "metadata": {},
   "outputs": [],
   "source": [
    "x = getRecipe(\"raspberry\")"
   ]
  },
  {
   "cell_type": "code",
   "execution_count": null,
   "metadata": {},
   "outputs": [],
   "source": [
    "x"
   ]
  },
  {
   "cell_type": "markdown",
   "metadata": {},
   "source": [
    "### Get random recipes from spoonacular"
   ]
  },
  {
   "cell_type": "code",
   "execution_count": null,
   "metadata": {},
   "outputs": [],
   "source": [
    "req_url = \"https://api.spoonacular.com/recipes/random?apiKey=\" + API_KEY_SPOONACULAR + \"&number=\" + str(LIMIT_SPOONACULAR_RECIPES) + \"&addRecipeNutrition=TRUE\""
   ]
  },
  {
   "cell_type": "code",
   "execution_count": null,
   "metadata": {},
   "outputs": [],
   "source": [
    "resp = requests.get(req_url)\n",
    "jresp = json.loads(resp.text)"
   ]
  },
  {
   "cell_type": "code",
   "execution_count": null,
   "metadata": {
    "scrolled": true
   },
   "outputs": [],
   "source": [
    "for recipe in jresp[\"recipes\"]:\n",
    "    print(recipe)\n",
    "    break\n",
    "    print(recipe[\"aggregateLikes\"])\n",
    "    print(recipe[\"spoonacularSourceUrl\"])"
   ]
  },
  {
   "cell_type": "code",
   "execution_count": null,
   "metadata": {},
   "outputs": [],
   "source": [
    "datetime.now()"
   ]
  },
  {
   "cell_type": "markdown",
   "metadata": {},
   "source": [
    "### Handle data from database"
   ]
  },
  {
   "cell_type": "code",
   "execution_count": null,
   "metadata": {},
   "outputs": [],
   "source": [
    "# remember ndf? now let's analyze\n",
    "ndf.head()"
   ]
  },
  {
   "cell_type": "code",
   "execution_count": null,
   "metadata": {},
   "outputs": [],
   "source": [
    "# title, ups, curr_time\n",
    "x= ndf[ndf[\"title\"] == \"[Homemade] Chocolate Chip Cookies\"]"
   ]
  },
  {
   "cell_type": "code",
   "execution_count": null,
   "metadata": {},
   "outputs": [],
   "source": [
    "x[\"curr_time\"] = pd.to_datetime(x[\"curr_time\"])\n"
   ]
  },
  {
   "cell_type": "code",
   "execution_count": null,
   "metadata": {},
   "outputs": [],
   "source": [
    "plt.plot(x[\"curr_time\"], x[\"ups\"])"
   ]
  },
  {
   "cell_type": "code",
   "execution_count": null,
   "metadata": {},
   "outputs": [],
   "source": [
    "x[\"time_created\"]"
   ]
  },
  {
   "cell_type": "code",
   "execution_count": null,
   "metadata": {},
   "outputs": [],
   "source": [
    "def get_uniques(title):\n",
    "    data = ndf[ndf[\"title\"] == title]\n",
    "    dataDf = data[[\"title\", \"ups\", \"curr_time\"]]\n",
    "    return dataDf.values.tolist()"
   ]
  },
  {
   "cell_type": "code",
   "execution_count": null,
   "metadata": {},
   "outputs": [],
   "source": [
    "ndf[\"toFilter\"] = ndf[\"title\"].apply(get_uniques) # vorsicht dauert lange"
   ]
  },
  {
   "cell_type": "code",
   "execution_count": null,
   "metadata": {},
   "outputs": [],
   "source": []
  },
  {
   "cell_type": "code",
   "execution_count": null,
   "metadata": {},
   "outputs": [],
   "source": [
    "blub = ndf[\"toFilter\"].iloc[1]"
   ]
  },
  {
   "cell_type": "code",
   "execution_count": null,
   "metadata": {},
   "outputs": [],
   "source": [
    "blubDf = pd.DataFrame(blub, columns=[\"title\", \"ups\", \"curr_time\"])\n",
    "blubDf[\"time\"] = pd.to_datetime(blubDf[\"curr_time\"])"
   ]
  },
  {
   "cell_type": "code",
   "execution_count": null,
   "metadata": {},
   "outputs": [],
   "source": [
    "plt.plot(blubDf[\"time\"], blubDf[\"ups\"])"
   ]
  },
  {
   "cell_type": "code",
   "execution_count": null,
   "metadata": {},
   "outputs": [],
   "source": [
    "sorted = ndf.sort_values(['title', 'id'], ascending = [True, False])\n",
    "\n",
    "first = sorted.groupby('title').first().reset_index()"
   ]
  },
  {
   "cell_type": "code",
   "execution_count": null,
   "metadata": {},
   "outputs": [],
   "source": [
    "for i in range(1,50):\n",
    "    blub = first[\"toFilter\"].iloc[i]\n",
    "    blubDf = pd.DataFrame(blub, columns=[\"title\", \"ups\", \"curr_time\"])\n",
    "    blubDf[\"time\"] = pd.to_datetime(blubDf[\"curr_time\"])\n",
    "    plt.plot(blubDf[\"time\"], blubDf[\"ups\"])\n",
    "plt.yscale('log') # logarithmische Skalierung\n",
    "plt.show()"
   ]
  },
  {
   "cell_type": "code",
   "execution_count": null,
   "metadata": {},
   "outputs": [],
   "source": [
    "maxVal = {\"title\": \"\", \"ups\": 0}\n",
    "for i in range(1, len(ndf[\"title\"])):\n",
    "    pass"
   ]
  },
  {
   "cell_type": "code",
   "execution_count": null,
   "metadata": {},
   "outputs": [],
   "source": [
    "first[first[\"title\"] == [first[\"ups\"]==first[\"ups\"].max()]]"
   ]
  },
  {
   "cell_type": "code",
   "execution_count": null,
   "metadata": {},
   "outputs": [],
   "source": [
    "first[first[\"ups\"]==first[\"ups\"].min()]"
   ]
  },
  {
   "cell_type": "code",
   "execution_count": null,
   "metadata": {},
   "outputs": [],
   "source": [
    "def getRecipeByCuisine(cuisine):\n",
    "    req_url = \"https://api.spoonacular.com/recipes/complexSearch?apiKey=\" + API_KEY_SPOONACULAR + \"&cuisine=\" + cuisine + \"&number=\" + str(LIMIT_SPOONACULAR_RECIPES) + \"&addRecipeNutrition=TRUE&offset=400\"\n",
    "    resp = requests.get(req_url)\n",
    "    jresp = json.loads(resp.text)\n",
    "    all_recipes = []\n",
    "    for recipe in jresp[\"results\"]:\n",
    "        rlist = [recipe[\"vegetarian\"], \n",
    "        recipe[\"vegan\"],\n",
    "        recipe[\"glutenFree\"],\n",
    "        recipe[\"dairyFree\"],\n",
    "        recipe[\"aggregateLikes\"],\n",
    "        recipe[\"readyInMinutes\"],\n",
    "        recipe[\"spoonacularSourceUrl\"]]\n",
    "        \n",
    "        nutrients = recipe[\"nutrition\"][\"nutrients\"]\n",
    "        ingredients = recipe[\"nutrition\"][\"ingredients\"]\n",
    "        \n",
    "        for nutrient in nutrients:\n",
    "            # Calories, Sugar, Fat, Carbohydrates\n",
    "            # name, amount, unit\n",
    "            itemList = [\"Calories\", \"Sugar\", \"Fat\"]\n",
    "            if nutrient[\"name\"] in itemList:\n",
    "                rlist.append(nutrient[\"amount\"])\n",
    "                \n",
    "        #ilist = []\n",
    "        ilist = {}\n",
    "        for i, ingredient in enumerate(ingredients):\n",
    "            # name\n",
    "            ilist[i] = ingredient[\"name\"]\n",
    "            #ilist.append(ingredient[\"name\"])\n",
    "        rlist.append(ilist)\n",
    "\n",
    "        rlist.append(recipe[\"title\"])\n",
    "        all_recipes.append(rlist)\n",
    "    return all_recipes    "
   ]
  },
  {
   "cell_type": "code",
   "execution_count": null,
   "metadata": {},
   "outputs": [],
   "source": [
    "db_connection = mysql.connector.connect(\n",
    "  host= \"wp.jagi.wtf\",\n",
    "  user= \"redditu\",\n",
    "  password= \"redditMaster\",\n",
    "  database=\"reddit\"\n",
    "  )"
   ]
  },
  {
   "cell_type": "code",
   "execution_count": null,
   "metadata": {},
   "outputs": [],
   "source": [
    "cursor = db_connection.cursor()"
   ]
  },
  {
   "cell_type": "code",
   "execution_count": null,
   "metadata": {},
   "outputs": [],
   "source": [
    "cuisines = [\"African\", \"American\", \"British\", \"Cajun\", \"Caribbean\", \"Chinese\", \"Eastern European\", \"European\", \"French\", \"German\",\"Greek\", \"Indian\", \"Irish\", \"Italian\", \"Japanese\", \"Jewish\", \"Korean\", \"Latin American\", \"Mediterranean\",\"Mexican\", \"Middle Eastern\", \"Nordic\", \"Southern\", \"Spanish\", \"Thai\", \"Vietnamese\"]\n",
    "cuisines = [\"European\"]\n",
    "#cuisines = [\"Eastern European\"]\n",
    "for i, cuisine in enumerate(cuisines):\n",
    "    recipes = getRecipeByCuisine(cuisine)\n",
    "    for recipe in recipes:\n",
    "        query = \"INSERT INTO spoonacular (vegetarian,vegan, gluten_free, dairy_free,likes, ready_in_minutes, url, calories, sugar, fat, ingredients, cuisine, title) VALUES(%s, %s, %s,%s, %s, %s,%s, %s, %s,%s, %s, %s, %s)\"\n",
    "        vals = (str(int(recipe[0])), str(int(recipe[1])), str(int(recipe[2])),str(int(recipe[3])),\n",
    "               str(recipe[4]), str(recipe[5]), str(recipe[6]), str(recipe[7]), str(recipe[8]), str(recipe[9]),\n",
    "               json.dumps(recipe[10]), cuisine, str(recipe[11]))\n",
    "        cursor.execute(query, vals)\n",
    "    db_connection.commit()"
   ]
  },
  {
   "cell_type": "code",
   "execution_count": null,
   "metadata": {},
   "outputs": [],
   "source": [
    "db_connection.commit()"
   ]
  },
  {
   "cell_type": "code",
   "execution_count": null,
   "metadata": {},
   "outputs": [],
   "source": [
    "cuisines = [\"African\", \"American\", \"British\", \"Cajun\", \"Caribbean\", \"Chinese\", \"Eastern European\", \"European\", \"French\", \"German\",\"Greek\", \"Indian\", \"Irish\", \"Italian\", \"Japanese\", \"Jewish\", \"Korean\", \"Latin American\", \"Mediterranean\",\"Mexican\", \"Middle Eastern\", \"Nordic\", \"Southern\", \"Spanish\", \"Thai\", \"Vietnamese\"]\n",
    "print(cuisines[7:])"
   ]
  },
  {
   "cell_type": "code",
   "execution_count": null,
   "metadata": {},
   "outputs": [],
   "source": [
    "req_url"
   ]
  },
  {
   "cell_type": "code",
   "execution_count": null,
   "metadata": {},
   "outputs": [],
   "source": [
    "def getRecipeByType(cuisine):\n",
    "    req_url = \"https://api.spoonacular.com/recipes/complexSearch?apiKey=\" + API_KEY_SPOONACULAR + \"&type=\" + cuisine + \"&number=\" + str(LIMIT_SPOONACULAR_RECIPES) + \"&addRecipeNutrition=TRUE&offset=900\"\n",
    "    resp = requests.get(req_url)\n",
    "    jresp = json.loads(resp.text)\n",
    "    all_recipes = []\n",
    "    for recipe in jresp[\"results\"]:\n",
    "        rlist = [recipe[\"vegetarian\"], \n",
    "        recipe[\"vegan\"],\n",
    "        recipe[\"glutenFree\"],\n",
    "        recipe[\"dairyFree\"],\n",
    "        recipe[\"aggregateLikes\"],\n",
    "        recipe[\"readyInMinutes\"],\n",
    "        recipe[\"spoonacularSourceUrl\"]]\n",
    "        \n",
    "        nutrients = recipe[\"nutrition\"][\"nutrients\"]\n",
    "        ingredients = recipe[\"nutrition\"][\"ingredients\"]\n",
    "        \n",
    "        for nutrient in nutrients:\n",
    "            # Calories, Sugar, Fat, Carbohydrates\n",
    "            # name, amount, unit\n",
    "            itemList = [\"Calories\", \"Sugar\", \"Fat\"]\n",
    "            if nutrient[\"name\"] in itemList:\n",
    "                rlist.append(nutrient[\"amount\"])\n",
    "                \n",
    "        #ilist = []\n",
    "        ilist = {}\n",
    "        for i, ingredient in enumerate(ingredients):\n",
    "            # name\n",
    "            ilist[i] = ingredient[\"name\"]\n",
    "            #ilist.append(ingredient[\"name\"])\n",
    "        rlist.append(ilist)\n",
    "\n",
    "        rlist.append(recipe[\"title\"])\n",
    "        all_recipes.append(rlist)\n",
    "    return all_recipes    "
   ]
  },
  {
   "cell_type": "code",
   "execution_count": null,
   "metadata": {},
   "outputs": [],
   "source": [
    "types = [\"main course\",\n",
    "        \"side dish\",\n",
    "        \"dessert\",\n",
    "        \"appetizer\",\n",
    "        \"salad\",\n",
    "        \"bread\",\n",
    "        \"breakfast\",\n",
    "        \"soup\",\n",
    "        \"beverage\",\n",
    "        \"sauce\",\n",
    "        \"marinade\",\n",
    "        \"fingerfood\",\n",
    "        \"snack\",\n",
    "        \"drink\"]\n",
    "\n",
    "types = [\"main course\",\n",
    "        \"side dish\"]\n",
    "\n",
    "#cuisines = [\"Eastern European\"]\n",
    "for i, typ in enumerate(types):\n",
    "    recipes = getRecipeByType(typ)\n",
    "    for recipe in recipes:\n",
    "        query = \"INSERT INTO spoonacular (vegetarian,vegan, gluten_free, dairy_free,likes, ready_in_minutes, url, calories, sugar, fat, ingredients, type, title) VALUES(%s, %s, %s,%s, %s, %s,%s, %s, %s,%s, %s, %s, %s)\"\n",
    "        vals = (str(int(recipe[0])), str(int(recipe[1])), str(int(recipe[2])),str(int(recipe[3])),\n",
    "               str(recipe[4]), str(recipe[5]), str(recipe[6]), str(recipe[7]), str(recipe[8]), str(recipe[9]),\n",
    "               json.dumps(recipe[10]), typ, str(recipe[11]))\n",
    "        cursor.execute(query, vals)\n",
    "    db_connection.commit()"
   ]
  },
  {
   "cell_type": "code",
   "execution_count": null,
   "metadata": {},
   "outputs": [],
   "source": [
    "cursor.execute(\"SELECT * FROM spoonacular\")\n",
    "data = cursor.fetchall()"
   ]
  },
  {
   "cell_type": "code",
   "execution_count": null,
   "metadata": {},
   "outputs": [],
   "source": [
    "df = pd.DataFrame(data, columns=[\"id\", \"vegetarian\", \"vegan\", \"gluten_free\", \"dairy_free\",\"likes\", \"ready_in_minutes\", \"url\", \"calories\", \"sugar\", \"fat\",\"ingredients\", \"cuisine\", \"title\", \"typ\"])"
   ]
  },
  {
   "cell_type": "code",
   "execution_count": null,
   "metadata": {},
   "outputs": [],
   "source": [
    "df.head()"
   ]
  },
  {
   "cell_type": "code",
   "execution_count": null,
   "metadata": {},
   "outputs": [],
   "source": [
    "df[[\"vegetarian\", \"vegan\", \"gluten_free\", \"dairy_free\"]].sum()"
   ]
  },
  {
   "cell_type": "code",
   "execution_count": null,
   "metadata": {},
   "outputs": [],
   "source": [
    "df.drop_duplicates(subset =\"title\", \n",
    "                     keep = False, inplace = True)"
   ]
  },
  {
   "cell_type": "code",
   "execution_count": null,
   "metadata": {
    "scrolled": true
   },
   "outputs": [],
   "source": [
    "df.describe()"
   ]
  },
  {
   "cell_type": "code",
   "execution_count": null,
   "metadata": {},
   "outputs": [],
   "source": []
  }
 ],
 "metadata": {
  "kernelspec": {
   "display_name": "Python 3",
   "language": "python",
   "name": "python3"
  },
  "language_info": {
   "codemirror_mode": {
    "name": "ipython",
    "version": 3
   },
   "file_extension": ".py",
   "mimetype": "text/x-python",
   "name": "python",
   "nbconvert_exporter": "python",
   "pygments_lexer": "ipython3",
   "version": "3.7.6-final"
  }
 },
 "nbformat": 4,
 "nbformat_minor": 2
}