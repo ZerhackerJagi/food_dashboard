{
 "cells": [
  {
   "cell_type": "markdown",
   "metadata": {},
   "source": [
    "# NLP Ansatz, um Posts zu Differenzieren\n",
    "\n",
    "Folgend werden Posts geclustert und unterschiedlichen Kategorien zugewiesen."
   ]
  },
  {
   "cell_type": "markdown",
   "metadata": {},
   "source": [
    "### Requirements"
   ]
  },
  {
   "cell_type": "code",
   "execution_count": 1,
   "metadata": {},
   "outputs": [],
   "source": [
    "# Final Variablen\n",
    "API_KEY_SPOONACULAR = \"146fe79a630b4afb8306a2985bedc64c\"\n",
    "API_KEY_SPOONACULAR = \"6e0a91c81983423792b327bc4b78bb1d\"\n",
    "\n",
    "API_KEY_REDDIT = \"KAJ2xGzCOlH3hyTRADNdSBDuTBORvw\"\n",
    "API_CLIENTID_REDDIT = \"tSemvcUBRFCTYQ\"\n",
    "\n",
    "USERNAME_REDDIT = \"Short-Arrival7632\"\n",
    "PW_REDDIT = \"cookies123\""
   ]
  },
  {
   "cell_type": "code",
   "execution_count": 2,
   "metadata": {},
   "outputs": [],
   "source": [
    "# KONFIGURATION\n",
    "\n",
    "LIMIT_REDDIT_POSTS = 100\n",
    "LIMIT_SPOONACULAR_RECIPES = 100\n",
    "REDDIT_SAVE_INTERVALL = 10 # Minuten"
   ]
  },
  {
   "cell_type": "code",
   "execution_count": 3,
   "metadata": {},
   "outputs": [],
   "source": [
    "# Auf Windows ausführen (einmalig)\n",
    "# !pip install praw\n",
    "# !pip install pandas\n",
    "# !pip install matplotlib\n",
    "# !pip install mysql-connector-python"
   ]
  },
  {
   "cell_type": "code",
   "execution_count": 4,
   "metadata": {},
   "outputs": [],
   "source": [
    "import praw\n",
    "import pandas as pd\n",
    "from datetime import datetime, timedelta\n",
    "import requests\n",
    "import json\n",
    "import matplotlib.pyplot as plt\n",
    "import matplotlib.dates as pdt\n",
    "import mysql.connector\n",
    "import re"
   ]
  },
  {
   "cell_type": "markdown",
   "metadata": {},
   "source": [
    "### Connect to Database"
   ]
  },
  {
   "cell_type": "code",
   "execution_count": 5,
   "metadata": {},
   "outputs": [],
   "source": [
    "db_connection = mysql.connector.connect(\n",
    "  host= \"wp.jagi.wtf\",\n",
    "  user= \"redditu\",\n",
    "  password= \"redditMaster\",\n",
    "  database=\"reddit\"\n",
    "  )\n"
   ]
  },
  {
   "cell_type": "code",
   "execution_count": 6,
   "metadata": {},
   "outputs": [],
   "source": [
    "cursor = db_connection.cursor()"
   ]
  },
  {
   "cell_type": "markdown",
   "metadata": {},
   "source": [
    "### Get Data from Subreddit DB"
   ]
  },
  {
   "cell_type": "code",
   "execution_count": 7,
   "metadata": {},
   "outputs": [],
   "source": [
    "df = pd.read_sql(\"SELECT * FROM reddit\", db_connection)"
   ]
  },
  {
   "cell_type": "markdown",
   "metadata": {},
   "source": [
    "# NLP STARTS HERE"
   ]
  },
  {
   "cell_type": "code",
   "execution_count": 8,
   "metadata": {},
   "outputs": [
    {
     "data": {
      "text/html": [
       "<div>\n",
       "<style scoped>\n",
       "    .dataframe tbody tr th:only-of-type {\n",
       "        vertical-align: middle;\n",
       "    }\n",
       "\n",
       "    .dataframe tbody tr th {\n",
       "        vertical-align: top;\n",
       "    }\n",
       "\n",
       "    .dataframe thead th {\n",
       "        text-align: right;\n",
       "    }\n",
       "</style>\n",
       "<table border=\"1\" class=\"dataframe\">\n",
       "  <thead>\n",
       "    <tr style=\"text-align: right;\">\n",
       "      <th></th>\n",
       "      <th>id</th>\n",
       "      <th>title</th>\n",
       "    </tr>\n",
       "  </thead>\n",
       "  <tbody>\n",
       "    <tr>\n",
       "      <th>0</th>\n",
       "      <td>101</td>\n",
       "      <td>[PRO/CHEF] Texas Barbecue Platter</td>\n",
       "    </tr>\n",
       "    <tr>\n",
       "      <th>1</th>\n",
       "      <td>102</td>\n",
       "      <td>[homemade] Whole lemon cake doughnuts with whi...</td>\n",
       "    </tr>\n",
       "    <tr>\n",
       "      <th>2</th>\n",
       "      <td>103</td>\n",
       "      <td>[Homemade] Calamari</td>\n",
       "    </tr>\n",
       "    <tr>\n",
       "      <th>3</th>\n",
       "      <td>104</td>\n",
       "      <td>[homemade] raspberry cream cake covered in Legos</td>\n",
       "    </tr>\n",
       "    <tr>\n",
       "      <th>4</th>\n",
       "      <td>105</td>\n",
       "      <td>[homemade] “yogurt eggs and apple fries”</td>\n",
       "    </tr>\n",
       "  </tbody>\n",
       "</table>\n",
       "</div>"
      ],
      "text/plain": [
       "    id                                              title\n",
       "0  101                  [PRO/CHEF] Texas Barbecue Platter\n",
       "1  102  [homemade] Whole lemon cake doughnuts with whi...\n",
       "2  103                                [Homemade] Calamari\n",
       "3  104   [homemade] raspberry cream cake covered in Legos\n",
       "4  105           [homemade] “yogurt eggs and apple fries”"
      ]
     },
     "execution_count": 8,
     "metadata": {},
     "output_type": "execute_result"
    }
   ],
   "source": [
    "df = df.drop(columns=['hour_created', 'time_created', 'day_created', 'author',\n",
    "       'ups', 'downs', 'num_comments', 'text', 'thumbnail', 'url', 'curr_time'])\n",
    "\n",
    "df.head()"
   ]
  },
  {
   "cell_type": "code",
   "execution_count": 9,
   "metadata": {},
   "outputs": [],
   "source": [
    "# Auf Windows ausführen (einmalig)\n",
    "# !pip install tmtoolkit\n",
    "# !pip install nltk\n",
    "# !pip install pyLDAvis\n",
    "# !pip install\n",
    "# !pip install tqdm\n",
    "# !pip install spacy==2.3.5\n",
    "# !python -m spacy download en_core_web_sm # sonst googlen (kommt auf das env setup an)\n",
    "\n",
    "# one time run to make this notebook work\n",
    "# import nltk\n",
    "# nltk.download('averaged_perceptron_tagger')"
   ]
  },
  {
   "cell_type": "code",
   "execution_count": 10,
   "metadata": {},
   "outputs": [],
   "source": [
    "import os\n",
    "import sys\n",
    "\n",
    "# maths\n",
    "import numpy as np\n",
    "\n",
    "# regular expressions to manipulate text\n",
    "import re\n",
    "import string\n",
    "\n",
    "# NLP\n",
    "from tmtoolkit.preprocess import TMPreproc\n",
    "from tmtoolkit.corpus import Corpus\n",
    "# from tmtoolkit.defaults import language\n",
    "from tmtoolkit.topicmod.tm_lda import evaluate_topic_models\n",
    "from tmtoolkit.topicmod.evaluate import results_by_parameter\n",
    "from tmtoolkit.topicmod.visualize import plot_eval_results\n",
    "from tmtoolkit.topicmod.model_io import save_ldamodel_summary_to_excel\n",
    "from tmtoolkit.topicmod.visualize import parameters_for_ldavis\n",
    "from tmtoolkit.topicmod.model_io import save_ldamodel_to_pickle\n",
    "from tmtoolkit.topicmod.model_io import ldamodel_top_topic_words\n",
    "from tmtoolkit.topicmod.model_stats import marginal_topic_distrib\n",
    "from tmtoolkit.bow.bow_stats import doc_lengths\n",
    "from tmtoolkit.topicmod.model_stats import generate_topic_labels_from_top_words\n",
    "\n",
    "import en_core_web_sm\n",
    "\n",
    "import pyLDAvis\n",
    "\n",
    "import logging\n",
    "import warnings\n",
    "\n",
    "# progress bars\n",
    "from tqdm import tqdm"
   ]
  },
  {
   "cell_type": "markdown",
   "metadata": {},
   "source": [
    "### Cleaning"
   ]
  },
  {
   "cell_type": "code",
   "execution_count": 11,
   "metadata": {},
   "outputs": [
    {
     "name": "stdout",
     "output_type": "stream",
     "text": [
      "amount of data rows before: 357200\n",
      "amount of data rows after: 357200\n"
     ]
    }
   ],
   "source": [
    "## simple preprocessing\n",
    "\n",
    "## Notiz an mich selbst 03.04.2020\n",
    "## Nachschauen, wie regular expressions jetzt funktionieren\n",
    "## 3.5. falscher Iterator\n",
    "\n",
    "print('amount of data rows before: {}'.format(len(df)))\n",
    "\n",
    "\n",
    "# for idx in tqdm(df.index):\n",
    "#     text = df.loc[idx,'title']\n",
    "# #     # remove url's\n",
    "# #     # from https://docs.microsoft.com/en-us/previous-versions/msp-n-p/ff650303(v=pandp.10)?redirectedfrom=MSDN\n",
    "# #     text = re.sub(\"^(ht|f)tp(s?)\\:\\/\\/[0-9a-zA-Z]([-.\\w]*[0-9a-zA-Z])*(:(0-9)*)*(\\/?)([a-zA-Z0-9\\-\\.\\?\\,\\'\\/\\\\\\+&amp;%\\$#_]*)?$\",                   '', text)\n",
    "# #     # mail adresses\n",
    "# #     text = re.sub('\\S+@\\S+', '', text)\n",
    "# #     # web pages\n",
    "# #     text = re.sub('\\S+.com', '', text)\n",
    "# #     # digits\n",
    "# #     text = re.sub('\\w*\\d\\w*', '', text)\n",
    "# #     # non-sensical text\n",
    "# #     text = re.sub('\\n', ' ', text)\n",
    "# #     text = re.sub('\\r', ' ', text)\n",
    "# #     text = re.sub('\\\\xa0', ' ', text)\n",
    "#     # german letters\n",
    "#     text = re.sub('ö','oe',text)\n",
    "#     text = re.sub('Ö','Oe',text)\n",
    "#     text = re.sub('ü','ue',text)\n",
    "#     text = re.sub('Ü','Ue',text)\n",
    "#     text = re.sub('ä','ae',text)\n",
    "#     text = re.sub('Ä','Ae',text)\n",
    "#     text = re.sub('ß','ss',text)\n",
    "#     # removing extra white spaces\n",
    "#     text = \" \".join(text.split())\n",
    "#     df.loc[idx,'title'] = text\n",
    "    \n",
    "df = df.dropna()\n",
    "print('amount of data rows after: {}'.format(len(df)))"
   ]
  },
  {
   "cell_type": "code",
   "execution_count": 12,
   "metadata": {},
   "outputs": [
    {
     "data": {
      "text/html": [
       "<div>\n",
       "<style scoped>\n",
       "    .dataframe tbody tr th:only-of-type {\n",
       "        vertical-align: middle;\n",
       "    }\n",
       "\n",
       "    .dataframe tbody tr th {\n",
       "        vertical-align: top;\n",
       "    }\n",
       "\n",
       "    .dataframe thead th {\n",
       "        text-align: right;\n",
       "    }\n",
       "</style>\n",
       "<table border=\"1\" class=\"dataframe\">\n",
       "  <thead>\n",
       "    <tr style=\"text-align: right;\">\n",
       "      <th></th>\n",
       "      <th>id</th>\n",
       "      <th>title</th>\n",
       "    </tr>\n",
       "  </thead>\n",
       "  <tbody>\n",
       "    <tr>\n",
       "      <th>0</th>\n",
       "      <td>101</td>\n",
       "      <td>[PRO/CHEF] Texas Barbecue Platter</td>\n",
       "    </tr>\n",
       "    <tr>\n",
       "      <th>1</th>\n",
       "      <td>102</td>\n",
       "      <td>[homemade] Whole lemon cake doughnuts with whi...</td>\n",
       "    </tr>\n",
       "    <tr>\n",
       "      <th>2</th>\n",
       "      <td>103</td>\n",
       "      <td>[Homemade] Calamari</td>\n",
       "    </tr>\n",
       "    <tr>\n",
       "      <th>3</th>\n",
       "      <td>104</td>\n",
       "      <td>[homemade] raspberry cream cake covered in Legos</td>\n",
       "    </tr>\n",
       "    <tr>\n",
       "      <th>4</th>\n",
       "      <td>105</td>\n",
       "      <td>[homemade] “yogurt eggs and apple fries”</td>\n",
       "    </tr>\n",
       "  </tbody>\n",
       "</table>\n",
       "</div>"
      ],
      "text/plain": [
       "    id                                              title\n",
       "0  101                  [PRO/CHEF] Texas Barbecue Platter\n",
       "1  102  [homemade] Whole lemon cake doughnuts with whi...\n",
       "2  103                                [Homemade] Calamari\n",
       "3  104   [homemade] raspberry cream cake covered in Legos\n",
       "4  105           [homemade] “yogurt eggs and apple fries”"
      ]
     },
     "execution_count": 12,
     "metadata": {},
     "output_type": "execute_result"
    }
   ],
   "source": [
    "df.head()"
   ]
  },
  {
   "cell_type": "markdown",
   "metadata": {},
   "source": [
    "### Training"
   ]
  },
  {
   "cell_type": "code",
   "execution_count": 13,
   "metadata": {},
   "outputs": [],
   "source": [
    "## globals\n",
    "\n",
    "parent_path = os.path.dirname(os.getcwd())\n",
    "language = 'english'\n",
    "\n",
    "# suppress the \"INFO\" messages and warnings from lda\n",
    "logger = logging.getLogger('lda')\n",
    "logger.addHandler(logging.NullHandler())\n",
    "logger.propagate = False\n",
    "\n",
    "warnings.filterwarnings('ignore')\n",
    "\n",
    "stop = ['homemade']"
   ]
  },
  {
   "cell_type": "code",
   "execution_count": 14,
   "metadata": {},
   "outputs": [],
   "source": [
    "## formatting for tmtoolkit\n",
    "d = df.set_index('id')['title'].to_dict()"
   ]
  },
  {
   "cell_type": "code",
   "execution_count": 15,
   "metadata": {},
   "outputs": [
    {
     "name": "stdout",
     "output_type": "stream",
     "text": [
      "Corpus with 357200 documents\n"
     ]
    }
   ],
   "source": [
    "#tmtoolkit preprocessing\n",
    "## multiple preprocessing steps to be computed and compared against each other\n",
    "\n",
    "corpus = Corpus(docs=d)\n",
    "print(corpus)\n",
    "#corpus = corpus.sample(50)"
   ]
  },
  {
   "cell_type": "code",
   "execution_count": 16,
   "metadata": {},
   "outputs": [
    {
     "name": "stdout",
     "output_type": "stream",
     "text": [
      "vocabulary size before processing: 5965\n"
     ]
    }
   ],
   "source": [
    "pp0 = TMPreproc(corpus, language='en')\n",
    "del corpus\n",
    "\n",
    "old_vocab = pp0.vocabulary\n",
    "print('vocabulary size before processing: {}'.format(pp0.vocabulary_size))"
   ]
  },
  {
   "cell_type": "code",
   "execution_count": 17,
   "metadata": {},
   "outputs": [
    {
     "name": "stdout",
     "output_type": "stream",
     "text": [
      "vocabulary size after processing: 4250\n",
      "vocabulary, that was cut during this step:\n",
      "{'Sneaking', 'Drop', 'Dim', 'Focaccia', 'Mushrooms', 'Canadian', 'Marsala', 'Linguini', 'Ravioli', 'Sandwiche', 'Oxtail', 'spirals', 'Granola', 'Autumn', '-', 'Here', 'Purple', 'layers', 'Kreme', 'Big', 'Beef', 'Low', 'Erh', 'Pigs', 'toppers', 'Makhni', 'Shumai', 'Doughnuts', 'Mutter', 'Spice', 'Avacado', 'Adobo', 'Zucchini', 'Preserve', 'Feta', 'Granny', 'Heo', 'Toasted', 'Mutton', 'Pretzel', 'Argentinian', 'Smoothie', 'Wonton', 'Chip', 'Parfait', 'NACHOES', 'Mane', 'PF', 'forgotten', 'Naked', 'Out', 'STEAK', 'Korean/', 'West', 'Muhalbia', 'KING', 'Angel', 'Greek', 'Artisan', 'Avocado', 'giants', 'Portal', 'Donuts', 'Meatball', 'humans', 'Tape', 'Jello', 'Open', 'Herring', 'Nutella', 'picked', 'Served', 'Chargrilled', 'Portland', 'Crème', 'Fritters', 'Omelette', 'Jewelry', 'Hickory', 'bits', 'Aburi', 'Cross', 'Alta', 'Arabic', 'Lorraine', 'Uncured', 'Josh', 'Toast', 'Packet', 'French', 'Jalapenos', 'Dogs', 'Tantanmen', 'Scallions', 'Mai', 'Tangsuyuk', 'serranos', 'Saltado', 'Smith', 'Homemade]roasted', 'Tomato', 'Koda', 'Top', 'Birthday', 'Garlic', 'Apple', 'Jeon', 'Shell', 'Boy', 'Backs', 'Nom', 'Canjeero', 'Smores', 'munchies', 'Shop', 'Kangaroo', 'Baklawa', 'Aioli', 'apricots', 'Cranberry', 'Great', 'Snow', 'Kinder', '|', 'Sponge', 'Carpaccio', 'Shells', 'Mongolian', 'Cereal', 'Eclairs', 'Schaschlik', 'Huckleberry', 'medallions', 'Basket', 'Sundae', 'Oat', 'Charcoal', 'Dahi', 'Strawberry', 'Buttered', 'called', 'Cutlet', '&', 'Sautéed', 'Potstickers', 'Scamorza', 'Girl', 'Voila', 'Baker', 'Antiguan', 'PINEAPPLE', 'BraveTart', '”', 'Spam', 'Worcestershire', 'Pizzas', 'Pure', 'Kheema', 'tatoes', 'Chaps', 'Sucre', 'Cinammon', 'Homemade]Melon', 'Joojeh', 'Trio', 'sourced', 'Iced', 'Rollups', 'Waffle', 'Way', 'Bonbons', 'String', 'collards', 'Rotkraut', 'Confections', 'Hush', 'franks', 'Carmelized', 'Chole', 'Soupy', 'Taters', 'Chamomile', 'Smoked', 'Chocolat', 'Poké', 'Aromatic', 'Ate]Chicken', 'Round', 'asked', 'condiments', 'Bavarian', 'Basil', 'Coconut', 'Prawn', 'Rump', 'Deluxe', 'Yaki', 'berries', 'Yu', 'Hattie', 'Alla', 'Strata', 'Carnitas', 'Joseph', 'Mardi', 'Frog', 'Cups', 'Mahi', 'Jerky', 'Paitan', 'Cruz', 'Homemade]grapefruit', 'Costa', 'Pickled', 'Child', 'Chai', 'Cronut', 'Belut', 'Fajitas', 'Pastitsio', 'Kake', 'Tallow', 'Blueberries', 'Biscoff', 'played', 'Omakase', 'Ray', 'Rancheros', 'Frosting', 'GarPar/', 'Carvery', 'currants', 'FOOD', 'lemons', 'Grünkohl', 'Syrup', 'Corned', 'HB', 'Tataki', 'Bicol', 'Ceviche', 'Bun', 'Ends', 'Raclette', 'Keema', 'Wilted', 'Brats', 'Sum', 'General', 'Belgian', 'Number', 'countries', 'Mandu', 'Ate]Baklava', 'barbecued', 'rasberries', 'Leng', 'Crispyyy', 'Mulled', 'Sheet', 'Scallop', 'Risotto', 'Étouffée', 'Crepe', 'Wellingtons', 'Fried', 'Striped', 'Espasol', 'Blossoms', 'Chaap', 'Stuffed', 'Cayenne', 'Dauphinoise', 'Flank', 'Käsespätzle', 'milled', 'Gifted', 'woke', 'Pistaccio', 'TX', 'Mooncake', 'Cakes', 'Carbonara', 'South', 'Year', 'Hunters', 'Lendenspieße', 'Shackburger', 'Lamb', 'Lieutenant', 'Romesco', 'Veal', 'Pandan', 'Sliders', 'Brownies', 'Coca', 'Papas', 'Poutine', 'dishes', 'Tod', 'Phad', 'Tartar', 'Organic', 'Hue', 'forbidden', 'Seaweed', 'Rosette', 'Mein', '‘', 'Ranch', 'Fettucine', 'required', 'Rose', 'Hawaiian', 'Andalouse', 'Serve', 'Had', 'Velvet', 'Happy', 'Custard', 'raisins', 'Briyani', '@thebombaybakester', 'Lychee', 'Kentucky', 'Marinara', 'Buttercookie', 'Anchovy', 'Nuggies', 'Beignets', 'Ratatouille', 'Swirl', 'Power', 'Profiteroles', 'Simpson', 'Soda', 'Gyoza', 'Korean', 'Roll', 'Maas', 'Cheddar', 'Munster', 'Red', 'Diver', 'separated', 'Basted', 'Pies', 'Spag', 'Adjarian', 'Salald', 'marigolds', 'Tray', 'Pierogi', 'spent', 'Bourguignon', 'Mozzarella', 'Herb', 'Mexico', 'Spicy', 'Moist', 'Popper', 'Cocoa', 'i.e', 'Raviolis', 'Jaman', 'Idli', 'Botanical', 'Cottage', 'Gyro', 'blistered', 'saw', 'Gunma', 'Draft', 'Flatbread', 'wars', 'Sundried', 'Masala', 'Kilted', 'Tiptree', 'Apples', 'Western', 'kinds', 'na', ';', 'Endive', 'Guinness', 'Obligatory', 'Bulldog', 'Melts', 'Piña', 'Onions(there', 'Crawfish', 'Roman', 'Filling', 'plated', 'Bollitos', 'Macaron', 'Rye', 'Nobu', 'Homemade]Gyudon', '..', 'Sprout', 'Rainbow', 'spherified', 'Caldo', 'Porcini', 'You', 'Kobe', 'Purée', '1.3', 'Newbie', 'Parasite', 'Duck', 'Israeli', 'whites', 'Paris', 'Mirepoix', 'pitted', 'Bugs', 'Famous', 'St.', 'I', 'Margherita', 'Umbria', 'Broccoli', 'Bison', 'Cheese', 'Chimichurri', 'Muffin', 'Bull', 'steaks', 'Hen', 'bugs', 'Classic', 'Crabmeat', 'Mezze', 'Mashed', 'Cinnamom', 'Smokey', 'flavours', 'Arctic', 'Caesar', 'breads', 'Sea', 'macaroons', 'Shack', 'Bloody', 'Kale', 'Spanikopita', 'Vietnam', 'Bechamel', 'Pellet', 'frills', 'Acorn', 'Sfogliatella', '8-Hour', 'Jerkey', 'Tortes', 'Mousse', 'Panchetta', 'Chapatis', 'Porn', 'Ate]Puntillas', 'Barcelona', 'Cheetos', 'Fregola', 'Creamed', 'Bear', 'NY', 'Tower', 'Cream', 'Rosted', 'crustaceans', 'Rustica', 'Piccata', 'Key', 'Matar', 'Jalapeño', 'work~', 'Scottish', 'Irish', 'Chili', 'parcels', 'Frittata', 'Muffulettas', 'Kelp', 'Tin', 'Asturiana', 'Ink', 'Worms', 'Baked', 'Pepper', 'Steaks', 'Parathas', 'Ricecrackers', 'Calabrese', 'Tartare', '’ve', 'Macedonian', 'Qabuli', 'Drizzle', 'Terrarium', 'Ball', 'ate]Charcuterie', 'lots', 'Pomodoro', 'Crust', 'Mixed', 'Appa', 'Enchirito', 'Brest', 'Polenta', 'types', 'Starfruit', 'Arancici', 'Skillet', 'Grilled', 'Twists', 'Pokebowl', 'Chimichanga', 'Alarm', 'Squab', 'Cultured', 'marbled', 'Bag', 'ButterMilk', 'Dessert', 'Pearl', 'Silk', 'bettered', 'Chatni', 'Tart', 'Tankotsu', 'Preserved', 'Sticky', 'WAGYU', 'Gravy', 'seen', 'Shortcake', 'Turnip', 'serving', 'Peri', 'threads', 'Parma', 'Spätzle', 'Digiorno', 'BUTTER', 'cakepops', 'Au', 'Light', 'Okra', 'Hushpuppies', 'Boba', 'Bowl', 'Creamy', 'Thighs', 'Jumbo', 'Poor', 'Buttery', 'Marzano', 'Phat', 'bored', 'Homemade]Shake', 'Tatar', 'Floss', 'revisited', 'Crisp', 'had', 'Drunken', 'Matcha', 'knuckles', 'Truck', 'Beghrir', 'Dakgangjeong', 'Bon', 'Baken', 'ate]Pineapple', 'Spelt', 'Asparagas', 'Nothing', 'Chateaubriand', 'Debbie', 'Octopus', 'American', 'Fruits', 'Rouladen', 'babysitting', 'radishes', 'Rare', 'Braunschweiger', 'Whiskey', 'crushed', 'Hut', 'Up', 'shanks', 'Dumle', 'Braid', 'simmered', 'Gingery', 'crouton(bread', '10-strand', 'Miguel', 'flaked', 'Caritas', 'a/', 'toppings', 'Rack', 'Oatmeal', 'Shallots', 'GA', 'frijoles', 'M&M', 'Luau', 'Waygu', 'Mozzarisella', 'Habanero', 'Raspberries', 'Goopy', 'Queso', 'Hotpot', 'Who', 'Abetini', 'ducks', 'Tian', 'Matzo', 'IG', 'trimmings', 'Eggless', 'Brodo', 'Chive', 'Jiang', 'North', 'Homemade]Buffalo', 'Montreal', 'leaves', 'swirled', 'Schweinenacken', 'BBQ', 'Infamous', 'Poon', 'added', 'infused', 'Alaskan', 'Cincinnati', 'Gooseberry', 'v.s.', 'Banana', 'LEGS', 'Pinot', 'Massabaha', 'morels', ')', 'Rou', 'nectarines', 'Caprese', 'Moussaka', 'CHICKEN', 'MeatBalls', 'Mozza', 'Coriander', 'Afghan', 'Plantain', 'loving', 'Mabo', 'Tx', 'Middle', 'Army', 'Potato', 'HOMEMADE]Bacon', 'Skirt', 'Trout', 'Carrot', 'seems', 'Achari', 'Bleu', 'Gargantuan', 'Topfennockerl', 'reduced', 'One', 'Park', 'Dirty', 'tastes', 'Rabe', 'Filet', 'Gumbo', 'lit', 'Chanh', 'Vaqueros', 'Lengua', 'homemade]Folded', 'Snackbite', 'Calzone', 'Tarte', 'Smash', 'Road', 'Ate]Mountain', 'Exercise', 'Catalina', 'Cheesesteak', 'Torta', 'Topping', 'Spread', 'Tacos', 'Escargot', 'Spiced', 'bumps', 'meats', 'sides', 'Traeger', 'Çiğ', 'HOMEMADE]Greek', 'Crumb', 'styled', 'Xeo', 'Schweinefleisch', 'XL', 'Milkshake', 'nests', 'ol’', 'Drumsticks', 'Zip', 'Kitsune', 'Chipotle', 'Blueberry', 'Cornmeal', 'Bananas', 'Mantu', 'ate]Reuben', 'Börek', 'Chilis', 'McGriddles', 'Courgette', 'Onigiri', 'Pastalaya', 'CC', 'Ghee', 'Bagel', 'Ecuadorean', 'Fruity', 'Marinated', 'Dough', 'Side', 'BFF', 'Rucola', 'requested', 'Wasabi', 'Semla', 'Fired', 'Budino', 'Based', 'Crumble', 'Crunchwrap', 'Lays', 'cheaper', 'Mediterranean', 'Brioche', 'Cheeseburgers', 'Okonomiyaki', 'Split', 'Soft', 'misses', 'Carrots', 'Millionaires', 'Monica', 'Celtic', 'Consummé', 'Hummus', 'Bayou', 'Hard', 'Oscar', 'Death', 'Over', 'Danish', 'homemade]Ultra', 'Street', 'Serrano', 'Enchiladas', 'Sando', 'Blanc', 'chocolates', 'Coffee', 'Tso', 'rules', 'Mozz', 'Arugula', \"'d\", 'Scotch', 'spices', 'Galentine', 'Quay', 'Green', 'Two', 'Roast', 'realized', 'Austrian', 'Sauteed', 'Homemade]Polish', 'Wedge', 'degrees', 'Suzy', 'E', 'Strawberries', 'Tri', 'Lemon', 'Nasi', 'Stock', 'Thai', 'Flavortown', 'Moscatel', 'chilled', 'Hunny', 'Rigatoni', 'Padhir', 'Varying', 'ATE]tres', 'Corner', 'Louisiana', 'Shaved', 'Bahn', 'Jeera', 'Kee', 'Manchego', 'Piecaken', 'homemade]Mango', 'Brigadeiro', 'Glossy', 'ATE]Phở', 'Ganache', 'Pecorino', 'Barramundi', 'Mole', 'kids', 'Aperol', 'Carne', 'Haddock', 'Breast', 'Paneer', 'Free', 'Reese', 'Wall', 'Pu', 'Aldis', 'Strip', 'RIB', 'Pide', 'Runny', 'Mussels', 'Block', 'Celeriac', 'Topped', 'Browa', 'Stir', 'Rogan', 'Cavatappi', 'Kebab', 'Homemade]Chorizo', 'Poached', 'Ragù', 'Creme', 'Quesa', 'ate]Popcorn', 'RIBS', 'Butt', 'stickers', 'Corkese', 'Gratin', 'Lemony', 'Oreos', 'Shuwa', 'Rasta', 'Babish', 'Detroit', 'But', '[', 'fired', 'Heart', 'Ate]Holeman', 'are', 'Oliver', 'snacks', 'Aubergine', 'Skyr', 'This', 'Couch', 'nt', 'imported', 'Fixins', 'shmeared', 'Boeuf', 'ate]Ramen', 'Homemade]chicken', 'Vanilla', 'Spinash', 'Eggo', 'Durum', 'McRib', 'Homemade]Grilled', 'Pac', 'subs', 'Man', 'C', 'Hot', 'cheeses', 'Farfelle', \"Za'atar\", 'Puri', 'foraged', 'Gras', 'does', 'Diplomat', 'Jam', 'Poblano', 'Pozole', 'Nikkei', 'Tabouleh', 'Pavlova', 'Verde', 'Benedict', 'Pooh', 'croutons', 'Mortadella', 'Ale', 'Indian', 'Beouf', 'Bok', 'Air', '7M+', 'Seafood', 'Carolina', 'ribbons', 'ways', 'Waffled', 'Pound', 'Tartlets', 'Siu', 'Crêpes', 'Freakshake', 'Porter', '-Dutch', 'Homemade]General', 'Barbecue', 'Passionfruit', 'Parsnip', 'Frying', 'Don', 'flowers', 'M&Ms', 'Australian', 'Rarebit', 'Buckwheat', 'Homemade]Thick', 'Pasteis', 'CRAB', 'Stew', 'raspberries', 'Chao', 'Huế', 'Lightly', 'Wedges', 'Adjaruli', 'Fig', 'Friends', 'Boiled', 'Reggiano', 'Cajun', 'Patrick', 'Anna', 'CNY', 'Pacific', 'Design', 'Really', 'Maqluba', 'Lotus', 'Homemade]Dry', 'Crispy', 'Calabrian', 'Saigon', 'Cuban', 'Ali', 'Moong', 'belated', 'thinking', 'homemade]chicken', 'Grazing', 'Grill', 'Roommate', 'Swiss', 'Saag', 'Line', 'Art', 'Bokkeum', 'Bennys', 'AskCulinary', 'Capirotada', 'Pre', 'Toowamba', 'Cornbread', 'Zodiac', 'Etouffe', 'Farfalle', 'caught', '!', 'BMS12', 'Souffle', 'vada-', 'Cauliflower', 'homemade]White', '7.5', 'Roti', 'Fiesta', 'tostones', 'Stroopwafel', 'Tahini', 'Yen', 'Du', 'homemade]Smoked', 'Curry', 'GF', 'cubes', 'Sonoma', 'Vegetables', 'Kiev', 'Braised', 'Grandma', 'Beansprout', 'Asada', 'Radish', 'Mozzerella', 'Hadid', 'rats', 'Biang', 'BaconEggAndCheese', 'Banoffee', 'KitKat', 'Paste', 'Balsamic', 'Eye', 'Homemade]14-day', 'Italian', 'And', 'Poppers', 'Skrei', 'Cheesesteaks', 'Yellowtail', 'Savory', 'mustard/', 'marshmallows', 'SPAM', 'Mozambique', 'Pepe', 'Sunomono', 'Veggie', 'Bretonne', 'Goodness', 'Guy', 'Fabada', 'Pebbles', 'Boneless', 'Tea', 'Dorayaki', 'Just', 'Grape', 'Parmesan', 'Mince', 'Gai', 'Jar', 'Lobstah', 'Lover', 'Graeca', 'chipotles', 'Cơm', 'BIRTHDAY', 'Dash', 'Wafer', 'textured', 'Tomatoes', 'Crab', 'w/', 'Beer', 'Bakery', 'galzed', 'Fasolia', 'Cheesecakes', 'Snook', 'KFC', 'German', 'having', 'blossoms', 'McJordan', 'Rockfish', 'Orleans', 'Croque', 'Coarse', 'Stromboli', 'chickens', 'Cha', 'Garlicky', 'Puffs', 'beechers', 'Butterchicken', 'Pane', 'closer', 'Pears', 'Allergies', 'shared', 'Mac’n', 'NYC', 'Bons', 'coated', 'Sometimes', 'Smashburger', 'Choux', 'Chapati', 'Homemade]48', 'Dulce', 'Jack', 'SMOKED', 'Maryland', 'Blondies', 'Decided', 'Lo', 'Salted', 'Kalbi', 'Jamun', 'N', 'Bottle', 'took', 'AKA', 'Homemade]Deep', 'Impossible', 'Achara', 'Arroz', 'HS', 'Cola', 'pots', 'Kabob', 'Tortellini', 'Roastbeef', 'Venezuelan', 'Lumpiang', 'Clam', 'Grigio', 'Dumpling', 'Royal', ']', 'Onsen', 'Hamburger', 'potaoes', 'Bath', 'knows', 'Malted', 'Curried', 'Nice', 'Homemade]Cinnamon', 'Massaman', '(', 'ribletts', 'Zuppa', 'embers', 'Pop', 'Bites', 'packets', 'FROM', 'Duke', 'Fondue', 'Bryan', 'Chickichanga', 'East', 'Foie', 'Huge', 'Rocher', 'soda~', 'Bookers', 'Sticks', 'Sinangag', 'Parsnips', 'Applewood', 'SHORT', 'Biscotti', 'Jalapeño/', 'Nachos', 'Crown', 'Alemania', 'Horseradish', 'cakesicles', 'Crema', 'Crockpot', 'Everything', 'Baja', 'Homemade]Calico', 'Syrups', 'Salami', 'Pollo', 'Soy', 'Goblin', 'Soba', 'Tibs', 'Olive', 'Neopolitan', 'Board', 'Gosht', 'Sprinkle', 'dates', 'Pea', 'Ordering', 'Malbec', 'Burger', 'Colorado', 'Acai', 'Scout', 'beheaded', 'Broth', 'Vinaigrette', 'Fire', 'spuds', 'Kebabs', 'Herbs', 'Gigante', 'Century', 'Shanghai', 'Panang', 'Fahrenheit', 'Cheesy', 'Lorighittas', 'bombs', 'Puddino', 'Bollos', 'Sushi', 'ABCDE', 'Close', 'Wings', 'Marian', 'Cube', 'Jjigae', 'Nuong', 'beens', 'Glass', 'Quiche', 'Nut', 'Paella', ':', 'Kolaches', 'Laab', 'Asian', 'Chaat', 'Virgin', 'Welsh', 'Timbo', 'Haemul', 'Bokki', 'Thanks', 'Enjoy', 'Rod', 'Dipped', 'Overload', 'pastries', 'Belcher', 'Bagels', 'Chintan', 'Honeycomb', 'Onion', 'Tai', 'Turned', 'Hazelnut', 'Noodle', 'With', 'Tried', 'Blackberry', 'Snack', 'Celery', 'Limoncello', 'Gozleme', 'braising', 'Pear', 'Lime', 'Agar', 'Skin', 'Mise', 'S’mores', 'Çılbır', 'Compound', 'chives', 'Ossobuco', 'Laal', 'Puppies', 'Gyozi', 'strings', 'Pakistani', 'created', 'Fettuccini', 'Vienna', 'Earl', 'Inari', 'Chutney', 'Andouille', 'Brussell', 'Bulalo', 'Drug', 'Millionaire', 'Bacon', 'Chasu', 'Pepperoni', 'Frankenstein', 'Leek', 'broiled', 'Sashimi', 'Five', 'Popovers', 'cooks', 'chillies', 'Blinis', 'Dinner', 'Costco', 'Shepherd', 'Eel', 'Post', 'tons', 'Enchilada', 'Milkfish', 'Pandemic', 'ate]McGangBang', 'crumbs', 'Fatty', 'Capers', 'Pickle', 'hours', 'Compote', 'Bierfleisch', 'cleared', 'Ribeye', 'Fashoned', 'Kürtőskalács', 'Shepard', '%', 'Hello', 'Cheese(cake', 'Halal', 'Ferrero', 'Fiery', '.....', 'Homemade]Sole', 'Ayib', 'California', 'Portuguese', 'encrusted', 'chunks', 'Shortrib', 'Malai', 'Zhou', 'Takeout', 'Romano', 'Lucy', 'Donut', 'Burro', 'Peach', 'Labneh', 'Breaded', 'Vegetable', 'tuned', 'English', 'Sev', 'Loaded', 'Romaine', 'Halibut', 'Root', 'Norway', 'Biltong', 'spheres', 'thanks', 'Vide', 'Cooked', 'Aleppo', \"'s\", 'Ju', 'Takeaway', 'Crème', 'Breakage', 'PANEER', 'Minced', 'Gołąbki', 'Hotdog', 'shrooms', 'Zatt', 'Dino', 'May', 'making', 'Caramelized', 'Angus', 'Kare', 'cones', 'Findus', '1/2', 'Dill', 'Leches', 'Smoking', 'Aligot', 'Turmeric', 'Knots', 'Homemade]Fried', 'LSD', 'Tail', 'has', 'Watermelon', 'Boar', 'ATX', 'Oyster', 'Flourless', 'Sakarya', 'Shiitake', 'baking', 'La’ssants', 'Behold', 'Misir', 'Gaprao', 'Lamp', 'trained', 'Chef]Duck', 'Twist', 'FRIED', 'Kansas', 'Twice', 'Homemade]Blackberry', 'Sizes', 'Pâté', '包子）[homemade', 'Panettone', 'Butterscotch', 'Edinburgh', 'wanted', 'Oshizushi', 'Piping', 'rings', 'Lavender', 'Pao', 'Steelhead', 'Ribeyes', 'fed', 'Beast', 'Spare', 'Tupig', 'RAMEN', 'Aguachile', 'Charred', 'Redfish', 'comes', 'Pizza', 'Soup', 'Thigh', 'Preserves', 'Oregon', 'Food', 'MrBeast', 'Peppers', 'Chaussons', 'Trofie', 'Bubble', 'Shank', 'Anecdota', 'Always', 'minutes', 'eats', 'Parmigiano', 'Sheng', 'Borscht', 'Authentic', 'Marshmallow', 'Persian', 'Ukrainian', 'Choy', 'Florentine', 'was', 'turned', 'Freeze', 'Cinnybuns', 'Char', 'Daniels', 'Bangers', 'felt', 'Tips', 'Baconator', 'cakesickles', 'Meatloaf', 'Literal', 'Fillet', 'Rolled', 'Long', 'Short', 'Paczi', 'is![homemade', 'Nakji', 'Talong', 'Homemade]Seafood', 'A', 'Niu', 'Thinly', 'Melon', 'These', 'Pops', 'Bombs', 'Roses', 'Toufu', 'Croissants', 'Banh', 'Smashburgers', 'Meringue', 'Drunk', 'Woo', 'Shake', 'Bo', 'Chiksilog', 'Sping', 'Korea', 'Guanciale', 'Fruit', 'Norman', 'Seasoned', 'Dish', 'Gooey', 'homemade]A', 'stands', 'Homemade]Chicken', 'Dot', 'Kräuterbutterbaguette', 'flavored', 'likes', 'Lasagna', 'Tongue', 'Saba', 'Huevos', 'crunchies', 'Alvin', 'reds', 'Center', 'Barbacoa', 'Chiffon', 'Gruyere', 'Ages', 'Poivre', 'Kaiser', 'Jalapeno', 'consisting', 'Brussel', 'Fifteens', 'grandparents', 'BLT', 'Casual', 'perfumed', 'Hoi', 'Azifa', 'Raspberry', 'Sprouts', 'Baby', 'Slabs', 'Quick', 'Legumes', 'Sausage', 'Hour', 'Stroganoff', 'Bœuf', 'coldsmoked', 'Omelett', 'Bologna', 'Louis', 'From', 'Cod', 'Omurice', 'Tsos', 'Muscles', 'curried', 'Baguette', 'Philadelphia', 'Pav', 'Pomegranate', 'Giant', 'Liege', 'Mascarpone', 'Tagine', 'Durian', 'Shallot', 'Accompanied', 'Mama', 'drizzled', 'Panda', 'Bet', 'Refried', 'Kombucha', 'Kombu', 'Moo', 'Squid', 'Bundtinis', 'Icing', 'Porksilog', 'hallacas', 'Kalamatas', 'Escalope', 'Pico', 'Devoured', 'BIGGEST', 'Ox', 'Style', 'Home', 'Guittard', 'Majestic', 'Picasso', 'got', 'Spain', 'Sarma', 'Fan', 'Malfouf', 'y.o', 'Corndog', 'Pub', 'Thick', 'Homemade]BEC', 'Dungeness', 'Satay', 'Sandwiches', 'prepared', 'Produce', 'Galette', 'Appetit', 'Lacto', 'lobsters', 'Cooking', 'Pontchartrain', 'Dry', 'playing', 'Poppy', 'Pirogi', 'Farro', 'Bean', 'Confetti', 'battered', 'Pasta', 'Iron', 'Chantilly', 'Northern', 'pressed', 'Grain', 'Crinkly', 'Strudel', 'Tiger', 'Popcorn', 'Tribute', 'Bourekas', 'Gigi', 'Perfectly', 'Assorted', 'Ram', 'n’t', 'being', 'JUICE', 'SFAH', 'Lettuce', 'flaxseeds', 'Special', 'Peanut', 'Delight', 'Herbed', 'Tortang', 'Mozarella', 'knots', 'King', 'BF', 'Pita', '+', 'Lion', 'Taylor', 'Rochester', 'Cup', 'BA', 'Announcing', 'Curd', 'Umami', 'Koftas', 'Cotta', 'Eggplant', 'Sous', '\\\\^n^/', 'Ran', 'CAKE', 'Scallops', 'Texas', 'Hotdogs', 'toasts', 'Honey', 'Cakesicles', 'Muffuletta', 'springs', 'Southern', 'Chilean', 'Đuveč', 'Sex', 'blubes', 'Cookies', 'Sourdough', 'Cilantro', 'Julia', 'tips', 'Snickerdoodles', 'Patty', 'FRUITY', 'Briam', 'grated', 'Noods', 'pieces', 'Espresso', 'Ssäm', 'Subs', 'Toffee', 'Jet', 'Challah', 'Prime', 'Fermented', 'Immokalee', 'chiles', 'Venison', 'Brisket', 'Nigerian', 'Yum', 'calzones', 'Rosemary', 'Couscous', 'Sweet', 'Flour', 'Tomyum', 'Powdered', 'Warm', 'Funfetti', 'flatbreads', 'Khinkali', 'Tex', 'wing(s', 'Salmon', 'AGAIN', 'Cupcake', 'ate]Peanut', 'Sugar', 'pretzels', 'Cupcakes', 'homemade]Miso', 'Rangoon', 'Jerk', 'Homemade]hot', 'Nero', 'Geschnetzeltes', 'Pretty', 'Paprika', 'Meaty', 'Cerdo', 'Salty', 'Kimchi', 'Conyers', 'Samoa', 'MOFO', 'food(breakfast', 'Bonus', 'Breaking', 'briquettes', 'Myungrang', 'OC', 'Ghost', 'Lasagne', 'Chana', 'pierogies', 'Basmati', 'croffles', 'Midas-', 'Bros', 'Glutinous', 'Chae', 'Guac', 'Vinegar', 'Bred', 'Steak', 'Outage', 'Shiny', 'scalloped', 'Earth', 'Goreng', 'Fagioli', 'Flaxseed', 'So', 'plantains', 'Pecans', 'Tortilenni', 'browned', 'Moscow', 'Bitterballen', 'Hamantashen', 'Jambalaya', 'Wood', 'tossed', 'slivered', 'Plate', 'Pizzeria', 'Wat', 'Steamed', 'Spouse', 'Verdes', 'homemade]Chicken', 'Culver', 'filled', 'Stewed', 'Fudgy', 'Paranthas', 'Omelet', 'Mouse', 'Cast', 'Ginger', 'Hashbrowns', 'Edible', 'Breasts', 'calories', 'Reel', 'Ube', 'Croissant', 'Seeds', 'Norma', 'Chicago', 'Oklahoma', 'Bourbon', 'appearances', 'Takis', 'Kagoshima', 'made', 'Salt', 'Homemade]Pulled', 'crinkles', 'Musubi', 'Both', 'Cookie', 'Letter', 'BAKED', 'Fortress', 'Homemade]Shrimp', 'Tip', 'conchas', 'Gao', 'Mo', 'Bristol', 'rice[homemade', 'Cow', 'Lopsided', 'Homemade]Smoked', 'Dressed', 'Vermicelli', 'Cedar', 'leeks', 'Garbage', 'Cafe', 'Nepali', 'Bay', 'Mazesoba', 'ai', 'Birria', 'Czech', 'Jelly', '(;', 'Jamie', 'Kalò', 'Part', 'ASAP', 'Pupcake', 'Macroni', 'did', 'Making', '...', 'Waffles', 'garnished', 'Dang', 'Layer', 'Crusted', 'galettes', 'blueberries', 'Mint', 'Lunch', 'dipped', 'Kalua', 'easier', 'smokes', 'Coppa', 'Gnocchis', 'Benidict', 'trials', 'Instant', 'Pastor', 'seasons', 'Picanha', 'Choi', 'Bul', 'Georgian', 'Sapin', 'Kabab', 'Citrus', 'Driver', 'Kaiseki', 'Slab', 'Island', 'Tons', 'Frenched', 'Slow', 'Cole', 'Mexican', 'Charlie', 'Palow', 'Go', 'condensed', 'Spritz', 'fishsticks', 'Fancy', 'flavors', 'Bob', 'Quinoa', 'Paczki', 'Dublin', 'Wagyu', 'peanuts', 'Hokkaido', 'Chessboard', 'homemade]Pork', 'Baje', 'moved', 'Morel', 'Chips', 'Aloo', 'Grass', 'Calamar', 'times', 'Aux', 'Lagavulin', 'Supreme', 'Hearts', 'Popeye', 'Original', 'Totally', 'Brötchen', 'Napa', 'Jaegerschnitzel', 'Habañero', 'Cavolo', 'Quarter', 'Cornish', 'Mustard', 'Coleslaw', 'Laziji', 'Dabble', 'Bún', 'Napoli', 'Camaron', 'Fingerling', 'Wakame', 'Checkerboard', 'Monterey', 'turtles', 'Lazi', 'homemade]Tried', 'Leche', 'LT', 'Champagne', 'Version', 'Anaheim', 'Sweden', 'Croutons', 'Shrimp', 'Porridge', 'ATE]A', 'Good', 'Chunky', 'BLART', 'Stuff', 'needs', 'Pain', 'Caviar', 'Diane', 'Spongecake', 'Cholula', 'Mocha', 'Truffles', 'Sui', 'leches', 'NYTimes', 'S’erbuzzu', 'Corn', 'Beet', 'curds', 'Kitty', 'Poke', 'Braided', 'Pastrami', 'Jicama', 'PepperJack', 'Taco', 'Legs', 'Milkybar', 'Fish', 'Swordfish', 'Bourgignon', 'Thumbprint', '\"', 'Huat', 'Tarts', 'OREO', 'Casserole', 'homemade]cake', 'Bucatini', 'Etouffee', 'OVEN', 'Thin', 'Hasselback', 'Steam', 'homemade]gnocchi', 'Loin', 'Currywurst', 'shown', 'Gingerbread', 'Parm', 'Preparado', 'paired', 'Using', 'Antonio', 'Party', 'Froggy', 'NM', 'Upside', 'Tenderloin', 'Brazilian', 'Wedgie', 'Poppyseed', 'Japchae--', 'Tagliatelle', 'used', 'tamales', 'pictures', 'UK', 'Laksa', 'Copycat', 'artichokes', 'Bird', 'boards', 'Chop', 'errors', 'Crumbed', 'topped', 'For', 'Kimbap', 'Me', 'Pulpo', 'Madame', 'Supercharged', 'Cardamom', 'Chelsea', 'finished', 'Egg', 'honeyed', 'Days', 'potats', 'Oil', 'Berry', 'Oreo', 'known', 'torched', 'Genoese', 'Japchae', 'Maine', 'Eastern', 'Best', 'Soleil', 'Double', 'Super', \"'ve\", 'Club', 'ALl', 'samplers', 'Mason', 'Space', 'Budae', 'stacked', 'Tamago', 'pending', 'crackers', 'NOLA', 'Mango', 'Emmentaler', 'Covered', 'Berner', 'Fluffy', 'Ribs', 'Thing', 'Macaroni', 'Samoas', 'Base', 'Würste', 'Chunk', 'indian.esque', 'meringues', 'mac&cheese', 'Nacho', 'scraped', 'Trini', 'hazelnuts', 'Il', '3-vinegar', 'Aglio', 'Tempura', 'Faham', 'Milk', 'Crunchwraps', 'Dome', 'Old', 'ETHIOPIAN', 'Pounder', 'Grits', 'Smelt', 'Pan', 'pasties', 'Boat', 'Personal', 'Pierogis', 'Raised', 'Rum', 'Ooni', 'Burgers', 'Chilies', 'Feast', 'Seabass', 'Amann', 'cutest', 'Dobos', 'Head', 'City', 'Spring', 'Series', 'Babka', 'Q', 'Katsu', 'We', 'Fettuccine', 'Tombs', \"'m\", 'Slice', 'Chef', 'Ancho', 'Paninis', 'Pho', 'Meatballs/', 'Half', 'Elote', 'Winter', 'Edge', 'Rib', 'Bars', ',', 'Cabbage', 'burned', 'Palitaw', 'Vegemite', 'Chees', 'Kueh', 'Indonesian', 'Panna', 'Decker', 'Yeast', 'RE', 'His', 'Scallion', 'Folded', 'Crack', 'Heaven', 'Avo', 'Love', 'Wordplay', 'links', 'An', 'Boston', 'daughters', 'Jersey', 'Bloomer', 'Skrimp', 'Shrettuce', 'Cut', 'Entremet', 'Beauty', 'Another', 'Panner', 'Balinese', 'Wholewheat', 'Ad', 'Margarita', 'Slices', 'businesses', 'Yam', 'Spumoni', 'Swedish', 'Panko', 'Branston', 'Gaegogi', 'pounded', 'Trifle', 'Atlantic', 'Bread', 'Chillox', 'Loaf', 'PEANUT', 'Doogè', 'Fettucinne', 'Kingfish', 'McGangbang', 'Italy', 'XXL', 'Polish', 'Niao', 'Alkaline', 'Genovese', 'London', 'Skewers', 'Singapour', 'Tangy', 'Tahitian', 'When', 'flaming', 'Sumac', 'Lebkuchen', 'mushroms', 'Deep', 'Homemade', 'Latkes', 'Tavern', 'curing', 'Hanger', 'Krispy', 'Candle', 'Gochujang', 'bubbles', 'Pok', 'Toaster', 'BQQ', 'Marrow', '1.25', 'Pepperoni+', 'Nigiri', 'Baozi', 'pones', 'Veg', 'Chongqing', 'Lao', 'Ciabatta', 'Egyptian', '3-meat', 'Hamentaschen', 'V', 'Cannoli', 'homemade]Roasted', 'Crepes', 'hiding', 'Macarons', 'Fusion', 'Emmer', 'Upma', 'Sikh', 'Connecticut', 'Jamaican', 'SPICY', 'Bar', 'Maharaja', 'Argentine', 'sprinkles', 'Sopranos', 'Toscana', 'Shramp', 'Bone', 'Buttermilk', 'Rican', 'Gemüsespieße', 'Banyan', 'Oooops', 'greatest', \"Za'ater\", 'Filipino', 'Golden', 'Pilau', 'flakes', 'Homemade]Beef', 'Pineapple', 'Tteok', 'Ossobucco', 'Unauthentic', 'Star', 'Sun', 'Tator', 'Ziti', 'Sopapilla', 'Teriyaki', 'Nuts', 'Porc', 'Yakisoba', 'Gummies', 'Petit', 'Branzino', 'Condensed', 'cubed', 'Surprised', 'Ate]Three', 'Crackling', 'Neopolatin', 'Instagram', 'Mickey', 'Hainanese', 'Full', 'Bible', 'Nathan', 'Encendido', 'Cai', 'Terry', 'gyros', 'Spanish', 'Sloppy', 'Bulgarian', 'Cucina', 'Macadamia', 'Homemade]-', 'Cacciatore', 'Fry', 'rods', 'HomeMade', 'Bass', 'XO', 'Pad', 'SOURDOUGH', 'PB&J', 'Raita', 'Walnut', 'Sega', 'Paratha', 'Boner', 'Gulab', 'Chang', 'Fat', 'Shoyu', 'Os', 'Sear', 'Habenero', 'Bulgogi', 'Lagman', 'Hashbrown', 'Pajeon', 'Mackerel', 'Slaw', 'Let', 'Gomen', 'Potted', 'African', 'Handmade', 'Wisconsin', 'Fresh', '<3', 'Rabdi', 'Mayonnaise', 'Mofongo', 'Leaves', 'Juice', 'Pappardelle', 'Rangoons', 'Momos', 'Ala', 'Southeast', 'kumquats', 'Take', 'Pomfret', 'Kartoffelknödel', 'Yes', 'homemade]Hamburger', 'It', 'Mom', 'Remoulade', 'Beginner', 'Cornichons', 'Lobster', 'Goat', 'Claw', 'Made', 'Kraft', 'Tzatziki', 'Doubt', 'Broiled', 'Ring', 'Kocchi', 'Thit', 'Couple', 'Truffle', 'Velveeta', 'Crackle', 'Nesting', 'Suan', 'Gyudon', 'Rabbit', 'Flammkuche', 'Prosciutto', \"'\", 'Nabe', 'P', 'Spaetzle', 'Ground', 'Ruskie', 'Levels', 'gets', 'Tuesday', 'Ice', 'Shredded', 'Cantonese', '72-Hour', 'Faworki', 'Tonkotsu', 'Sichuan', 'Chorizo', 'Marinaded', 'Tot', 'Chowder', 'Beets', '.', 'Mozzarella/', 'canteens', 'Ballpark', 'Chickpea', 'Ndjua', 'Bulgur', '....', 'Arancini', 'Sandwitch', 'Frikase', 'Heirloom', 'Fries', 'Shepards', 'Galaxy', 'Alfredo', 'shavings', 'Paczki-', 'Blast', 'painted', 'Potatos', 'Sriracha', 'Express', 'Introducing', 'Kao', 'Onions', 'Homemade]Steamed', 'Topfen', 'Dark', 'Flambéed', 'Tortillas', 'Basque', 'Twisted', 'Ate', 'were', 'Mao', 'Homemade]Peeled', 'Wine', 'Quesadilla', 'homemade](15yrs', 'Sizzling', 'S.', 'All', 'Different', 'Burrito', 'tots', 'Hotteok', 'Offal', 'Yukon', 'Country', 'Crullers', 'Sausages', 'Sauce', 'Filetes', 'Kung', 'almonds', 'Freshly', 'Prawns', 'Beetroot', 'Neapolitan', 'Sunny', 'Tequila', 'Sake', 'Tres', 'Donburi', 'Puddings', 'Malar', 'Homemade]Mushroom', 'Mesquite', 'Leftover', \"n't\", 'HOMEMADE', 'Norwegian', 'Lamingtons', 'Pickles', 'Better', 'getting', '5-Day', 'Jia', 'Hearty', 'ATE', 'Filets', 'Butterfly', 'Buttercream', 'RIbs', 'Cannolis', 'Halo', 'Slovak', 'Cacio', 'Gemelli', 'Relish', 'Shrimps', 'Kababs', 'Brûlée', 'Ragu', 'Shaped', 'Anglaise', '/', 'posted', 'Omellette', 'ized', 'Pancetta', 'lentils', 'ChiMec', 'Cubano', 'BEAST', 'Galbi', 'Salpicao', 'X', 'earlier', 'Toasties', 'Shortbread', 'MB', 'Down', 'Hubei', 'Fraiche', 'Brown', 'Too', 'Grapefruit', 'Mille', 'Turkey', 'Pizzzzzzaaaaaa', 'Preparing', 'HK', 'Please', 'Biryani', 'Emmental', 'Moroccan', 'Schnitzel', 'Water', 'Maple', 'Cognac', 'Fitzgerald', 'Longannisa', 'Gohan', 'Lentil', 'Date', 'Burnt', 'Tenders', 'Shrove', 'Quesusdillia', 'Enhanced', 'White', 'Lan', 'Kiruna', 'Mie', 'Meal', 'breadcrumbs', 'Salads', 'coming', 'CheeseBurgers', 'drooling', 'Amsterdam', 'Bingsoo', 'Gallo', 'homemade]bacon', 'Homemade]Chocolate', 'things', 'Was', 'sweets', 'Kimchijeon', 'Shahi', 'Shoulder', 'Aged', 'Wave', 'Triangle', 'Burrata', 'Nugget', 'Sliced', 'Bento', 'Shaggy', 'Ropa', 'guests', 'Pancake', 'Jap', 'Patties', 'pictured', 'NZ', 'Homemade]Buttermilk', 'Gorgonzola', 'Smoke', 'Tuscan', 'Homemade]Steak', 'Stacks', 'hidden', 'Bee', 'Melting', 'Bolognese', 'Mochinut', 'pikelets', 'Defined', 'Thyme', 'Sardines', 'Milky', 'Gnochhi', 'Nys', 'Rolls', 'Ugly', 'Artos', 'Cordon', 'Galaktoboureko', 'Keller', 'Nuclear', 'Muenster', 'grains', 'Wheel', 'Nuggets', 'Bisque', 'Iraqi', 'Fettisdagen', 'Hopefully', 'Weber', 'Sicilian', 'Single', 'Combo', 'Sandwich', 'Bbq', 'Nonna', 'Fajita', 'Crunchy', 'Hash', 'Caramel', 'Stoofvlees', 'Rinderrouladen', 'Puree', 'snapping', 'Mulberry', 'Colby', 'Dog', 'McGriddle', 'Rocky', 'Cracked', 'Cheeses', 'Eggs', 'Ruffle', 'Gourmet', 'Bibimbap', 'Nashville', 'Rock', 'Plates', 'flours', 'Jalapeños', 'Leftovers', 'Pastry', 'featuring', 'Ham', 'Mash', 'Bao', 'Hungarian', 'changed', 'Homemade]Yaka', 'Houston', 'Screw', 'hers', 'Cassoulet', 'Butternut', 'HOKKAIDO', 'M.L.T.', 'Schwarma', 'Amarone', 'The', 'Vietnamese', 'Einkorn', 'Mid', 'Homemade]Ube', 'Kim', 'Molokai', 'loved', 'Arbol', 'Kiymali', 'DIY', 'Nian', 'Dak', 'Wontons', 'Gouda', 'Golumpki', 'Bunny', 'Brownie', 'Goey', 'drank', 'Hanetsuki', 'Hoisin', 'Fromage', 'Wrap', 'Thomas', 'Baos', 'Pesto', 'Bánh', 'Tomahawk', 'Rabo', 'Gua', 'cracklings', 'Mauritian', 'Cabane', 'Gold', 'fondants', 'Berkshire', 'Homemade]Ribeye', 'Spiciness', 'Nigori', 'Individual', 'Pershing', 'Homemade]Enoki', 'Armenian', 'Borgers', 'Cider', 'Blackened', 'Jim', 'shells', 'cutlets', 'Biga', 'Russian', 'sorts', 'Taiwan', 'Tofu', 'Buko', 'Ketchup', 'Daikon', 'Hella', 'including', 'Wild', 'Togue', 'Fridays', 'Samphire', 'beginnings', 'Tabasco', 'Garden', 'Spareribs', 'Macaroons', 'Dominican', 'Singapore', 'Monde', 'Meatballs', 'Mi', 'veges', 'Brisket-', 'Mac', 'Spaghetti', 'Almond', 'homemade]Rabbit', 'Loaves', 'Brined', 'Whipped', 'Thịt', 'Juicy', 'Inspired', 'Fosters', 'Thought', 'Dipping', 'Coulis', 'Lox', 'Opera', 'Apricot', 'members', 'Cashew', 'Taiwanese', 'Ooey', 'Longaniza', '16-hour', 'Lomo', 'Molten', 'Gravlax', 'Flan', 'Tunisian', 'Bab', 'Pine', 'sculpted', 'Oriental', 'Turtle', 'Grandmas', 'treats', 'Reddit', 'slabs', 'Creole', 'cheesesteaks', 'Tilapia', 'Sirloin', 'fillets', 'Clams', 'places', 'Bowls', 'Chitarra', 'Yo', 'laced', 'Tandoori', 'becomes', 'Blue', 'Poisson', 'Lahmajoun', 'Frank', 'Oats', 'Xao', 'Dossa', 'Peppered', 'Hotel', 'Khachapuri', 'Pancit', 'Imperial', 'Benny', 'somen', 'flavoured', 'Saraya', 'Rosa', 'Grilling', 'Brulee', 'Filled', 'Dips', 'Celebrating', 'homemade]Sesame', 'Ponzu', 'piped', 'British', 'Chuck', 'Protein', 'Kenji', 'Achcharu', 'Pep', 'Relleno', 'cheated', 'forgot', 'milkshakes', 'crumbles', 'Souvlaki', 'T', 'Karahi', 'Cafeteria', 'Scones', 'Boats', 'Wraps', 'Kofta', 'homemade]Bacon', 'Cob', 'IPA', 'Ipswich', 'Solyanka', 'Taquitos', 'Zinger', 'Colada', 'Wellington', 'Mary', 'cranberries', 'Bueno', 'Raw', 'Watercress', 'Basa', 'Tostadas', 'Borek', 'Walnuts', '’m', 'Toad', 'gems', 'Twix', 'chef]meat', 'Breakfast', 'Buckeye', 'Shichimi', 'bons', 'Charcuterie', 'Place', 'shaved', 'Whole', 'Elk', 'Cambozola', 'Thomahawk', 'Onomichi', 'Belly', 'Parmigiana', 'Boil', 'Minecraft', 'Picadillo', 'Jajangmyeon', 'Mommade', 'Temaki', 'Sheets', 'COVID', 'Borekas', 'Sour', 'Tater', 'Valentine', 'Pro', 'Shakshuka', 'Seed', 'Zereshk', 'contains', 'Dutch', 'Dose', 'maduros', 'La', 'Soufflé', 'Californian', 'Glazed', 'Homemade]Sourdough', 'Butter', 'Neighborhood', 'Cobbler', 'Strips', 'Cioppino', 'Chic', 'Vong', 'AfricanFoods_Lead', 'Mornay', 'Francese', 'Fattoush', 'homemade]Chickpea', 'B', 'homemade]Grilled', 'Sparkling', 'IndianFoodPhotos', 'Philly', 'Beans', 'In', 'Doubled', 'homemade]Ragù', 'Tails', 'S', 'Btw', 'Apartment', 'Mini', 'Pistachio', 'Rahmschnitzel', 'miners', 'Cheeseburger', 'Brussels', 'Wheat', 'Finch', 'On', 'Rosewater', 'Gjetost', 'Mochi', 'Tumeric', 'Yellow', 'Japanese', 'Linzer', 'Pommes', 'Butterburger', 'Wrapped', 'began', 'Medium', 'Hibiscus', 'Zest', 'Not', 'Including', 'Kha', 'threes!ster', 'Feuilletée', 'Boterkoek', 'Mandalorian', 'Krapfen', 'Porterhouse', 'Yorkshire', 'Pudding', 'Woodfired', 'PRO', 'Ca', 'Ronto', 'Cherokee', 'Decorated', 'Fudgey', 'Dan', 'Calamari', 'Also', 'Cashews', 'steps', 'Gyozas', 'Panini', 'York', 'Breadstick', 'Cart', 'Cherry', 'Dumplings', 'Reuben', 'Eclair', 'Konjac', 'spoonfuls', 'Minestrone', 'Crevettes', 'Lebanese', 'Berber', 'Dolsot', 'Dried', 'Kaprao', 'Cheeseboard', 'Sadhya', 'marinades', 'Gateau', 'Monster', 'Butthole', 'Biscuits', 'Shiro', 'Massive', 'cherries', 'Grey', 'Cesar', 'Peruvian', 'Cake', '--', \"l'envers\", 'Asparagus', 'Panfried', 'Fideo', 'Merguez', 'Quesadillas', 'Magnolia', 'Bibim', 'Homemade]Spicy', 'plums', 'cuts', 'Pockets', 'Scrambled', 'Plum', 'Cosmopolitan', 'Cakebites', 'VietCajun', 'Huli', 'Cinnamon', 'Airfried', 'Sad', 'Homemade]Roast', 'Jus', 'Chile', 'Shepherds', 'Caveman', 'Cured', 'Kabobs', 'Madeleines', 'Goli', 'Pretzals', 'Sam', 'Conecuh', 'Day', 'Tteokbokki', 'homemade]Lavender', 'Otoro', 'Bouquet', 'Montblanc', 'Aunt', 'Sri', 'ate]Ricobene', 'Oaxaca', 'Homemade]Chinese', 'Cone', 'Pigskin', 'Snickers', 'Patatje', 'Sunset', 'Chirashi', 'Kanelbullar', 'Chicharrón', 'Oregano', 'Dal', 'Lots', 'Pokéworks', 'Orange', 'Bulgolgi', 'Australia', 'Primo', 'Rub', 'volcanoes', 'Chops', 'Cotto', 'Fennel', 'Little', 'Stuffing', 'finest', 'delivered', 'Desert', 'Tiramisu', 'Cowboy', 'Yock', 'Salade', 'Tinga', 'Cheesecake', 'Sambal', 'served', 'Courtesy', 'Legos', 'Rhubarb', 'Umut', 'Regular', 'Clare', 'Taffy', 'Dum', 'Hamachi', 'croquettes', 'Chinatown', 'Barbequed', 'blondies', 'Le', 'Homemade]Welsh', 'Platter', 'Would', 'Baconburger', 'Bakewell', 'Yogurt', 'Brie', 'Smorgasbord', 'Peking', 'Turon', 'USDA', 'Bulgaria', 'Meat', 'Kibbeh', 'Togarashi', 'Szechuan', 'Portobello', 'Mignon', '13.5', 'Traditional', 'Gnocchi', 'Leg', 'Nanaimo', 'SMOTHERED', 'Scampi', 'Falafel', 'Stack', 'Lent', 'Samosas', 'Hummingbird', 'Salad', 'Whip', 'Hollandaise', 'Shoots', 'Bruschetta', 'casing', 'Layered', 'Crustless', 'feet', 'Tori', 'Bottom', 'Provolone', 'Canelé', 'Bundt', 'Squash', 'am', 'Campechana', 'Fraisier', 'Kitfo', 'Thread', 'Twinkies', 'Local', 'S&G.', 'Frito', 'Passion', 'Vesuvio', 'Potatoes', 'Katharos', 'Jiaozi', 'Miso', 'Fondant', 'San', 'Southwest', 'Cukes', 'Cannabutter', 'Pilaf', 'Jiggly', 'Lava', 'hits', 'Mushroom', 'Black', 'Puff', 'Blood', 'Keroppi', 'Toscano', 'Uni', 'Bò', '3-cheese', 'Someone', 'Veggies', 'Video', 'Sopressata', 'Chilli', 'Saffron', 'Cape', 'Ramen', 'Medovik', 'Biscuit', 'foods', 'Glacier', 'Tikka', 'Buffalo', 'Keesh', 'Mex', 'Cucumber', 'Orzo', 'Claypot', 'Sunday', 'Chopped', 'cheeks', 'MSG', 'homemade]Green', 'Linguine', 'Dip', 'related', '“', 'Dishes', '@', 'CHEF', 'Marinade', 'Kouign', 'Oven', 'Smashed', 'Getting', 'Oysters', 'grapes', 'Rotini', 'Medica', 'Ethiopian', 'Melty', 'Candied', 'Sunflower', 'Forest', 'Pretzels', 'CARBONARA', 'Havarti', 'P.S.', 'Summer', 'Udon', 'Cooker', 'Mansagna', 'Loco', 'Turf', 'Tonkatsu', 'Biriyani', 'Guacamole', 'Limone', 'England', 'Homemade]Pork', 'Rustic', 'Quesabirria', 'Goulash', 'Yucatecan', 'dunked', 'Artichoke', 'vegs', 'Successful', 'Some', 'Worth', 'Bianco', 'Palabok', 'Blend', 'Pot', 'Birds', 'Bouillabaisse', 'Asiago', \"S'mores\", 'macrons', 'Pumpkin', 'Fingers', 'pearls', 'Spinach', 'Attack', 'Po', 'Croquetas', 'Caribbean', 'Albuquerque', 'Ahi', 'No', 'Sage', 'Salsa', 'Melt', 'Chow', 'Mirror', 'Sale', 'Noodles', 'Sauced', 'Gimbap', 'CREEKSTONE', 'Alphonso', 'Bell', 'Dragon', 'Burre', 'Jjamppong', 'TIKKA', 'Port', 'came', 'Spinat', 'Find', 'Buns', 'Turkish', 'Aish', 'Of', 'is', 'Olio', 'brushed', 'Smore', 'letters', 'Sichuanese', 'Kailan', 'Joes', 'Lean', 'Yak', 'What', 'Koi', 'stretched', 'TUTTI', 'Mayak', 'Clementine', 'Choco', 'Sakura', 'Lankan', 'Mud', 'NO', 'Doughnut', 'Blanket', 'Box', 'Hours', 'Kitakata', 'Pancakes', 'bricked', 'Vodka', 'Cremini', 'Pulled', 'Ricotta', 'Came', 'Jam/8', 'Whiz', 'Burritos', 'Rotisserie', 'chef]Tortellini', 'Mapo', 'Bake', 'Kunafa', 'ate]homemade', 'Section', 'Homemade]Cauliflower', 'Floral', 'Sorry', 'Shawarma', 'Pig', 'Gift', 'Hoagie', 'Sub', 'Reverse', 'Surf', '~', 'Spicey', 'Naan', 'Bow', 'Liège', 'Penne', 'Pathia', 'Motzerella', 'Goan', 'failed', 'Olives', 'Tailgate', 'Chocolate', 'Pork', 'Mix', 'Deboned', 'Chocolates', 'Sardinian', 'Gambino', 'Muffins', 'Pecan', 'Peas', 'Snapper', 'Khao', 'Pave', 'Chinese', 'Vindaloo', 'Consommé', 'Lumpfish', 'Parsley', 'Pastelillos', 'games', 'Lobsta', 'Greens', 'National', 'sharing', 'Rich', 'Add', 'tried', 'Pie', 'Marmalade', 'Churros', 'Gata', 'Iclandic', 'Yuca', 'Puttanesca', 'Jasmine', 'Chestnut', 'Ham&Jalapeno', 'Vieja', 'Cold', 'Halva', 'Years', 'Lab', '*', 'soaked', 'Al', 'A5', 'Homemade]Barbecue', 'Potatoe', 'Truffled', 'Purim', 'Alcapone', 'Rosé', 'Chashu', 'Savina', 'Moqueca', 'figs', 'Empanadas', 'Oak', 'Berries', 'Got', 'Flemish', 'Nougat', 'bought', 'Fudge', 'Stone', 'Back', 'Three', 'Bibimbaps', 'Confit', 'cucumbers', 'Leftoevers', 'Takoyaki', 'Ultimate', 'Monte', 'Manakish', 'Chiang', 'Iranian', 'Balls', 'Chocoflan', 'Baklava', 'Crunch', 'Homemade]-Bolognese', 'Pink', 'Rice', 'Deviled', 'Triple', 'Fryday', 'My', 'Roasted', 'ribeyes', 'spears', 'Cristo', 'Wing', 'Homemade]Garlic', 'Extra', 'Kashmiri', 'Roulade', 'pebbles', 'Mandi', 'Raisin', 'Flower', 'Sauces', 'gon', 'tarts', 'Tuna', 'Simple', 'Chicken', 'Baguettes', 'Mian', 'Valentines', 'Tom', 'bones', 'Tortilla', 'Brûlée', 'Beach', 'Griddled', 'Pulao', 'Tocino', 'Oorlog', 'Pit', 'doctored', 'Dijon', 'Sesame', 'Buddha', 'Friday', 'Churro', 'Baskets', 'Genoa', 'Lucky', 'Kama', 'Taro', 'Hand', 'Corndogs', 'Popeyes', 'New', 'going', 'Seared', 'Dressing', 'Glaze', 'oranges', \"L'Orange\", 'Boys', 'Mayo', 'Scorpion'}\n"
     ]
    }
   ],
   "source": [
    "## general simple preprocessing\n",
    "\n",
    "pp0.pos_tag().lemmatize().tokens_to_lowercase().remove_special_chars_in_tokens()\n",
    "\n",
    "general_vocab = pp0.vocabulary\n",
    "\n",
    "print('vocabulary size after processing: {}'.format(pp0.vocabulary_size))\n",
    "print('vocabulary, that was cut during this step:')\n",
    "print(set(old_vocab) - set(general_vocab))\n",
    "del old_vocab"
   ]
  },
  {
   "cell_type": "code",
   "execution_count": 18,
   "metadata": {},
   "outputs": [
    {
     "data": {
      "text/plain": [
       "<TMPreproc [357200 documents / en]>"
      ]
     },
     "execution_count": 18,
     "metadata": {},
     "output_type": "execute_result"
    }
   ],
   "source": [
    "## specific preprocessing\n",
    "\n",
    "pp_aggressive = pp_nouns = pp_noadditionalstopwords = pp_staticstopwords = pp_dynamicstopwords = pp0.copy()\n",
    "doc_labels = np.array(pp0.doc_labels)\n",
    "del pp0\n",
    "\n",
    "pp_dynamicstopwords.clean_tokens(remove_numbers=True, remove_shorter_than=2) \\\n",
    "    .remove_common_tokens(df_threshold=0.9) \\\n",
    "    .remove_uncommon_tokens(df_threshold=0.1)\n",
    "\n",
    "pp_nouns.filter_for_pos('N') \\\n",
    "    .add_stopwords(stop) \\\n",
    "    .clean_tokens(remove_numbers=True, remove_shorter_than=3) \\\n",
    "    .remove_common_tokens(df_threshold=0.85) \\\n",
    "    .remove_uncommon_tokens(df_threshold=0.05)\n",
    "\n",
    "pp_aggressive.filter_for_pos('N') \\\n",
    "    .add_stopwords(stop) \\\n",
    "    .clean_tokens(remove_numbers=True, remove_shorter_than=3) \\\n",
    "    .remove_common_tokens(df_threshold=0.9) \\\n",
    "    .remove_uncommon_tokens(df_threshold=0.1)"
   ]
  },
  {
   "cell_type": "code",
   "execution_count": 19,
   "metadata": {},
   "outputs": [],
   "source": [
    "#vocab\n",
    "vocab_dynamicstopwords = np.array(pp_dynamicstopwords.vocabulary)\n",
    "vocab_nouns = np.array(pp_nouns.vocabulary)\n",
    "vocab_aggressive = np.array(pp_aggressive.vocabulary)\n",
    "\n",
    "#dtm\n",
    "dtm_dynamicstopwords = pp_dynamicstopwords.dtm\n",
    "dtm_nouns = pp_nouns.dtm\n",
    "dtm_aggressive = pp_aggressive.dtm\n",
    "del pp_dynamicstopwords, pp_nouns, pp_aggressive"
   ]
  },
  {
   "cell_type": "code",
   "execution_count": 20,
   "metadata": {},
   "outputs": [
    {
     "data": {
      "text/plain": [
       "[{'n_topics': 3, 'alpha': 0.3333333333333333, 'eta': 0.084},\n",
       " {'n_topics': 4, 'alpha': 0.25, 'eta': 0.112}]"
      ]
     },
     "execution_count": 20,
     "metadata": {},
     "output_type": "execute_result"
    }
   ],
   "source": [
    "# set data and hyperparameters to be computed\n",
    "\n",
    "dtms = {\n",
    "    'model_dynamicstopwords': dtm_dynamicstopwords,\n",
    "    'model_nouns': dtm_nouns,\n",
    "    'model_aggressive': dtm_aggressive\n",
    "}\n",
    "\n",
    "# var_params = [{'n_topics': k, 'alpha': 1/k, 'eta': 0.028*k,'n_iter': 200*k} for k in range(3, 20)]\n",
    "# var_paramsas = [{'n_topics': k, 'alpha': 1/k, 'eta': 0.028*k,'n_iter': 200*k} for k in range(20, 3, -1)]\n",
    "# var_params.extend(var_paramsas)\n",
    "\n",
    "var_params = [{'n_topics': k, 'alpha': 1/k, 'eta': 0.028*k} for k in range(3, 5)]\n",
    "\n",
    "const_params = {\n",
    "    'n_iter': 1000,\n",
    "    'random_state': 69  # to make results reproducible\n",
    "}\n",
    "\n",
    "var_params"
   ]
  },
  {
   "cell_type": "code",
   "execution_count": null,
   "metadata": {},
   "outputs": [],
   "source": [
    "## compute all topic models and plot evaluation results\n",
    "\n",
    "for dtm in dtms.keys():\n",
    "    dtm_name = dtm\n",
    "    dtm = dtms[dtm]\n",
    "    \n",
    "    #print('current dtm: {}'.format(dtm))\n",
    "    \n",
    "    eval_results = evaluate_topic_models(dtm,\n",
    "                                        varying_parameters=var_params,\n",
    "                                        constant_parameters=const_params,\n",
    "                                        return_models=False)\n",
    "\n",
    "    print('plotting...')\n",
    "    \n",
    "    eval_results_by_topics = results_by_parameter(eval_results, 'n_topics')\n",
    "    plot_eval_results(eval_results_by_topics, xaxislabel=dtm_name + ' | n_topics');\n",
    "    \n",
    "\n",
    "    eval_results_by_topics = results_by_parameter(eval_results, 'n_iter')\n",
    "    plot_eval_results(eval_results_by_topics, xaxislabel=dtm_name + ' | n_iter');\n",
    "    \n",
    "\n",
    "    eval_results_by_topics = results_by_parameter(eval_results, 'alpha')\n",
    "    plot_eval_results(eval_results_by_topics, xaxislabel=dtm_name + ' | alpha');\n",
    "    \n",
    "\n",
    "    eval_results_by_topics = results_by_parameter(eval_results, 'eta')\n",
    "    plot_eval_results(eval_results_by_topics, xaxislabel=dtm_name + ' | eta');\n",
    "\n",
    "    print('{} done - waiting for plots'.format(dtm_name))"
   ]
  },
  {
   "cell_type": "markdown",
   "metadata": {},
   "source": [
    "### Model Selection"
   ]
  },
  {
   "cell_type": "code",
   "execution_count": null,
   "metadata": {},
   "outputs": [],
   "source": [
    "# ## best parameter sets for our different dtms \n",
    "# '''\n",
    "\n",
    "# --- notes ---\n",
    "# alpha: per document topic distribution (higher)\n",
    "# eta: per topic word distribution (lower)\n",
    "\n",
    "# '''\n",
    "# # select dtm for following steps \n",
    "# dtm = dtms['model_staticstopwords']\n",
    "# vocab = vocab_staticstopwords\n",
    "# print('selected model removed the following vocabulary:')\n",
    "# print(set(general_vocab) - set(vocab))\n",
    "# #del general_vocab, dtms"
   ]
  },
  {
   "cell_type": "code",
   "execution_count": null,
   "metadata": {},
   "outputs": [],
   "source": [
    "# # recompute chosen model\n",
    "# from tmtoolkit.topicmod.tm_lda import compute_models_parallel\n",
    "\n",
    "# topicn = 10\n",
    "\n",
    "# lda_params = {\n",
    "#     'n_topics': topicn,\n",
    "#     'n_iter': 3750,\n",
    "#     'alpha': 0.1,\n",
    "#     'eta': 0.5,\n",
    "#     'random_state': 20200701\n",
    "# }\n",
    "\n",
    "# model = compute_models_parallel(dtm, constant_parameters=lda_params)\n",
    "# model"
   ]
  },
  {
   "cell_type": "code",
   "execution_count": null,
   "metadata": {},
   "outputs": [],
   "source": [
    "# ## select model from nested list\n",
    "\n",
    "# model = model[0][1]\n",
    "# model"
   ]
  },
  {
   "cell_type": "code",
   "execution_count": null,
   "metadata": {},
   "outputs": [],
   "source": [
    "# ## naming topics\n",
    "# ## most 'important' topics for the whole corpus determined by the marginal topic distribution\n",
    "# ## many more options to have a look into topics\n",
    "\n",
    "# doc_lengths = doc_lengths(dtm)\n",
    "# topic_labels = generate_topic_labels_from_top_words(\n",
    "#     model.topic_word_,\n",
    "#     model.doc_topic_,\n",
    "#     doc_lengths,\n",
    "#     vocab,\n",
    "#     lambda_=0.6\n",
    "# )\n",
    "\n",
    "# top_topic_word = ldamodel_top_topic_words(model.topic_word_,\n",
    "#                                           vocab,\n",
    "#                                           row_labels=topic_labels)\n",
    "\n",
    "# marg_topic = marginal_topic_distrib(model.doc_topic_, doc_lengths)\n",
    "\n",
    "# # np.argsort() gives ascending order, hence reverse via [::-1]\n",
    "# print('most important topics: \\n{}'.format(topic_labels[np.argsort(marg_topic)[::-1][:topicn]]))"
   ]
  },
  {
   "cell_type": "code",
   "execution_count": null,
   "metadata": {},
   "outputs": [],
   "source": []
  },
  {
   "cell_type": "code",
   "execution_count": null,
   "metadata": {},
   "outputs": [],
   "source": []
  },
  {
   "cell_type": "code",
   "execution_count": null,
   "metadata": {},
   "outputs": [],
   "source": []
  },
  {
   "cell_type": "code",
   "execution_count": null,
   "metadata": {},
   "outputs": [],
   "source": []
  },
  {
   "cell_type": "code",
   "execution_count": null,
   "metadata": {},
   "outputs": [],
   "source": []
  },
  {
   "cell_type": "code",
   "execution_count": null,
   "metadata": {},
   "outputs": [],
   "source": []
  }
 ],
 "metadata": {
  "kernelspec": {
   "display_name": "Python 3",
   "language": "python",
   "name": "python3"
  },
  "language_info": {
   "codemirror_mode": {
    "name": "ipython",
    "version": 3
   },
   "file_extension": ".py",
   "mimetype": "text/x-python",
   "name": "python",
   "nbconvert_exporter": "python",
   "pygments_lexer": "ipython3",
   "version": "3.7.7"
  }
 },
 "nbformat": 4,
 "nbformat_minor": 4
}
