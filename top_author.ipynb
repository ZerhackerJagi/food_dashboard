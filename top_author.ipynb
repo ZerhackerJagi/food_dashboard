{
 "cells": [
  {
   "cell_type": "code",
   "execution_count": 1,
   "metadata": {},
   "outputs": [],
   "source": [
    "import mysql.connector\n",
    "import pandas as pd\n",
    "from datetime import datetime, timedelta"
   ]
  },
  {
   "cell_type": "code",
   "execution_count": 2,
   "metadata": {},
   "outputs": [],
   "source": [
    "db_connection = mysql.connector.connect(\n",
    "  host= \"wp.jagi.wtf\",\n",
    "  user= \"redditu\",\n",
    "  password= \"redditMaster\",\n",
    "  database=\"reddit\"\n",
    "  )\n",
    "cursor = db_connection.cursor()"
   ]
  },
  {
   "cell_type": "code",
   "execution_count": 3,
   "metadata": {},
   "outputs": [],
   "source": [
    "df = pd.read_sql(\"SELECT * FROM reddit\", db_connection)"
   ]
  },
  {
   "cell_type": "code",
   "execution_count": 4,
   "metadata": {},
   "outputs": [],
   "source": [
    "df[\"day_created\"] = pd.to_datetime(df[\"day_created\"]).dt.date\n",
    "df[\"time_created\"] = pd.to_datetime(df[\"time_created\"]).dt.time\n",
    "df[\"curr_time\"] = pd.to_datetime(df[\"curr_time\"])\n",
    "\n",
    "dtstuff = df.apply(\n",
    "    lambda row: datetime.combine(row['day_created'], row['time_created']),\n",
    "    axis=1\n",
    ")\n",
    "df[\"time\"] = dtstuff\n",
    "\n",
    "df[\"time\"] = df[\"time\"] - timedelta(hours=10) # weil Jakob verkackt hat, die Daten in UTC Zeit zu speichern :(\n",
    "df[\"post_id\"] = df.agg('{0[author]}-{0[time]}'.format, axis=1) # dauert lange, ist aber wichtig"
   ]
  },
  {
   "cell_type": "code",
   "execution_count": 5,
   "metadata": {},
   "outputs": [],
   "source": [
    "df.drop(inplace = True, columns=['id', 'hour_created', 'time_created', 'day_created',\n",
    "                                 'downs', 'num_comments', 'text', 'thumbnail', 'url', 'curr_time', 'time'])\n",
    "\n",
    "df.drop_duplicates(inplace = True, subset=['post_id'])"
   ]
  },
  {
   "cell_type": "code",
   "execution_count": 6,
   "metadata": {},
   "outputs": [],
   "source": [
    "backup = df"
   ]
  },
  {
   "cell_type": "code",
   "execution_count": 7,
   "metadata": {},
   "outputs": [
    {
     "data": {
      "text/html": [
       "<div>\n",
       "<style scoped>\n",
       "    .dataframe tbody tr th:only-of-type {\n",
       "        vertical-align: middle;\n",
       "    }\n",
       "\n",
       "    .dataframe tbody tr th {\n",
       "        vertical-align: top;\n",
       "    }\n",
       "\n",
       "    .dataframe thead th {\n",
       "        text-align: right;\n",
       "    }\n",
       "</style>\n",
       "<table border=\"1\" class=\"dataframe\">\n",
       "  <thead>\n",
       "    <tr style=\"text-align: right;\">\n",
       "      <th></th>\n",
       "      <th>author</th>\n",
       "      <th>title</th>\n",
       "      <th>ups</th>\n",
       "      <th>post_id</th>\n",
       "    </tr>\n",
       "  </thead>\n",
       "  <tbody>\n",
       "    <tr>\n",
       "      <th>0</th>\n",
       "      <td>daynestxbbq</td>\n",
       "      <td>[PRO/CHEF] Texas Barbecue Platter</td>\n",
       "      <td>43666</td>\n",
       "      <td>daynestxbbq-2021-02-07 22:48:37</td>\n",
       "    </tr>\n",
       "    <tr>\n",
       "      <th>1</th>\n",
       "      <td>jojofaye</td>\n",
       "      <td>[homemade] Whole lemon cake doughnuts with whi...</td>\n",
       "      <td>2508</td>\n",
       "      <td>jojofaye-2021-02-07 17:19:56</td>\n",
       "    </tr>\n",
       "    <tr>\n",
       "      <th>2</th>\n",
       "      <td>will20566</td>\n",
       "      <td>[Homemade] Calamari</td>\n",
       "      <td>848</td>\n",
       "      <td>will20566-2021-02-07 21:18:47</td>\n",
       "    </tr>\n",
       "    <tr>\n",
       "      <th>3</th>\n",
       "      <td>aka_scoch</td>\n",
       "      <td>[homemade] raspberry cream cake covered in Legos</td>\n",
       "      <td>18446</td>\n",
       "      <td>aka_scoch-2021-02-07 08:49:38</td>\n",
       "    </tr>\n",
       "    <tr>\n",
       "      <th>4</th>\n",
       "      <td>Untoastedtoast390</td>\n",
       "      <td>[homemade] “yogurt eggs and apple fries”</td>\n",
       "      <td>1313</td>\n",
       "      <td>Untoastedtoast390-2021-02-07 18:15:36</td>\n",
       "    </tr>\n",
       "  </tbody>\n",
       "</table>\n",
       "</div>"
      ],
      "text/plain": [
       "              author                                              title  \\\n",
       "0        daynestxbbq                  [PRO/CHEF] Texas Barbecue Platter   \n",
       "1           jojofaye  [homemade] Whole lemon cake doughnuts with whi...   \n",
       "2          will20566                                [Homemade] Calamari   \n",
       "3          aka_scoch   [homemade] raspberry cream cake covered in Legos   \n",
       "4  Untoastedtoast390           [homemade] “yogurt eggs and apple fries”   \n",
       "\n",
       "     ups                                post_id  \n",
       "0  43666        daynestxbbq-2021-02-07 22:48:37  \n",
       "1   2508           jojofaye-2021-02-07 17:19:56  \n",
       "2    848          will20566-2021-02-07 21:18:47  \n",
       "3  18446          aka_scoch-2021-02-07 08:49:38  \n",
       "4   1313  Untoastedtoast390-2021-02-07 18:15:36  "
      ]
     },
     "execution_count": 7,
     "metadata": {},
     "output_type": "execute_result"
    }
   ],
   "source": [
    "df.head()"
   ]
  },
  {
   "cell_type": "markdown",
   "metadata": {},
   "source": [
    "## Top Author finden\n",
    "\n",
    "Attribut1: durchschnittliche Upvotes (möglichst hoch) [>0.9 Quantil]\n",
    "\n",
    "Attribut2: Standardabweichung (möglichst klein) [<0.1 Quantil]\n",
    "\n",
    "logische UND-Verbindung aus beiden Merkmalen und dann nachsehen, wie viele Autoren übrig bleiben. \n",
    "\n",
    "So lange das Quantil verkleinern, bis 3-10 Autoren übrig bleiben. Dann Top-Autoren ins Detail nehmen. \n",
    "\n",
    "Haben die vielleicht etwas besonderes in ihrer Bio stehen? \n",
    "\n",
    "Sind das Mods in r/food? Was sind das für Personen? Wo posten die sonst noch? Vorstellung der Charaktere\n"
   ]
  },
  {
   "cell_type": "code",
   "execution_count": 8,
   "metadata": {},
   "outputs": [],
   "source": [
    "df = backup"
   ]
  },
  {
   "cell_type": "code",
   "execution_count": 9,
   "metadata": {},
   "outputs": [],
   "source": [
    "# durchschnittliche Upvotes\n",
    "# gesamte Upvotes\n",
    "ups_total = df['ups'].groupby(df['author']).sum()\n",
    "df['ups_total'] = df['author'].map(ups_total)\n",
    "\n",
    "# Anzahl der Posts\n",
    "posts_total = df['ups'].groupby(df['author']).count()\n",
    "df['posts_total'] = df['author'].map(posts_total)\n",
    "\n",
    "# drop authors with only 1 post\n",
    "df.drop(index=df[df['posts_total'] == 1].index, inplace=True)\n",
    "\n",
    "# Durchschnittlicher Erfolg\n",
    "df['avg_ups'] = df['ups_total'] / df['posts_total']\n",
    "\n",
    "# Standardabweichung\n",
    "ups_std = df['ups'].groupby(df['author']).std()\n",
    "df['ups_std'] = df['author'].map(ups_std)"
   ]
  },
  {
   "cell_type": "code",
   "execution_count": 10,
   "metadata": {},
   "outputs": [
    {
     "data": {
      "text/html": [
       "<div>\n",
       "<style scoped>\n",
       "    .dataframe tbody tr th:only-of-type {\n",
       "        vertical-align: middle;\n",
       "    }\n",
       "\n",
       "    .dataframe tbody tr th {\n",
       "        vertical-align: top;\n",
       "    }\n",
       "\n",
       "    .dataframe thead th {\n",
       "        text-align: right;\n",
       "    }\n",
       "</style>\n",
       "<table border=\"1\" class=\"dataframe\">\n",
       "  <thead>\n",
       "    <tr style=\"text-align: right;\">\n",
       "      <th></th>\n",
       "      <th>author</th>\n",
       "      <th>title</th>\n",
       "      <th>ups</th>\n",
       "      <th>post_id</th>\n",
       "      <th>ups_total</th>\n",
       "      <th>posts_total</th>\n",
       "      <th>avg_ups</th>\n",
       "      <th>ups_std</th>\n",
       "    </tr>\n",
       "  </thead>\n",
       "  <tbody>\n",
       "    <tr>\n",
       "      <th>0</th>\n",
       "      <td>daynestxbbq</td>\n",
       "      <td>[PRO/CHEF] Texas Barbecue Platter</td>\n",
       "      <td>43666</td>\n",
       "      <td>daynestxbbq-2021-02-07 22:48:37</td>\n",
       "      <td>43685</td>\n",
       "      <td>3</td>\n",
       "      <td>14561.666667</td>\n",
       "      <td>25205.092032</td>\n",
       "    </tr>\n",
       "    <tr>\n",
       "      <th>3</th>\n",
       "      <td>aka_scoch</td>\n",
       "      <td>[homemade] raspberry cream cake covered in Legos</td>\n",
       "      <td>18446</td>\n",
       "      <td>aka_scoch-2021-02-07 08:49:38</td>\n",
       "      <td>18460</td>\n",
       "      <td>3</td>\n",
       "      <td>6153.333333</td>\n",
       "      <td>10645.761801</td>\n",
       "    </tr>\n",
       "    <tr>\n",
       "      <th>6</th>\n",
       "      <td>Sclerodermasucks17</td>\n",
       "      <td>[Homemade] Eggs and Everything</td>\n",
       "      <td>1926</td>\n",
       "      <td>Sclerodermasucks17-2021-02-07 15:52:44</td>\n",
       "      <td>2052</td>\n",
       "      <td>4</td>\n",
       "      <td>513.000000</td>\n",
       "      <td>943.192805</td>\n",
       "    </tr>\n",
       "    <tr>\n",
       "      <th>7</th>\n",
       "      <td>bachuket</td>\n",
       "      <td>[I ate] Korean corndogs!</td>\n",
       "      <td>2733</td>\n",
       "      <td>bachuket-2021-02-07 14:06:11</td>\n",
       "      <td>2773</td>\n",
       "      <td>6</td>\n",
       "      <td>462.166667</td>\n",
       "      <td>1112.479288</td>\n",
       "    </tr>\n",
       "    <tr>\n",
       "      <th>8</th>\n",
       "      <td>sugurkewbz</td>\n",
       "      <td>[HOMEMADE] Fudge brownies with dark chocolate ...</td>\n",
       "      <td>747</td>\n",
       "      <td>sugurkewbz-2021-02-07 20:25:39</td>\n",
       "      <td>1312</td>\n",
       "      <td>6</td>\n",
       "      <td>218.666667</td>\n",
       "      <td>334.255391</td>\n",
       "    </tr>\n",
       "  </tbody>\n",
       "</table>\n",
       "</div>"
      ],
      "text/plain": [
       "               author                                              title  \\\n",
       "0         daynestxbbq                  [PRO/CHEF] Texas Barbecue Platter   \n",
       "3           aka_scoch   [homemade] raspberry cream cake covered in Legos   \n",
       "6  Sclerodermasucks17                     [Homemade] Eggs and Everything   \n",
       "7            bachuket                           [I ate] Korean corndogs!   \n",
       "8          sugurkewbz  [HOMEMADE] Fudge brownies with dark chocolate ...   \n",
       "\n",
       "     ups                                 post_id  ups_total  posts_total  \\\n",
       "0  43666         daynestxbbq-2021-02-07 22:48:37      43685            3   \n",
       "3  18446           aka_scoch-2021-02-07 08:49:38      18460            3   \n",
       "6   1926  Sclerodermasucks17-2021-02-07 15:52:44       2052            4   \n",
       "7   2733            bachuket-2021-02-07 14:06:11       2773            6   \n",
       "8    747          sugurkewbz-2021-02-07 20:25:39       1312            6   \n",
       "\n",
       "        avg_ups       ups_std  \n",
       "0  14561.666667  25205.092032  \n",
       "3   6153.333333  10645.761801  \n",
       "6    513.000000    943.192805  \n",
       "7    462.166667   1112.479288  \n",
       "8    218.666667    334.255391  "
      ]
     },
     "execution_count": 10,
     "metadata": {},
     "output_type": "execute_result"
    }
   ],
   "source": [
    "df.head()"
   ]
  },
  {
   "cell_type": "code",
   "execution_count": 11,
   "metadata": {},
   "outputs": [
    {
     "name": "stdout",
     "output_type": "stream",
     "text": [
      "Anzahl Autoren: 3656\n",
      "Autoren:  ['sugurkewbz' 'sonofman888' 'kay_lerr' 'Joshtice' 'muh-liss' 'Razultull'\n",
      " 'originalarcmoon' 'zyphersd' 'chewy_pnt' 'StormySMommi' 'Mel_Zetz'\n",
      " 'LittlePupper69' 'Ken-dee-rah' 'revisedbusmall' 'ryanvenema' 'DumbestBoy'\n",
      " 'mariapronina' 'crawlspeed' 'fazik93' 'Mortadelllla' 'Newtothis1968'\n",
      " 'budgetmeatball' 'DrDankologist' 'friedtummis' 'TheLadyEve' 'ThePieous'\n",
      " 'Second_Woodsman' 'HerculesMulligatawny' 'Coombsey02' 'SoonerMagic10'\n",
      " 'rossposse' 'violetpiano' 'MayushiiBestGurl' 'IamAllAboutFood'\n",
      " 'iluvpotions' 'lilbismyfriend2013' 'bpip18' 'kllylwrnc' 'mikopotato1995'\n",
      " 'iKorith' 'Robbored' 'tipsyzeke' 'price0416' 'Billtheguide' 'NeilCaf22'\n",
      " 'ekthc' 'silverrizzla' 'DField118' 'thisismybakingreddit' 'ohmy1027'\n",
      " 'Turtle9015' 'flexflexson' 'jamieldavies93' 'BurtDBurt' 'NillaWayfarer'\n",
      " 'ChurchOfTheBrokenGod' 'blessantsblants' 'nguzma411' 'treasuredmeat'\n",
      " 'DanasPaperFlowers' 'wrayngler' 'Itsme66604' 'edubkendo'\n",
      " 'turkey_sandwich87' 'mrsfran' 'lundrog' 'Cromeon' 'kytran40'\n",
      " 'bobbiebakes' 'rsyeah' 'mbwebb' 'subarumtber' '_sJiff' 'quan1979'\n",
      " 'terprozer' 'Terrencify' 'Bohu02' 'triplecute' 'Bourbon_Werewolf'\n",
      " 'TheApeEscaped' 'Veebybeeby' 'HI_I_AM_YOUR_UNCLE' 'SpaceZombiePig'\n",
      " 'shesasonrisa' 'dev-pf' 'Holiday-Campaign7106' 'Opfailicon'\n",
      " 'Wordsworth_Little' 'Impossible-Ad-118' 'jag2019']\n"
     ]
    },
    {
     "data": {
      "text/html": [
       "<div>\n",
       "<style scoped>\n",
       "    .dataframe tbody tr th:only-of-type {\n",
       "        vertical-align: middle;\n",
       "    }\n",
       "\n",
       "    .dataframe tbody tr th {\n",
       "        vertical-align: top;\n",
       "    }\n",
       "\n",
       "    .dataframe thead th {\n",
       "        text-align: right;\n",
       "    }\n",
       "</style>\n",
       "<table border=\"1\" class=\"dataframe\">\n",
       "  <thead>\n",
       "    <tr style=\"text-align: right;\">\n",
       "      <th></th>\n",
       "      <th>author</th>\n",
       "      <th>ups_total</th>\n",
       "      <th>posts_total</th>\n",
       "      <th>avg_ups</th>\n",
       "      <th>ups_std</th>\n",
       "    </tr>\n",
       "  </thead>\n",
       "  <tbody>\n",
       "    <tr>\n",
       "      <th>788471</th>\n",
       "      <td>SoonerMagic10</td>\n",
       "      <td>1881</td>\n",
       "      <td>35</td>\n",
       "      <td>53.742857</td>\n",
       "      <td>180.771768</td>\n",
       "    </tr>\n",
       "    <tr>\n",
       "      <th>8</th>\n",
       "      <td>sugurkewbz</td>\n",
       "      <td>1312</td>\n",
       "      <td>6</td>\n",
       "      <td>218.666667</td>\n",
       "      <td>334.255391</td>\n",
       "    </tr>\n",
       "    <tr>\n",
       "      <th>711184</th>\n",
       "      <td>kytran40</td>\n",
       "      <td>1080</td>\n",
       "      <td>16</td>\n",
       "      <td>67.500000</td>\n",
       "      <td>160.335482</td>\n",
       "    </tr>\n",
       "    <tr>\n",
       "      <th>610027</th>\n",
       "      <td>triplecute</td>\n",
       "      <td>869</td>\n",
       "      <td>9</td>\n",
       "      <td>96.555556</td>\n",
       "      <td>212.442410</td>\n",
       "    </tr>\n",
       "    <tr>\n",
       "      <th>203671</th>\n",
       "      <td>sonofman888</td>\n",
       "      <td>817</td>\n",
       "      <td>4</td>\n",
       "      <td>204.250000</td>\n",
       "      <td>392.502548</td>\n",
       "    </tr>\n",
       "    <tr>\n",
       "      <th>...</th>\n",
       "      <td>...</td>\n",
       "      <td>...</td>\n",
       "      <td>...</td>\n",
       "      <td>...</td>\n",
       "      <td>...</td>\n",
       "    </tr>\n",
       "    <tr>\n",
       "      <th>374233</th>\n",
       "      <td>Turtle9015</td>\n",
       "      <td>65</td>\n",
       "      <td>2</td>\n",
       "      <td>32.500000</td>\n",
       "      <td>20.506097</td>\n",
       "    </tr>\n",
       "    <tr>\n",
       "      <th>412095</th>\n",
       "      <td>ChurchOfTheBrokenGod</td>\n",
       "      <td>64</td>\n",
       "      <td>2</td>\n",
       "      <td>32.000000</td>\n",
       "      <td>29.698485</td>\n",
       "    </tr>\n",
       "    <tr>\n",
       "      <th>729369</th>\n",
       "      <td>ryanvenema</td>\n",
       "      <td>63</td>\n",
       "      <td>2</td>\n",
       "      <td>31.500000</td>\n",
       "      <td>31.819805</td>\n",
       "    </tr>\n",
       "    <tr>\n",
       "      <th>265584</th>\n",
       "      <td>price0416</td>\n",
       "      <td>62</td>\n",
       "      <td>2</td>\n",
       "      <td>31.000000</td>\n",
       "      <td>29.698485</td>\n",
       "    </tr>\n",
       "    <tr>\n",
       "      <th>729712</th>\n",
       "      <td>dev-pf</td>\n",
       "      <td>61</td>\n",
       "      <td>2</td>\n",
       "      <td>30.500000</td>\n",
       "      <td>33.234019</td>\n",
       "    </tr>\n",
       "  </tbody>\n",
       "</table>\n",
       "<p>90 rows × 5 columns</p>\n",
       "</div>"
      ],
      "text/plain": [
       "                      author  ups_total  posts_total     avg_ups     ups_std\n",
       "788471         SoonerMagic10       1881           35   53.742857  180.771768\n",
       "8                 sugurkewbz       1312            6  218.666667  334.255391\n",
       "711184              kytran40       1080           16   67.500000  160.335482\n",
       "610027            triplecute        869            9   96.555556  212.442410\n",
       "203671           sonofman888        817            4  204.250000  392.502548\n",
       "...                      ...        ...          ...         ...         ...\n",
       "374233            Turtle9015         65            2   32.500000   20.506097\n",
       "412095  ChurchOfTheBrokenGod         64            2   32.000000   29.698485\n",
       "729369            ryanvenema         63            2   31.500000   31.819805\n",
       "265584             price0416         62            2   31.000000   29.698485\n",
       "729712                dev-pf         61            2   30.500000   33.234019\n",
       "\n",
       "[90 rows x 5 columns]"
      ]
     },
     "execution_count": 11,
     "metadata": {},
     "output_type": "execute_result"
    }
   ],
   "source": [
    "# select 2 df\n",
    "#df[df['avg_ups'] > df['avg_ups'].quantile(.95)]['ups_total'].min()\n",
    "avg_df = df[df['avg_ups'] > df['avg_ups'].quantile(.95)]\n",
    "std_df = df[df['ups_std'] < df['ups_std'].quantile(.99)]\n",
    "\n",
    "top_author = pd.merge(std_df, avg_df, on='author')\n",
    "print('Anzahl Autoren:',top_author['author'].count())\n",
    "print('Autoren: ',top_author['author'].unique())\n",
    "\n",
    "top_author = df[df['author'].isin(top_author['author'].unique())].sort_values(by='ups_total', ascending=False)\n",
    "top_author.drop_duplicates(inplace=True, subset='author')\n",
    "top_author.drop(inplace = True, columns=['post_id', 'title', 'ups'])\n",
    "top_author"
   ]
  },
  {
   "cell_type": "markdown",
   "metadata": {},
   "source": [
    "## Die Besten Poster\n",
    "\n",
    "Kriterien:\n",
    "\n",
    "- Mindestens 2 Posts im Subreddit\n",
    "- Top 5% der meisthochgewählten Autoren\n",
    "- Durchschnittsgute User (untere 99% der Standardabweichung im Streuungsmaß)\n",
    "\n",
    "\n",
    "User mit den meisten Upvotes: SoonerMagic10\n",
    "- 1881 Upvotes in total, 35 posts, 53 avg upvotes\n",
    "\n",
    "User mit den meisten durchschnittlichen Upvotes: sugurkewbz\n",
    "- 1312 Upvotes in total, 6 posts, 219 avg upvotes\n",
    "\n",
    "User mit den meisten Posts: SoonerMagic10\n",
    "- 1881 Upvotes in total, 35 posts, 53avg upvotes"
   ]
  },
  {
   "cell_type": "markdown",
   "metadata": {},
   "source": [
    "## Schlussfolgerung\n",
    "\n",
    "Angesichts der Tatsache, dass die von uns als konsistent am besten bewerteten Nutzer noch relativ wenig Upvotes im Vergleich zu besten Posts haben und wenig Posts im Vergleich zu der Anzahl an Posts haben, schlussfolgern wir, dass r/food keine User besonders gegenüber anderen bevorzugt. \n",
    "\n",
    "Selbst ein so guter Poster hat durchschnittlich weniger Erfolg, als ein Top-Post eines jeweiligen Tages. Die Top-Posts die wir auf der Startseite in 'hot' sehen, sind somit alle für sich selbst als one-hit-wonder zu beschreiben und kein User schafft es, konsistent solche beeindruckenden Posts zu erstellen."
   ]
  },
  {
   "cell_type": "markdown",
   "metadata": {},
   "source": [
    "# 5. Anzahl der Ups in Abhängigkeit der Anzahl der Posts eines jeweiligen Autors"
   ]
  },
  {
   "cell_type": "code",
   "execution_count": 12,
   "metadata": {},
   "outputs": [],
   "source": [
    "df = top_author"
   ]
  },
  {
   "cell_type": "code",
   "execution_count": 13,
   "metadata": {},
   "outputs": [],
   "source": [
    "import seaborn as sns"
   ]
  },
  {
   "cell_type": "code",
   "execution_count": 14,
   "metadata": {},
   "outputs": [
    {
     "data": {
      "text/plain": [
       "<seaborn.axisgrid.FacetGrid at 0x2ab3cbd40c8>"
      ]
     },
     "execution_count": 14,
     "metadata": {},
     "output_type": "execute_result"
    },
    {
     "data": {
      "image/png": "[encoded data removed]",
      "text/plain": [
       "<Figure size 360x360 with 1 Axes>"
      ]
     },
     "metadata": {
      "needs_background": "light"
     },
     "output_type": "display_data"
    }
   ],
   "source": [
    "sns.relplot(\n",
    "    data=df, kind=\"line\",\n",
    "    x=\"posts_total\", y=\"ups_total\")"
   ]
  },
  {
   "cell_type": "code",
   "execution_count": 15,
   "metadata": {},
   "outputs": [
    {
     "data": {
      "text/plain": [
       "<seaborn.axisgrid.FacetGrid at 0x2ab3c222408>"
      ]
     },
     "execution_count": 15,
     "metadata": {},
     "output_type": "execute_result"
    },
    {
     "data": {
      "image/png": "[encoded data removed]",
      "text/plain": [
       "<Figure size 360x360 with 1 Axes>"
      ]
     },
     "metadata": {
      "needs_background": "light"
     },
     "output_type": "display_data"
    }
   ],
   "source": [
    "sns.relplot(\n",
    "    data=df, kind=\"line\",\n",
    "    x=\"posts_total\", y=\"avg_ups\")"
   ]
  },
  {
   "cell_type": "markdown",
   "metadata": {},
   "source": [
    "# 11. Anzahl der Ups über die Zeit"
   ]
  },
  {
   "cell_type": "code",
   "execution_count": 16,
   "metadata": {},
   "outputs": [],
   "source": [
    "df = pd.read_sql(\"SELECT * FROM reddit\", db_connection)"
   ]
  },
  {
   "cell_type": "code",
   "execution_count": 17,
   "metadata": {},
   "outputs": [],
   "source": [
    "#df = df[:5000]"
   ]
  },
  {
   "cell_type": "code",
   "execution_count": 18,
   "metadata": {},
   "outputs": [],
   "source": [
    "df['author_title'] = df['author'] + ' - ' + df['title']"
   ]
  },
  {
   "cell_type": "code",
   "execution_count": 19,
   "metadata": {},
   "outputs": [],
   "source": [
    "author_title_list = df['author_title'].unique()\n",
    "author_title_dict = dict.fromkeys(author_title_list)"
   ]
  },
  {
   "cell_type": "code",
   "execution_count": 20,
   "metadata": {},
   "outputs": [],
   "source": [
    "# Achtung, dauert einen Moment\n",
    "for author_title in author_title_list:\n",
    "    #print('Working on: ', author_title)\n",
    "    temp_df = df[df['author_title'] == author_title]\n",
    "    \n",
    "    mylist = []\n",
    "    for idx, row in temp_df.iterrows():\n",
    "        mylist.append(row['ups'])\n",
    "    mylist.sort()\n",
    "    \n",
    "    author_title_dict[author_title] = mylist"
   ]
  },
  {
   "cell_type": "code",
   "execution_count": 21,
   "metadata": {},
   "outputs": [],
   "source": [
    "#author_title_dict"
   ]
  },
  {
   "cell_type": "code",
   "execution_count": 22,
   "metadata": {},
   "outputs": [
    {
     "data": {
      "text/html": [
       "<div>\n",
       "<style scoped>\n",
       "    .dataframe tbody tr th:only-of-type {\n",
       "        vertical-align: middle;\n",
       "    }\n",
       "\n",
       "    .dataframe tbody tr th {\n",
       "        vertical-align: top;\n",
       "    }\n",
       "\n",
       "    .dataframe thead th {\n",
       "        text-align: right;\n",
       "    }\n",
       "</style>\n",
       "<table border=\"1\" class=\"dataframe\">\n",
       "  <thead>\n",
       "    <tr style=\"text-align: right;\">\n",
       "      <th></th>\n",
       "      <th>0</th>\n",
       "      <th>1</th>\n",
       "      <th>2</th>\n",
       "      <th>3</th>\n",
       "      <th>4</th>\n",
       "      <th>5</th>\n",
       "      <th>6</th>\n",
       "      <th>7</th>\n",
       "      <th>8</th>\n",
       "      <th>9</th>\n",
       "      <th>...</th>\n",
       "      <th>417</th>\n",
       "      <th>418</th>\n",
       "      <th>419</th>\n",
       "      <th>420</th>\n",
       "      <th>421</th>\n",
       "      <th>422</th>\n",
       "      <th>423</th>\n",
       "      <th>424</th>\n",
       "      <th>425</th>\n",
       "      <th>426</th>\n",
       "    </tr>\n",
       "  </thead>\n",
       "  <tbody>\n",
       "    <tr>\n",
       "      <th>daynestxbbq - [PRO/CHEF] Texas Barbecue Platter</th>\n",
       "      <td>43666.0</td>\n",
       "      <td>43755.0</td>\n",
       "      <td>44115.0</td>\n",
       "      <td>44520.0</td>\n",
       "      <td>44974.0</td>\n",
       "      <td>45377.0</td>\n",
       "      <td>45779.0</td>\n",
       "      <td>46178.0</td>\n",
       "      <td>46621.0</td>\n",
       "      <td>47028.0</td>\n",
       "      <td>...</td>\n",
       "      <td>NaN</td>\n",
       "      <td>NaN</td>\n",
       "      <td>NaN</td>\n",
       "      <td>NaN</td>\n",
       "      <td>NaN</td>\n",
       "      <td>NaN</td>\n",
       "      <td>NaN</td>\n",
       "      <td>NaN</td>\n",
       "      <td>NaN</td>\n",
       "      <td>NaN</td>\n",
       "    </tr>\n",
       "    <tr>\n",
       "      <th>jojofaye - [homemade] Whole lemon cake doughnuts with white chocolate ganache, lemon curd drizzle and white chocolate shavings</th>\n",
       "      <td>2508.0</td>\n",
       "      <td>2512.0</td>\n",
       "      <td>2517.0</td>\n",
       "      <td>2518.0</td>\n",
       "      <td>2521.0</td>\n",
       "      <td>2523.0</td>\n",
       "      <td>2536.0</td>\n",
       "      <td>2543.0</td>\n",
       "      <td>2552.0</td>\n",
       "      <td>2557.0</td>\n",
       "      <td>...</td>\n",
       "      <td>NaN</td>\n",
       "      <td>NaN</td>\n",
       "      <td>NaN</td>\n",
       "      <td>NaN</td>\n",
       "      <td>NaN</td>\n",
       "      <td>NaN</td>\n",
       "      <td>NaN</td>\n",
       "      <td>NaN</td>\n",
       "      <td>NaN</td>\n",
       "      <td>NaN</td>\n",
       "    </tr>\n",
       "    <tr>\n",
       "      <th>will20566 - [Homemade] Calamari</th>\n",
       "      <td>843.0</td>\n",
       "      <td>848.0</td>\n",
       "      <td>850.0</td>\n",
       "      <td>854.0</td>\n",
       "      <td>856.0</td>\n",
       "      <td>860.0</td>\n",
       "      <td>863.0</td>\n",
       "      <td>864.0</td>\n",
       "      <td>869.0</td>\n",
       "      <td>876.0</td>\n",
       "      <td>...</td>\n",
       "      <td>NaN</td>\n",
       "      <td>NaN</td>\n",
       "      <td>NaN</td>\n",
       "      <td>NaN</td>\n",
       "      <td>NaN</td>\n",
       "      <td>NaN</td>\n",
       "      <td>NaN</td>\n",
       "      <td>NaN</td>\n",
       "      <td>NaN</td>\n",
       "      <td>NaN</td>\n",
       "    </tr>\n",
       "    <tr>\n",
       "      <th>aka_scoch - [homemade] raspberry cream cake covered in Legos</th>\n",
       "      <td>18440.0</td>\n",
       "      <td>18445.0</td>\n",
       "      <td>18446.0</td>\n",
       "      <td>18446.0</td>\n",
       "      <td>18446.0</td>\n",
       "      <td>18447.0</td>\n",
       "      <td>18447.0</td>\n",
       "      <td>18447.0</td>\n",
       "      <td>18449.0</td>\n",
       "      <td>18449.0</td>\n",
       "      <td>...</td>\n",
       "      <td>NaN</td>\n",
       "      <td>NaN</td>\n",
       "      <td>NaN</td>\n",
       "      <td>NaN</td>\n",
       "      <td>NaN</td>\n",
       "      <td>NaN</td>\n",
       "      <td>NaN</td>\n",
       "      <td>NaN</td>\n",
       "      <td>NaN</td>\n",
       "      <td>NaN</td>\n",
       "    </tr>\n",
       "    <tr>\n",
       "      <th>Untoastedtoast390 - [homemade] “yogurt eggs and apple fries”</th>\n",
       "      <td>1313.0</td>\n",
       "      <td>1313.0</td>\n",
       "      <td>1319.0</td>\n",
       "      <td>1322.0</td>\n",
       "      <td>1327.0</td>\n",
       "      <td>1329.0</td>\n",
       "      <td>1343.0</td>\n",
       "      <td>1348.0</td>\n",
       "      <td>1349.0</td>\n",
       "      <td>1356.0</td>\n",
       "      <td>...</td>\n",
       "      <td>NaN</td>\n",
       "      <td>NaN</td>\n",
       "      <td>NaN</td>\n",
       "      <td>NaN</td>\n",
       "      <td>NaN</td>\n",
       "      <td>NaN</td>\n",
       "      <td>NaN</td>\n",
       "      <td>NaN</td>\n",
       "      <td>NaN</td>\n",
       "      <td>NaN</td>\n",
       "    </tr>\n",
       "  </tbody>\n",
       "</table>\n",
       "<p>5 rows × 427 columns</p>\n",
       "</div>"
      ],
      "text/plain": [
       "                                                        0        1        2    \\\n",
       "daynestxbbq - [PRO/CHEF] Texas Barbecue Platter     43666.0  43755.0  44115.0   \n",
       "jojofaye - [homemade] Whole lemon cake doughnut...   2508.0   2512.0   2517.0   \n",
       "will20566 - [Homemade] Calamari                       843.0    848.0    850.0   \n",
       "aka_scoch - [homemade] raspberry cream cake cov...  18440.0  18445.0  18446.0   \n",
       "Untoastedtoast390 - [homemade] “yogurt eggs and...   1313.0   1313.0   1319.0   \n",
       "\n",
       "                                                        3        4        5    \\\n",
       "daynestxbbq - [PRO/CHEF] Texas Barbecue Platter     44520.0  44974.0  45377.0   \n",
       "jojofaye - [homemade] Whole lemon cake doughnut...   2518.0   2521.0   2523.0   \n",
       "will20566 - [Homemade] Calamari                       854.0    856.0    860.0   \n",
       "aka_scoch - [homemade] raspberry cream cake cov...  18446.0  18446.0  18447.0   \n",
       "Untoastedtoast390 - [homemade] “yogurt eggs and...   1322.0   1327.0   1329.0   \n",
       "\n",
       "                                                        6        7        8    \\\n",
       "daynestxbbq - [PRO/CHEF] Texas Barbecue Platter     45779.0  46178.0  46621.0   \n",
       "jojofaye - [homemade] Whole lemon cake doughnut...   2536.0   2543.0   2552.0   \n",
       "will20566 - [Homemade] Calamari                       863.0    864.0    869.0   \n",
       "aka_scoch - [homemade] raspberry cream cake cov...  18447.0  18447.0  18449.0   \n",
       "Untoastedtoast390 - [homemade] “yogurt eggs and...   1343.0   1348.0   1349.0   \n",
       "\n",
       "                                                        9    ...  417  418  \\\n",
       "daynestxbbq - [PRO/CHEF] Texas Barbecue Platter     47028.0  ...  NaN  NaN   \n",
       "jojofaye - [homemade] Whole lemon cake doughnut...   2557.0  ...  NaN  NaN   \n",
       "will20566 - [Homemade] Calamari                       876.0  ...  NaN  NaN   \n",
       "aka_scoch - [homemade] raspberry cream cake cov...  18449.0  ...  NaN  NaN   \n",
       "Untoastedtoast390 - [homemade] “yogurt eggs and...   1356.0  ...  NaN  NaN   \n",
       "\n",
       "                                                    419  420  421  422  423  \\\n",
       "daynestxbbq - [PRO/CHEF] Texas Barbecue Platter     NaN  NaN  NaN  NaN  NaN   \n",
       "jojofaye - [homemade] Whole lemon cake doughnut...  NaN  NaN  NaN  NaN  NaN   \n",
       "will20566 - [Homemade] Calamari                     NaN  NaN  NaN  NaN  NaN   \n",
       "aka_scoch - [homemade] raspberry cream cake cov...  NaN  NaN  NaN  NaN  NaN   \n",
       "Untoastedtoast390 - [homemade] “yogurt eggs and...  NaN  NaN  NaN  NaN  NaN   \n",
       "\n",
       "                                                    424  425  426  \n",
       "daynestxbbq - [PRO/CHEF] Texas Barbecue Platter     NaN  NaN  NaN  \n",
       "jojofaye - [homemade] Whole lemon cake doughnut...  NaN  NaN  NaN  \n",
       "will20566 - [Homemade] Calamari                     NaN  NaN  NaN  \n",
       "aka_scoch - [homemade] raspberry cream cake cov...  NaN  NaN  NaN  \n",
       "Untoastedtoast390 - [homemade] “yogurt eggs and...  NaN  NaN  NaN  \n",
       "\n",
       "[5 rows x 427 columns]"
      ]
     },
     "execution_count": 22,
     "metadata": {},
     "output_type": "execute_result"
    }
   ],
   "source": [
    "author_title_df = pd.DataFrame(dict([ (k,pd.Series(v)) for k,v in author_title_dict.items() ]))\n",
    "author_title_df = author_title_df.T\n",
    "author_title_df.head(5)"
   ]
  },
  {
   "cell_type": "code",
   "execution_count": 23,
   "metadata": {},
   "outputs": [],
   "source": [
    "average_post = []\n",
    "for column in author_title_df.columns:\n",
    "    something = author_title_df.iloc[:, column].quantile(.95)\n",
    "    average_post.append(something)"
   ]
  },
  {
   "cell_type": "code",
   "execution_count": 24,
   "metadata": {},
   "outputs": [
    {
     "data": {
      "text/plain": [
       "<seaborn.axisgrid.FacetGrid at 0x2ab40161e08>"
      ]
     },
     "execution_count": 24,
     "metadata": {},
     "output_type": "execute_result"
    },
    {
     "data": {
      "image/png": "[encoded data removed]",
      "text/plain": [
       "<Figure size 360x360 with 1 Axes>"
      ]
     },
     "metadata": {
      "needs_background": "light"
     },
     "output_type": "display_data"
    }
   ],
   "source": [
    "# Das hier ist komplett scheiße. Wenn du das liest, solltest du den unteren Ansatz reparieren plox.\n",
    "# Damit hätte man dann so viele Quantile, wie man möchte im Plot.\n",
    "avg_post_dict = dict.fromkeys(average_post)\n",
    "for item in average_post:\n",
    "    avg_post_dict[item] = average_post.index(item)\n",
    "\n",
    "post_progression = pd.DataFrame(dict([ (k,pd.Series(v)) for k,v in avg_post_dict.items() ]))\n",
    "post_progression = post_progression.T\n",
    "post_progression['avg_post'] = post_progression.index\n",
    "post_progression['time_step'] = post_progression.iloc[:, 0]\n",
    "\n",
    "\n",
    "sns.relplot(\n",
    "    data=post_progression, kind=\"line\",\n",
    "    x=\"time_step\", y=\"avg_post\")"
   ]
  },
  {
   "cell_type": "code",
   "execution_count": 25,
   "metadata": {},
   "outputs": [],
   "source": [
    "# # https://pbpython.com/pandas-qcut-cut.html\n",
    "# # garbage funktioniert nicht\n",
    "# data_list = []\n",
    "\n",
    "# for column in author_title_df.columns:\n",
    "#     quantile, qcut_intervals = pd.qcut(author_title_df[column], q=5, precision=0, duplicates='drop',retbins=True)\n",
    "#     data_list.append(quantile)"
   ]
  },
  {
   "cell_type": "code",
   "execution_count": 26,
   "metadata": {},
   "outputs": [],
   "source": [
    "# progress_df = pd.DataFrame(data=data_list)\n",
    "# progress_df.head(15)"
   ]
  },
  {
   "cell_type": "code",
   "execution_count": 27,
   "metadata": {},
   "outputs": [],
   "source": [
    "# avg_post_progress = []\n",
    "# for column in progress_df.columns:\n",
    "#     # das hier sollte funktionieren, change my mind\n",
    "#     avg_post_progress.append(progress_df[column].mean())\n",
    "\n",
    "# Dieses scheiß letzte Statement funktioniert nicht. Und ich finde NIX dazu. Scheiß Intervalle."
   ]
  },
  {
   "cell_type": "code",
   "execution_count": null,
   "metadata": {},
   "outputs": [],
   "source": []
  },
  {
   "cell_type": "code",
   "execution_count": null,
   "metadata": {},
   "outputs": [],
   "source": []
  },
  {
   "cell_type": "code",
   "execution_count": null,
   "metadata": {},
   "outputs": [],
   "source": []
  },
  {
   "cell_type": "code",
   "execution_count": null,
   "metadata": {},
   "outputs": [],
   "source": []
  },
  {
   "cell_type": "code",
   "execution_count": null,
   "metadata": {},
   "outputs": [],
   "source": []
  },
  {
   "cell_type": "code",
   "execution_count": null,
   "metadata": {},
   "outputs": [],
   "source": []
  }
 ],
 "metadata": {
  "kernelspec": {
   "display_name": "Python 3",
   "language": "python",
   "name": "python3"
  },
  "language_info": {
   "codemirror_mode": {
    "name": "ipython",
    "version": 3
   },
   "file_extension": ".py",
   "mimetype": "text/x-python",
   "name": "python",
   "nbconvert_exporter": "python",
   "pygments_lexer": "ipython3",
   "version": "3.7.4"
  }
 },
 "nbformat": 4,
 "nbformat_minor": 4
}
